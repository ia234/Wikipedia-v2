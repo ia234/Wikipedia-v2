{
  "nbformat": 4,
  "nbformat_minor": 0,
  "metadata": {
    "colab": {
      "provenance": [],
      "toc_visible": true,
      "mount_file_id": "11wXi8lsPmXt7pR-qE6nSEUfeEix_tF5M",
      "authorship_tag": "ABX9TyO6/V4ab41bOLCs3WDe8WjQ",
      "include_colab_link": true
    },
    "kernelspec": {
      "name": "python3",
      "display_name": "Python 3"
    },
    "language_info": {
      "name": "python"
    }
  },
  "cells": [
    {
      "cell_type": "markdown",
      "metadata": {
        "id": "view-in-github",
        "colab_type": "text"
      },
      "source": [
        "<a href=\"https://colab.research.google.com/github/ia234/Wikipedia-v2/blob/main/W2_Fetch_Wikipedia_Articles_by_Names_Pipeline.ipynb\" target=\"_parent\"><img src=\"https://colab.research.google.com/assets/colab-badge.svg\" alt=\"Open In Colab\"/></a>"
      ]
    },
    {
      "cell_type": "code",
      "source": [
        "# Avoids scroll-in-the-scroll in the entire Notebook\n",
        "from IPython.display import Javascript\n",
        "def resize_colab_cell():\n",
        "  display(Javascript('google.colab.output.setIframeHeight(0, true, {maxHeight: 5000})'))\n",
        "get_ipython().events.register('pre_run_cell', resize_colab_cell)"
      ],
      "metadata": {
        "id": "5u3BQq2u6F43"
      },
      "execution_count": 1,
      "outputs": []
    },
    {
      "cell_type": "code",
      "execution_count": 2,
      "metadata": {
        "colab": {
          "base_uri": "https://localhost:8080/",
          "height": 35
        },
        "id": "tTUpmLA0un3h",
        "outputId": "4e9f9033-c45f-4bae-de24-9aaea7cd2e7c"
      },
      "outputs": [
        {
          "output_type": "display_data",
          "data": {
            "text/plain": [
              "<IPython.core.display.Javascript object>"
            ],
            "application/javascript": [
              "google.colab.output.setIframeHeight(0, true, {maxHeight: 5000})"
            ]
          },
          "metadata": {}
        },
        {
          "output_type": "stream",
          "name": "stdout",
          "text": [
            "/content/drive/MyDrive/ai_data\n"
          ]
        }
      ],
      "source": [
        "from google.colab import drive\n",
        "\n",
        "# drive.mount('/content/drive')\n",
        "%cd /content/drive/MyDrive/ai_data/"
      ]
    },
    {
      "cell_type": "code",
      "source": [
        "import pandas as pd\n",
        "\n",
        "# index_col = 0 specify the first column as the index.\n",
        "top_article_titles_df = pd.read_csv('/content/drive/MyDrive/ai_data/wikipedia_top_titles_2022.csv')\n",
        "top_article_titles_df"
      ],
      "metadata": {
        "colab": {
          "base_uri": "https://localhost:8080/",
          "height": 424
        },
        "id": "MZQnhFrMvmwr",
        "outputId": "2ade728a-75c3-4ab8-f283-02709cc549da"
      },
      "execution_count": 3,
      "outputs": [
        {
          "output_type": "display_data",
          "data": {
            "text/plain": [
              "<IPython.core.display.Javascript object>"
            ],
            "application/javascript": [
              "google.colab.output.setIframeHeight(0, true, {maxHeight: 5000})"
            ]
          },
          "metadata": {}
        },
        {
          "output_type": "execute_result",
          "data": {
            "text/plain": [
              "                        article        date   views  rank\n",
              "0                        يوتيوب  01/01/2022   18888   317\n",
              "1             كريستيانو رونالدو  17/01/2022   67422   246\n",
              "2                          محمد  01/01/2022   31424   175\n",
              "3                          أبشر  01/01/2022    9603   170\n",
              "4               كأس العالم 2022  19/01/2022  380824   163\n",
              "...                         ...         ...     ...   ...\n",
              "1627  عبد الله بن سليمان المنيع  05/01/2022    4565     1\n",
              "1628              عبد الله رشدي  01/01/2023    4878     1\n",
              "1629              عبد الله عباس  16/02/2022    4523     1\n",
              "1630              البابا فرنسيس  31/12/2022    6181     1\n",
              "1631                فاضل البراك  30/09/2022    5087     1\n",
              "\n",
              "[1632 rows x 4 columns]"
            ],
            "text/html": [
              "\n",
              "  <div id=\"df-5e7bad98-49e5-4d46-9fc8-cbdd656dd376\" class=\"colab-df-container\">\n",
              "    <div>\n",
              "<style scoped>\n",
              "    .dataframe tbody tr th:only-of-type {\n",
              "        vertical-align: middle;\n",
              "    }\n",
              "\n",
              "    .dataframe tbody tr th {\n",
              "        vertical-align: top;\n",
              "    }\n",
              "\n",
              "    .dataframe thead th {\n",
              "        text-align: right;\n",
              "    }\n",
              "</style>\n",
              "<table border=\"1\" class=\"dataframe\">\n",
              "  <thead>\n",
              "    <tr style=\"text-align: right;\">\n",
              "      <th></th>\n",
              "      <th>article</th>\n",
              "      <th>date</th>\n",
              "      <th>views</th>\n",
              "      <th>rank</th>\n",
              "    </tr>\n",
              "  </thead>\n",
              "  <tbody>\n",
              "    <tr>\n",
              "      <th>0</th>\n",
              "      <td>يوتيوب</td>\n",
              "      <td>01/01/2022</td>\n",
              "      <td>18888</td>\n",
              "      <td>317</td>\n",
              "    </tr>\n",
              "    <tr>\n",
              "      <th>1</th>\n",
              "      <td>كريستيانو رونالدو</td>\n",
              "      <td>17/01/2022</td>\n",
              "      <td>67422</td>\n",
              "      <td>246</td>\n",
              "    </tr>\n",
              "    <tr>\n",
              "      <th>2</th>\n",
              "      <td>محمد</td>\n",
              "      <td>01/01/2022</td>\n",
              "      <td>31424</td>\n",
              "      <td>175</td>\n",
              "    </tr>\n",
              "    <tr>\n",
              "      <th>3</th>\n",
              "      <td>أبشر</td>\n",
              "      <td>01/01/2022</td>\n",
              "      <td>9603</td>\n",
              "      <td>170</td>\n",
              "    </tr>\n",
              "    <tr>\n",
              "      <th>4</th>\n",
              "      <td>كأس العالم 2022</td>\n",
              "      <td>19/01/2022</td>\n",
              "      <td>380824</td>\n",
              "      <td>163</td>\n",
              "    </tr>\n",
              "    <tr>\n",
              "      <th>...</th>\n",
              "      <td>...</td>\n",
              "      <td>...</td>\n",
              "      <td>...</td>\n",
              "      <td>...</td>\n",
              "    </tr>\n",
              "    <tr>\n",
              "      <th>1627</th>\n",
              "      <td>عبد الله بن سليمان المنيع</td>\n",
              "      <td>05/01/2022</td>\n",
              "      <td>4565</td>\n",
              "      <td>1</td>\n",
              "    </tr>\n",
              "    <tr>\n",
              "      <th>1628</th>\n",
              "      <td>عبد الله رشدي</td>\n",
              "      <td>01/01/2023</td>\n",
              "      <td>4878</td>\n",
              "      <td>1</td>\n",
              "    </tr>\n",
              "    <tr>\n",
              "      <th>1629</th>\n",
              "      <td>عبد الله عباس</td>\n",
              "      <td>16/02/2022</td>\n",
              "      <td>4523</td>\n",
              "      <td>1</td>\n",
              "    </tr>\n",
              "    <tr>\n",
              "      <th>1630</th>\n",
              "      <td>البابا فرنسيس</td>\n",
              "      <td>31/12/2022</td>\n",
              "      <td>6181</td>\n",
              "      <td>1</td>\n",
              "    </tr>\n",
              "    <tr>\n",
              "      <th>1631</th>\n",
              "      <td>فاضل البراك</td>\n",
              "      <td>30/09/2022</td>\n",
              "      <td>5087</td>\n",
              "      <td>1</td>\n",
              "    </tr>\n",
              "  </tbody>\n",
              "</table>\n",
              "<p>1632 rows × 4 columns</p>\n",
              "</div>\n",
              "    <div class=\"colab-df-buttons\">\n",
              "\n",
              "  <div class=\"colab-df-container\">\n",
              "    <button class=\"colab-df-convert\" onclick=\"convertToInteractive('df-5e7bad98-49e5-4d46-9fc8-cbdd656dd376')\"\n",
              "            title=\"Convert this dataframe to an interactive table.\"\n",
              "            style=\"display:none;\">\n",
              "\n",
              "  <svg xmlns=\"http://www.w3.org/2000/svg\" height=\"24px\" viewBox=\"0 -960 960 960\">\n",
              "    <path d=\"M120-120v-720h720v720H120Zm60-500h600v-160H180v160Zm220 220h160v-160H400v160Zm0 220h160v-160H400v160ZM180-400h160v-160H180v160Zm440 0h160v-160H620v160ZM180-180h160v-160H180v160Zm440 0h160v-160H620v160Z\"/>\n",
              "  </svg>\n",
              "    </button>\n",
              "\n",
              "  <style>\n",
              "    .colab-df-container {\n",
              "      display:flex;\n",
              "      gap: 12px;\n",
              "    }\n",
              "\n",
              "    .colab-df-convert {\n",
              "      background-color: #E8F0FE;\n",
              "      border: none;\n",
              "      border-radius: 50%;\n",
              "      cursor: pointer;\n",
              "      display: none;\n",
              "      fill: #1967D2;\n",
              "      height: 32px;\n",
              "      padding: 0 0 0 0;\n",
              "      width: 32px;\n",
              "    }\n",
              "\n",
              "    .colab-df-convert:hover {\n",
              "      background-color: #E2EBFA;\n",
              "      box-shadow: 0px 1px 2px rgba(60, 64, 67, 0.3), 0px 1px 3px 1px rgba(60, 64, 67, 0.15);\n",
              "      fill: #174EA6;\n",
              "    }\n",
              "\n",
              "    .colab-df-buttons div {\n",
              "      margin-bottom: 4px;\n",
              "    }\n",
              "\n",
              "    [theme=dark] .colab-df-convert {\n",
              "      background-color: #3B4455;\n",
              "      fill: #D2E3FC;\n",
              "    }\n",
              "\n",
              "    [theme=dark] .colab-df-convert:hover {\n",
              "      background-color: #434B5C;\n",
              "      box-shadow: 0px 1px 3px 1px rgba(0, 0, 0, 0.15);\n",
              "      filter: drop-shadow(0px 1px 2px rgba(0, 0, 0, 0.3));\n",
              "      fill: #FFFFFF;\n",
              "    }\n",
              "  </style>\n",
              "\n",
              "    <script>\n",
              "      const buttonEl =\n",
              "        document.querySelector('#df-5e7bad98-49e5-4d46-9fc8-cbdd656dd376 button.colab-df-convert');\n",
              "      buttonEl.style.display =\n",
              "        google.colab.kernel.accessAllowed ? 'block' : 'none';\n",
              "\n",
              "      async function convertToInteractive(key) {\n",
              "        const element = document.querySelector('#df-5e7bad98-49e5-4d46-9fc8-cbdd656dd376');\n",
              "        const dataTable =\n",
              "          await google.colab.kernel.invokeFunction('convertToInteractive',\n",
              "                                                    [key], {});\n",
              "        if (!dataTable) return;\n",
              "\n",
              "        const docLinkHtml = 'Like what you see? Visit the ' +\n",
              "          '<a target=\"_blank\" href=https://colab.research.google.com/notebooks/data_table.ipynb>data table notebook</a>'\n",
              "          + ' to learn more about interactive tables.';\n",
              "        element.innerHTML = '';\n",
              "        dataTable['output_type'] = 'display_data';\n",
              "        await google.colab.output.renderOutput(dataTable, element);\n",
              "        const docLink = document.createElement('div');\n",
              "        docLink.innerHTML = docLinkHtml;\n",
              "        element.appendChild(docLink);\n",
              "      }\n",
              "    </script>\n",
              "  </div>\n",
              "\n",
              "\n",
              "<div id=\"df-47dad6e9-bdbb-479d-be01-2e470e2803e0\">\n",
              "  <button class=\"colab-df-quickchart\" onclick=\"quickchart('df-47dad6e9-bdbb-479d-be01-2e470e2803e0')\"\n",
              "            title=\"Suggest charts.\"\n",
              "            style=\"display:none;\">\n",
              "\n",
              "<svg xmlns=\"http://www.w3.org/2000/svg\" height=\"24px\"viewBox=\"0 0 24 24\"\n",
              "     width=\"24px\">\n",
              "    <g>\n",
              "        <path d=\"M19 3H5c-1.1 0-2 .9-2 2v14c0 1.1.9 2 2 2h14c1.1 0 2-.9 2-2V5c0-1.1-.9-2-2-2zM9 17H7v-7h2v7zm4 0h-2V7h2v10zm4 0h-2v-4h2v4z\"/>\n",
              "    </g>\n",
              "</svg>\n",
              "  </button>\n",
              "\n",
              "<style>\n",
              "  .colab-df-quickchart {\n",
              "      --bg-color: #E8F0FE;\n",
              "      --fill-color: #1967D2;\n",
              "      --hover-bg-color: #E2EBFA;\n",
              "      --hover-fill-color: #174EA6;\n",
              "      --disabled-fill-color: #AAA;\n",
              "      --disabled-bg-color: #DDD;\n",
              "  }\n",
              "\n",
              "  [theme=dark] .colab-df-quickchart {\n",
              "      --bg-color: #3B4455;\n",
              "      --fill-color: #D2E3FC;\n",
              "      --hover-bg-color: #434B5C;\n",
              "      --hover-fill-color: #FFFFFF;\n",
              "      --disabled-bg-color: #3B4455;\n",
              "      --disabled-fill-color: #666;\n",
              "  }\n",
              "\n",
              "  .colab-df-quickchart {\n",
              "    background-color: var(--bg-color);\n",
              "    border: none;\n",
              "    border-radius: 50%;\n",
              "    cursor: pointer;\n",
              "    display: none;\n",
              "    fill: var(--fill-color);\n",
              "    height: 32px;\n",
              "    padding: 0;\n",
              "    width: 32px;\n",
              "  }\n",
              "\n",
              "  .colab-df-quickchart:hover {\n",
              "    background-color: var(--hover-bg-color);\n",
              "    box-shadow: 0 1px 2px rgba(60, 64, 67, 0.3), 0 1px 3px 1px rgba(60, 64, 67, 0.15);\n",
              "    fill: var(--button-hover-fill-color);\n",
              "  }\n",
              "\n",
              "  .colab-df-quickchart-complete:disabled,\n",
              "  .colab-df-quickchart-complete:disabled:hover {\n",
              "    background-color: var(--disabled-bg-color);\n",
              "    fill: var(--disabled-fill-color);\n",
              "    box-shadow: none;\n",
              "  }\n",
              "\n",
              "  .colab-df-spinner {\n",
              "    border: 2px solid var(--fill-color);\n",
              "    border-color: transparent;\n",
              "    border-bottom-color: var(--fill-color);\n",
              "    animation:\n",
              "      spin 1s steps(1) infinite;\n",
              "  }\n",
              "\n",
              "  @keyframes spin {\n",
              "    0% {\n",
              "      border-color: transparent;\n",
              "      border-bottom-color: var(--fill-color);\n",
              "      border-left-color: var(--fill-color);\n",
              "    }\n",
              "    20% {\n",
              "      border-color: transparent;\n",
              "      border-left-color: var(--fill-color);\n",
              "      border-top-color: var(--fill-color);\n",
              "    }\n",
              "    30% {\n",
              "      border-color: transparent;\n",
              "      border-left-color: var(--fill-color);\n",
              "      border-top-color: var(--fill-color);\n",
              "      border-right-color: var(--fill-color);\n",
              "    }\n",
              "    40% {\n",
              "      border-color: transparent;\n",
              "      border-right-color: var(--fill-color);\n",
              "      border-top-color: var(--fill-color);\n",
              "    }\n",
              "    60% {\n",
              "      border-color: transparent;\n",
              "      border-right-color: var(--fill-color);\n",
              "    }\n",
              "    80% {\n",
              "      border-color: transparent;\n",
              "      border-right-color: var(--fill-color);\n",
              "      border-bottom-color: var(--fill-color);\n",
              "    }\n",
              "    90% {\n",
              "      border-color: transparent;\n",
              "      border-bottom-color: var(--fill-color);\n",
              "    }\n",
              "  }\n",
              "</style>\n",
              "\n",
              "  <script>\n",
              "    async function quickchart(key) {\n",
              "      const quickchartButtonEl =\n",
              "        document.querySelector('#' + key + ' button');\n",
              "      quickchartButtonEl.disabled = true;  // To prevent multiple clicks.\n",
              "      quickchartButtonEl.classList.add('colab-df-spinner');\n",
              "      try {\n",
              "        const charts = await google.colab.kernel.invokeFunction(\n",
              "            'suggestCharts', [key], {});\n",
              "      } catch (error) {\n",
              "        console.error('Error during call to suggestCharts:', error);\n",
              "      }\n",
              "      quickchartButtonEl.classList.remove('colab-df-spinner');\n",
              "      quickchartButtonEl.classList.add('colab-df-quickchart-complete');\n",
              "    }\n",
              "    (() => {\n",
              "      let quickchartButtonEl =\n",
              "        document.querySelector('#df-47dad6e9-bdbb-479d-be01-2e470e2803e0 button');\n",
              "      quickchartButtonEl.style.display =\n",
              "        google.colab.kernel.accessAllowed ? 'block' : 'none';\n",
              "    })();\n",
              "  </script>\n",
              "</div>\n",
              "    </div>\n",
              "  </div>\n"
            ]
          },
          "metadata": {},
          "execution_count": 3
        }
      ]
    },
    {
      "cell_type": "code",
      "source": [
        "import pandas as pd\n",
        "top_article_titles_list = top_article_titles_df.to_dict(orient='records')\n",
        "top_article_titles_list[0]"
      ],
      "metadata": {
        "colab": {
          "base_uri": "https://localhost:8080/",
          "height": 35
        },
        "id": "xK49pUo4L4Mg",
        "outputId": "178e2225-a764-42c2-efaa-1c38b499b3f9"
      },
      "execution_count": 4,
      "outputs": [
        {
          "output_type": "display_data",
          "data": {
            "text/plain": [
              "<IPython.core.display.Javascript object>"
            ],
            "application/javascript": [
              "google.colab.output.setIframeHeight(0, true, {maxHeight: 5000})"
            ]
          },
          "metadata": {}
        },
        {
          "output_type": "execute_result",
          "data": {
            "text/plain": [
              "{'article': 'يوتيوب', 'date': '01/01/2022', 'views': 18888, 'rank': 317}"
            ]
          },
          "metadata": {},
          "execution_count": 4
        }
      ]
    },
    {
      "cell_type": "code",
      "source": [
        "top_article_titles_list[839]"
      ],
      "metadata": {
        "colab": {
          "base_uri": "https://localhost:8080/",
          "height": 35
        },
        "id": "DgVm5OtBnkH4",
        "outputId": "780ddea4-327a-4b65-9108-aa5aa503ef22"
      },
      "execution_count": 5,
      "outputs": [
        {
          "output_type": "display_data",
          "data": {
            "text/plain": [
              "<IPython.core.display.Javascript object>"
            ],
            "application/javascript": [
              "google.colab.output.setIframeHeight(0, true, {maxHeight: 5000})"
            ]
          },
          "metadata": {}
        },
        {
          "output_type": "execute_result",
          "data": {
            "text/plain": [
              "{'article': 'حسن أبو السعود', 'date': '20/07/2022', 'views': 7035, 'rank': 2}"
            ]
          },
          "metadata": {},
          "execution_count": 5
        }
      ]
    },
    {
      "cell_type": "code",
      "source": [
        "top_article_titles_list[839]['article']"
      ],
      "metadata": {
        "colab": {
          "base_uri": "https://localhost:8080/",
          "height": 35
        },
        "id": "3fyFV8Ant-l3",
        "outputId": "eec42170-562f-4675-a286-e6eed212b553"
      },
      "execution_count": 6,
      "outputs": [
        {
          "output_type": "display_data",
          "data": {
            "text/plain": [
              "<IPython.core.display.Javascript object>"
            ],
            "application/javascript": [
              "google.colab.output.setIframeHeight(0, true, {maxHeight: 5000})"
            ]
          },
          "metadata": {}
        },
        {
          "output_type": "execute_result",
          "data": {
            "text/plain": [
              "'حسن أبو السعود'"
            ],
            "application/vnd.google.colaboratory.intrinsic+json": {
              "type": "string"
            }
          },
          "metadata": {},
          "execution_count": 6
        }
      ]
    },
    {
      "cell_type": "code",
      "source": [
        "# current_article = wikipedia.page('أوتافيو (لاعب كرة قدم، مواليد 1995)')\n",
        "# PageError: Page id \"أوتافيو لاعب كرة قدم مولد 1999\" does not match any pages. Try another id!"
      ],
      "metadata": {
        "colab": {
          "base_uri": "https://localhost:8080/",
          "height": 17
        },
        "id": "-1LLEbSmtzgL",
        "outputId": "3d01618e-be28-4057-b9c5-dfc8410c7b79"
      },
      "execution_count": 7,
      "outputs": [
        {
          "output_type": "display_data",
          "data": {
            "text/plain": [
              "<IPython.core.display.Javascript object>"
            ],
            "application/javascript": [
              "google.colab.output.setIframeHeight(0, true, {maxHeight: 5000})"
            ]
          },
          "metadata": {}
        }
      ]
    },
    {
      "cell_type": "code",
      "source": [
        "len(top_article_titles_list)"
      ],
      "metadata": {
        "colab": {
          "base_uri": "https://localhost:8080/",
          "height": 35
        },
        "id": "M0fdwTneMlil",
        "outputId": "3ee1d02b-d09e-4ab0-b030-146e17dc46ab"
      },
      "execution_count": 8,
      "outputs": [
        {
          "output_type": "display_data",
          "data": {
            "text/plain": [
              "<IPython.core.display.Javascript object>"
            ],
            "application/javascript": [
              "google.colab.output.setIframeHeight(0, true, {maxHeight: 5000})"
            ]
          },
          "metadata": {}
        },
        {
          "output_type": "execute_result",
          "data": {
            "text/plain": [
              "1632"
            ]
          },
          "metadata": {},
          "execution_count": 8
        }
      ]
    },
    {
      "cell_type": "code",
      "source": [
        "top_article_titles_list[0:2]"
      ],
      "metadata": {
        "colab": {
          "base_uri": "https://localhost:8080/",
          "height": 106
        },
        "id": "fuzwulsVMqAH",
        "outputId": "55a560a4-46c6-474d-8db5-499160147220"
      },
      "execution_count": 9,
      "outputs": [
        {
          "output_type": "display_data",
          "data": {
            "text/plain": [
              "<IPython.core.display.Javascript object>"
            ],
            "application/javascript": [
              "google.colab.output.setIframeHeight(0, true, {maxHeight: 5000})"
            ]
          },
          "metadata": {}
        },
        {
          "output_type": "execute_result",
          "data": {
            "text/plain": [
              "[{'article': 'يوتيوب', 'date': '01/01/2022', 'views': 18888, 'rank': 317},\n",
              " {'article': 'كريستيانو رونالدو',\n",
              "  'date': '17/01/2022',\n",
              "  'views': 67422,\n",
              "  'rank': 246}]"
            ]
          },
          "metadata": {},
          "execution_count": 9
        }
      ]
    },
    {
      "cell_type": "code",
      "source": [
        "top_article_titles_list[0]['article']"
      ],
      "metadata": {
        "colab": {
          "base_uri": "https://localhost:8080/",
          "height": 35
        },
        "id": "eZ8KeF_9MdX2",
        "outputId": "66f3ad00-c1e5-46ac-f0e9-bb036fb74c38"
      },
      "execution_count": 10,
      "outputs": [
        {
          "output_type": "display_data",
          "data": {
            "text/plain": [
              "<IPython.core.display.Javascript object>"
            ],
            "application/javascript": [
              "google.colab.output.setIframeHeight(0, true, {maxHeight: 5000})"
            ]
          },
          "metadata": {}
        },
        {
          "output_type": "execute_result",
          "data": {
            "text/plain": [
              "'يوتيوب'"
            ],
            "application/vnd.google.colaboratory.intrinsic+json": {
              "type": "string"
            }
          },
          "metadata": {},
          "execution_count": 10
        }
      ]
    },
    {
      "cell_type": "code",
      "source": [
        "!pip install wikipedia"
      ],
      "metadata": {
        "colab": {
          "base_uri": "https://localhost:8080/",
          "height": 320
        },
        "id": "7CGsOnRYx0SO",
        "outputId": "4d3ce1dd-d478-4a5c-f359-6905ca671dcb"
      },
      "execution_count": 11,
      "outputs": [
        {
          "output_type": "display_data",
          "data": {
            "text/plain": [
              "<IPython.core.display.Javascript object>"
            ],
            "application/javascript": [
              "google.colab.output.setIframeHeight(0, true, {maxHeight: 5000})"
            ]
          },
          "metadata": {}
        },
        {
          "output_type": "stream",
          "name": "stdout",
          "text": [
            "Collecting wikipedia\n",
            "  Downloading wikipedia-1.4.0.tar.gz (27 kB)\n",
            "  Preparing metadata (setup.py) ... \u001b[?25l\u001b[?25hdone\n",
            "Requirement already satisfied: beautifulsoup4 in /usr/local/lib/python3.10/dist-packages (from wikipedia) (4.11.2)\n",
            "Requirement already satisfied: requests<3.0.0,>=2.0.0 in /usr/local/lib/python3.10/dist-packages (from wikipedia) (2.31.0)\n",
            "Requirement already satisfied: charset-normalizer<4,>=2 in /usr/local/lib/python3.10/dist-packages (from requests<3.0.0,>=2.0.0->wikipedia) (3.3.1)\n",
            "Requirement already satisfied: idna<4,>=2.5 in /usr/local/lib/python3.10/dist-packages (from requests<3.0.0,>=2.0.0->wikipedia) (3.4)\n",
            "Requirement already satisfied: urllib3<3,>=1.21.1 in /usr/local/lib/python3.10/dist-packages (from requests<3.0.0,>=2.0.0->wikipedia) (2.0.7)\n",
            "Requirement already satisfied: certifi>=2017.4.17 in /usr/local/lib/python3.10/dist-packages (from requests<3.0.0,>=2.0.0->wikipedia) (2023.7.22)\n",
            "Requirement already satisfied: soupsieve>1.2 in /usr/local/lib/python3.10/dist-packages (from beautifulsoup4->wikipedia) (2.5)\n",
            "Building wheels for collected packages: wikipedia\n",
            "  Building wheel for wikipedia (setup.py) ... \u001b[?25l\u001b[?25hdone\n",
            "  Created wheel for wikipedia: filename=wikipedia-1.4.0-py3-none-any.whl size=11678 sha256=867fde65877cc6cc5a444b23070e72d6e4f3800524fe228c7e7999050a12dca5\n",
            "  Stored in directory: /root/.cache/pip/wheels/5e/b6/c5/93f3dec388ae76edc830cb42901bb0232504dfc0df02fc50de\n",
            "Successfully built wikipedia\n",
            "Installing collected packages: wikipedia\n",
            "Successfully installed wikipedia-1.4.0\n"
          ]
        }
      ]
    },
    {
      "cell_type": "code",
      "source": [
        "import wikipedia"
      ],
      "metadata": {
        "colab": {
          "base_uri": "https://localhost:8080/",
          "height": 17
        },
        "id": "42bDPhcJzT45",
        "outputId": "4465c78c-f173-47d0-84ab-9ada00d22455"
      },
      "execution_count": 12,
      "outputs": [
        {
          "output_type": "display_data",
          "data": {
            "text/plain": [
              "<IPython.core.display.Javascript object>"
            ],
            "application/javascript": [
              "google.colab.output.setIframeHeight(0, true, {maxHeight: 5000})"
            ]
          },
          "metadata": {}
        }
      ]
    },
    {
      "cell_type": "code",
      "source": [
        "wikipedia.set_lang(\"ar\")"
      ],
      "metadata": {
        "colab": {
          "base_uri": "https://localhost:8080/",
          "height": 17
        },
        "id": "qSX6206P1VjU",
        "outputId": "3e4a6691-5fe6-487a-9a6a-7b0e9b896dda"
      },
      "execution_count": 13,
      "outputs": [
        {
          "output_type": "display_data",
          "data": {
            "text/plain": [
              "<IPython.core.display.Javascript object>"
            ],
            "application/javascript": [
              "google.colab.output.setIframeHeight(0, true, {maxHeight: 5000})"
            ]
          },
          "metadata": {}
        }
      ]
    },
    {
      "cell_type": "code",
      "source": [
        "page = wikipedia.page(top_article_titles_list[0]['article'])\n",
        "page"
      ],
      "metadata": {
        "colab": {
          "base_uri": "https://localhost:8080/",
          "height": 35
        },
        "id": "iWZNdxErO8Om",
        "outputId": "fd01bc12-719b-4cb3-e65b-f8666e234c2a"
      },
      "execution_count": 14,
      "outputs": [
        {
          "output_type": "display_data",
          "data": {
            "text/plain": [
              "<IPython.core.display.Javascript object>"
            ],
            "application/javascript": [
              "google.colab.output.setIframeHeight(0, true, {maxHeight: 5000})"
            ]
          },
          "metadata": {}
        },
        {
          "output_type": "execute_result",
          "data": {
            "text/plain": [
              "<WikipediaPage 'يوتيوب'>"
            ]
          },
          "metadata": {},
          "execution_count": 14
        }
      ]
    },
    {
      "cell_type": "code",
      "source": [
        "page.summary # same as print(wikipedia.summary(\"ليونيل ميسي\"))"
      ],
      "metadata": {
        "colab": {
          "base_uri": "https://localhost:8080/",
          "height": 107
        },
        "id": "nnSjllDLzLxb",
        "outputId": "42a788f5-2b61-4686-915c-47b8731196f6"
      },
      "execution_count": 15,
      "outputs": [
        {
          "output_type": "display_data",
          "data": {
            "text/plain": [
              "<IPython.core.display.Javascript object>"
            ],
            "application/javascript": [
              "google.colab.output.setIframeHeight(0, true, {maxHeight: 5000})"
            ]
          },
          "metadata": {}
        },
        {
          "output_type": "execute_result",
          "data": {
            "text/plain": [
              "'يوتيوب (بالإنجليزية: YouTube)\\u200f هو موقع ويب يسمح لمستخدميه برفع التسجيلات المرئية مجانًا ومشاهدتها عبر البث الحي (بدل التنزيل) ومشاركتها والتعليق عليها وغير ذلك. أسسه في 14 فبراير سنة 2005م ثلاث موظفين سابقين من شركة باي بال هم تشاد هيرلي وستيف تشين وجاود كريم، في مدينة سان برونو، وكان يستخدم تقنية برنامج أدوبي فلاش لعرض المقاطع المتحركة، أما الآن فيعتمد تقنية إتش تي إم إل 5. ومحتوى الموقع يتنوع بين مقاطع الأفلام، والتلفاز، والموسيقى، وكذلك الفيديو المنتج من قبل الهواة، وغيرها. وهو حاليًا مزود بأكثر من ألفي موظف. وفي أكتوبر 2006 أعلنت شركة Google التوصل لاتفاقية لشراء الموقع مقابل 1.65 مليار دولار أمريكي، أي ما يعادل 1.31 مليار يورو. ويعتبر الموقع من مواقع ويب 2.0.\\nموقع اليوتيوب هو عبارة عن منصة أمريكية لمشاركة الفيديوهات عبر الإنترنت ومقرها في سان برونو، كاليفورنيا. الخدمة، التي تم إنشاؤها في فبراير 2005 من قبل ثلاثة موظفين سابقين في باي بال - تشاد هيرلي وستيف تشين وجويد كريم - اشترتها جوجل في نوفمبر 2006 مقابل 1.65 مليار دولار أمريكي وتعمل الآن كإحدى الشركات الفرعية للشركة. يُعد موقع اليوتيوب ثاني أكثر مواقع الويب زيارةً في العالم بعد بحث جوجل، وفقًا لتصنيفات أليكسا على الإنترنت.يتيح اليوتيوب للمستخدمين تحميل وعرض وتقييم ومشاركة وإضافة إلى قوائم التشغيل والإبلاغ عن مقاطع الفيديو والتعليق عليها والاشتراك مع مستخدمين آخرين. يتضمن المحتوى المتاح مقاطع الفيديو ومقاطع البرامج التلفزيونية ومقاطع الفيديو الموسيقية والأفلام القصيرة والوثائقية والتسجيلات الصوتية ومقاطع الأفلام والبث المباشر وتدوين الفيديو ومقاطع الفيديو الأصلية القصيرة ومقاطع الفيديو التعليمية. يتم إنشاء معظم المحتوى وتحميله بواسطة الأفراد، لكن الشركات الإعلامية بما في ذلك سي بي إس وبي بي سي وفيفو وهولو تقدم بعض موادها عبر اليوتيوب كجزء من برنامج شراكة مع اليوتيوب. يمكن للمستخدمين غير المسجلين مشاهدة مقاطع الفيديو على الموقع، ولكن لا يمكنهم تحميلها، بينما يمكن للمستخدمين المسجلين تحميل عدد غير محدود من مقاطع الفيديو وإضافة التعليقات. تتوفر مقاطع الفيديو المقيدة بالفئة العمرية فقط للمستخدمين المسجلين الذين يؤكدون أن عمرهم لا يقل عن 18 عامًا.\\nاعتبارًا من مايو 2019، كان هناك أكثر من 500 ساعة من المحتوى يتم تحميله على اليوتيوب كل دقيقة ومليار ساعة من المحتوى تتم مشاهدته على اليوتيوب يوميًا. يربح موقع اليوتيوب ومنشئو المحتوى المختارون أرباحًا إعلانية من جوجل أدسنس، وهو برنامج يستهدف الإعلانات وفقًا لمحتوى الموقع والجمهور. الغالبية العظمى من مقاطع الفيديو مجانية للمشاهدة، ولكن هناك استثناءات، بما في ذلك القنوات المدفوعة القائمة على الاشتراك، وتأجير الأفلام، بالإضافة إلى اليوتيوب ميوزيك واليوتيوب بريميم، وخدمات الاشتراك التي تقدم على التوالي دفقًا موسيقيًا متميزًا وخاليًا من الإعلانات، وخالية من الإعلانات الوصول إلى كل المحتوى، بما في ذلك المحتوى الحصري بتكليف من شخصيات بارزة. استنادًا إلى عائدات الإعلانات ربع السنوية المبلغ عنها، يُقدر أن اليوتيوب يبلغ 15 مليار دولار أمريكي في الإيرادات السنوية.\\nواجه موقع اليوتيوب انتقادات بشأن جوانب عملياته، بما في ذلك تعامله مع المحتوى المحمي بحقوق الطبع والنشر المتضمن في مقاطع الفيديو المحملة، وخوارزميات توصياته التي تدعم مقاطع الفيديو التي تروّج لنظريات المؤامرة والأكاذيب، استضافة مقاطع فيديو تستهدف الأطفال ظاهريًا ولكنها تحتوي على عنف أو موحية جنسيًا المحتوى الذي يتضمن شخصيات شهيرة، مقاطع فيديو للقصر يجتذبون أنشطة محبة للأطفال في أقسام التعليقات، والسياسات المتقلبة حول أنواع المحتوى المؤهل لتحقيق الدخل من الإعلانات.اختارت مجلة «تايم» الأمريكية موقع يوتيوب على الإنترنت كشخصية هامة عام 2006 لدورهِ في إعطاء الفرصة لزواره في إنتاج المواد التي يعرضونها في الموقع.'"
            ],
            "application/vnd.google.colaboratory.intrinsic+json": {
              "type": "string"
            }
          },
          "metadata": {},
          "execution_count": 15
        }
      ]
    },
    {
      "cell_type": "code",
      "source": [
        "page.images"
      ],
      "metadata": {
        "id": "2rxZsFr-To7R",
        "outputId": "d499c036-be99-4661-e528-5f79b766c7d3",
        "colab": {
          "base_uri": "https://localhost:8080/",
          "height": 1353
        }
      },
      "execution_count": 16,
      "outputs": [
        {
          "output_type": "display_data",
          "data": {
            "text/plain": [
              "<IPython.core.display.Javascript object>"
            ],
            "application/javascript": [
              "google.colab.output.setIframeHeight(0, true, {maxHeight: 5000})"
            ]
          },
          "metadata": {}
        },
        {
          "output_type": "execute_result",
          "data": {
            "text/plain": [
              "['https://upload.wikimedia.org/wikipedia/commons/b/b8/2021_Facebook_icon.svg',\n",
              " 'https://upload.wikimedia.org/wikipedia/commons/c/c3/CNN-YouTube_Republican_Debate.jpg',\n",
              " 'https://upload.wikimedia.org/wikipedia/commons/4/4a/Commons-logo.svg',\n",
              " 'https://upload.wikimedia.org/wikipedia/commons/d/d7/Crystal128-svn-merge.svg',\n",
              " 'https://upload.wikimedia.org/wikipedia/commons/5/59/Crystal_Clear_app_Internet_Connection_Tools.png',\n",
              " 'https://upload.wikimedia.org/wikipedia/commons/b/b6/Factory_1b.svg',\n",
              " 'https://upload.wikimedia.org/wikipedia/commons/7/77/Flag_of_Algeria.svg',\n",
              " 'https://upload.wikimedia.org/wikipedia/commons/1/1a/Flag_of_Argentina.svg',\n",
              " 'https://upload.wikimedia.org/wikipedia/commons/8/88/Flag_of_Australia_%28converted%29.svg',\n",
              " 'https://upload.wikimedia.org/wikipedia/commons/9/92/Flag_of_Belgium_%28civil%29.svg',\n",
              " 'https://upload.wikimedia.org/wikipedia/commons/0/05/Flag_of_Brazil.svg',\n",
              " 'https://upload.wikimedia.org/wikipedia/commons/d/d9/Flag_of_Canada_%28Pantone%29.svg',\n",
              " 'https://upload.wikimedia.org/wikipedia/commons/7/78/Flag_of_Chile.svg',\n",
              " 'https://upload.wikimedia.org/wikipedia/commons/2/21/Flag_of_Colombia.svg',\n",
              " 'https://upload.wikimedia.org/wikipedia/commons/f/fe/Flag_of_Egypt.svg',\n",
              " 'https://upload.wikimedia.org/wikipedia/commons/c/c3/Flag_of_France.svg',\n",
              " 'https://upload.wikimedia.org/wikipedia/commons/b/ba/Flag_of_Germany.svg',\n",
              " 'https://upload.wikimedia.org/wikipedia/commons/1/19/Flag_of_Ghana.svg',\n",
              " 'https://upload.wikimedia.org/wikipedia/commons/5/5b/Flag_of_Hong_Kong.svg',\n",
              " 'https://upload.wikimedia.org/wikipedia/commons/c/c1/Flag_of_Hungary.svg',\n",
              " 'https://upload.wikimedia.org/wikipedia/commons/4/41/Flag_of_India.svg',\n",
              " 'https://upload.wikimedia.org/wikipedia/commons/9/9f/Flag_of_Indonesia.svg',\n",
              " 'https://upload.wikimedia.org/wikipedia/commons/4/45/Flag_of_Ireland.svg',\n",
              " 'https://upload.wikimedia.org/wikipedia/commons/d/d4/Flag_of_Israel.svg',\n",
              " 'https://upload.wikimedia.org/wikipedia/commons/0/03/Flag_of_Italy.svg',\n",
              " 'https://upload.wikimedia.org/wikipedia/commons/9/9e/Flag_of_Japan.svg',\n",
              " 'https://upload.wikimedia.org/wikipedia/commons/c/c0/Flag_of_Jordan.svg',\n",
              " 'https://upload.wikimedia.org/wikipedia/commons/4/49/Flag_of_Kenya.svg',\n",
              " 'https://upload.wikimedia.org/wikipedia/commons/6/66/Flag_of_Malaysia.svg',\n",
              " 'https://upload.wikimedia.org/wikipedia/commons/f/fc/Flag_of_Mexico.svg',\n",
              " 'https://upload.wikimedia.org/wikipedia/commons/2/2c/Flag_of_Morocco.svg',\n",
              " 'https://upload.wikimedia.org/wikipedia/commons/3/3e/Flag_of_New_Zealand.svg',\n",
              " 'https://upload.wikimedia.org/wikipedia/commons/7/79/Flag_of_Nigeria.svg',\n",
              " 'https://upload.wikimedia.org/wikipedia/commons/c/cf/Flag_of_Peru.svg',\n",
              " 'https://upload.wikimedia.org/wikipedia/commons/1/12/Flag_of_Poland.svg',\n",
              " 'https://upload.wikimedia.org/wikipedia/commons/f/f3/Flag_of_Russia.svg',\n",
              " 'https://upload.wikimedia.org/wikipedia/commons/a/af/Flag_of_San_Francisco.svg',\n",
              " 'https://upload.wikimedia.org/wikipedia/commons/0/0d/Flag_of_Saudi_Arabia.svg',\n",
              " 'https://upload.wikimedia.org/wikipedia/commons/f/fd/Flag_of_Senegal.svg',\n",
              " 'https://upload.wikimedia.org/wikipedia/commons/4/48/Flag_of_Singapore.svg',\n",
              " 'https://upload.wikimedia.org/wikipedia/commons/a/af/Flag_of_South_Africa.svg',\n",
              " 'https://upload.wikimedia.org/wikipedia/commons/0/09/Flag_of_South_Korea.svg',\n",
              " 'https://upload.wikimedia.org/wikipedia/commons/9/9a/Flag_of_Spain.svg',\n",
              " 'https://upload.wikimedia.org/wikipedia/commons/4/4c/Flag_of_Sweden.svg',\n",
              " 'https://upload.wikimedia.org/wikipedia/commons/c/ce/Flag_of_Tunisia.svg',\n",
              " 'https://upload.wikimedia.org/wikipedia/commons/4/4e/Flag_of_Uganda.svg',\n",
              " 'https://upload.wikimedia.org/wikipedia/commons/8/89/Flag_of_Yemen.svg',\n",
              " 'https://upload.wikimedia.org/wikipedia/commons/c/cb/Flag_of_the_Czech_Republic.svg',\n",
              " 'https://upload.wikimedia.org/wikipedia/commons/2/20/Flag_of_the_Netherlands.svg',\n",
              " 'https://upload.wikimedia.org/wikipedia/commons/9/99/Flag_of_the_Philippines.svg',\n",
              " 'https://upload.wikimedia.org/wikipedia/commons/7/72/Flag_of_the_Republic_of_China.svg',\n",
              " 'https://upload.wikimedia.org/wikipedia/commons/c/cb/Flag_of_the_United_Arab_Emirates.svg',\n",
              " 'https://upload.wikimedia.org/wikipedia/commons/8/83/Flag_of_the_United_Kingdom_%283-5%29.svg',\n",
              " 'https://upload.wikimedia.org/wikipedia/commons/8/83/Flag_of_the_United_Kingdom_%283-5%29.svg',\n",
              " 'https://upload.wikimedia.org/wikipedia/commons/a/a4/Flag_of_the_United_States.svg',\n",
              " 'https://upload.wikimedia.org/wikipedia/commons/2/2f/Google_2015_logo.svg',\n",
              " 'https://upload.wikimedia.org/wikipedia/commons/8/8b/Green_Arrow_Up_Darker.svg',\n",
              " 'https://upload.wikimedia.org/wikipedia/commons/3/38/Info_Simple.svg',\n",
              " 'https://upload.wikimedia.org/wikipedia/commons/9/95/Instagram_logo_2022.svg',\n",
              " 'https://upload.wikimedia.org/wikipedia/commons/3/34/Ionicons_logo-tiktok.svg',\n",
              " 'https://upload.wikimedia.org/wikipedia/commons/6/60/Nuvola_California_flag.svg',\n",
              " 'https://upload.wikimedia.org/wikipedia/commons/5/53/Nuvola_USA_flag.svg',\n",
              " 'https://upload.wikimedia.org/wikipedia/commons/8/8a/OOjs_UI_icon_edit-ltr-progressive.svg',\n",
              " 'https://upload.wikimedia.org/wikipedia/commons/4/4d/Pinterest.svg',\n",
              " 'https://upload.wikimedia.org/wikipedia/commons/0/07/Quora_Q_icon_2015.svg',\n",
              " 'https://upload.wikimedia.org/wikipedia/commons/9/96/Symbol_category_class.svg',\n",
              " 'https://upload.wikimedia.org/wikipedia/commons/b/b4/Symbol_star_gold.svg',\n",
              " 'https://upload.wikimedia.org/wikipedia/commons/f/f4/Twemoji_270f.svg',\n",
              " 'https://upload.wikimedia.org/wikipedia/commons/9/91/Wikiversity-logo.svg',\n",
              " 'https://upload.wikimedia.org/wikipedia/commons/c/ce/X_logo_2023.svg',\n",
              " 'https://upload.wikimedia.org/wikipedia/commons/2/21/YouTube_HQ_11.JPG',\n",
              " 'https://upload.wikimedia.org/wikipedia/commons/b/b8/YouTube_Logo_2017.svg',\n",
              " 'https://upload.wikimedia.org/wikipedia/commons/0/09/YouTube_full-color_icon_%282017%29.svg',\n",
              " 'https://upload.wikimedia.org/wikipedia/commons/1/10/YouTube_localization.svg',\n",
              " 'https://upload.wikimedia.org/wikipedia/commons/c/c8/Youtube_founders.jpg']"
            ]
          },
          "metadata": {},
          "execution_count": 16
        }
      ]
    },
    {
      "cell_type": "markdown",
      "source": [
        "Reducing the size to 5 for testing purposes."
      ],
      "metadata": {
        "id": "5uLjVPVtQ9oE"
      }
    },
    {
      "cell_type": "code",
      "source": [
        "# top_article_titles_list = top_article_titles_list[0:300]\n",
        "# top_article_titles_list[1]"
      ],
      "metadata": {
        "colab": {
          "base_uri": "https://localhost:8080/",
          "height": 17
        },
        "id": "lI0PfOI-OjG9",
        "outputId": "d33f6931-2836-4765-adb7-6f8c491fce9b"
      },
      "execution_count": 17,
      "outputs": [
        {
          "output_type": "display_data",
          "data": {
            "text/plain": [
              "<IPython.core.display.Javascript object>"
            ],
            "application/javascript": [
              "google.colab.output.setIframeHeight(0, true, {maxHeight: 5000})"
            ]
          },
          "metadata": {}
        }
      ]
    },
    {
      "cell_type": "code",
      "source": [
        "# 258\n",
        "# top_article_titles_list[7]['article'] = 'زلزال تركيا وسوريا 2023'"
      ],
      "metadata": {
        "colab": {
          "base_uri": "https://localhost:8080/",
          "height": 17
        },
        "id": "ZHio39ghgrls",
        "outputId": "4a3c9a0b-7a0e-47e2-f611-61374e881bc1"
      },
      "execution_count": 18,
      "outputs": [
        {
          "output_type": "display_data",
          "data": {
            "text/plain": [
              "<IPython.core.display.Javascript object>"
            ],
            "application/javascript": [
              "google.colab.output.setIframeHeight(0, true, {maxHeight: 5000})"
            ]
          },
          "metadata": {}
        }
      ]
    },
    {
      "cell_type": "markdown",
      "source": [
        "### The main extraction funcion"
      ],
      "metadata": {
        "id": "yfxNiKgwGyb4"
      }
    },
    {
      "cell_type": "code",
      "source": [
        "import time\n",
        "from datetime import datetime\n",
        "import json\n",
        "from urllib.parse import urlencode, quote_plus\n",
        "import urllib.request\n",
        "import urllib.parse"
      ],
      "metadata": {
        "colab": {
          "base_uri": "https://localhost:8080/",
          "height": 17
        },
        "id": "u2BgbkC14FqL",
        "outputId": "47ce0f08-52e4-415f-f007-7911730f614e"
      },
      "execution_count": 19,
      "outputs": [
        {
          "output_type": "display_data",
          "data": {
            "text/plain": [
              "<IPython.core.display.Javascript object>"
            ],
            "application/javascript": [
              "google.colab.output.setIframeHeight(0, true, {maxHeight: 5000})"
            ]
          },
          "metadata": {}
        }
      ]
    },
    {
      "cell_type": "code",
      "source": [
        "import wikipedia\n",
        "import urllib.parse\n",
        "import urllib.request\n",
        "import json\n",
        "\n",
        "# article_titles_list = []\n",
        "summaries_list = []\n",
        "urls_list = []\n",
        "categories_list = []\n",
        "image_urls = []\n",
        "wiki_pages_list = []\n",
        "page_ids = []\n",
        "not_found_list = []\n",
        "retrieved_titles_list = []\n",
        "\n",
        "lang = 'ar'\n",
        "\n",
        "for article_title in top_article_titles_list:\n",
        "    # print(article_title['article'], 'is being processed.')\n",
        "    if 'article' in article_title:\n",
        "        try:\n",
        "            # First attempt with auto_suggest=False\n",
        "            current_article = wikipedia.page(title=article_title['article'], auto_suggest=False)\n",
        "            # Code to handle the case where the page was successfully fetched\n",
        "            # print(f\"Page '{article_title['article']}' was found.\")\n",
        "        except wikipedia.exceptions.PageError:\n",
        "            # First attempt failed, try with auto_suggest=True\n",
        "            try:\n",
        "                current_article = wikipedia.page(title=article_title['article'], auto_suggest=True)\n",
        "                # Code to handle the case where the page was successfully fetched\n",
        "                print(f\"Page '{article_title['article']}' was found with auto-suggest on as:\", current_article.title)\n",
        "            except wikipedia.exceptions.PageError:\n",
        "                # Code to handle the case where the page title is not found\n",
        "                print(f\"Page '{article_title['article']}' was not found.\")\n",
        "                not_found_list.append(article_title['article'])\n",
        "                wiki_pages_list.append(None)\n",
        "                summaries_list.append(None)\n",
        "                urls_list.append(None)\n",
        "                page_ids.append(None)\n",
        "                categories_list.append(None)\n",
        "                image_urls.append(None)\n",
        "                retrieved_titles_list.append(None)\n",
        "                continue\n",
        "            except wikipedia.exceptions.DisambiguationError as e:\n",
        "                # Code to handle the case of disambiguation (multiple possible titles)\n",
        "                print(f\"Multiple possible pages found for '{article_title['article']}': {e.options}\")\n",
        "        else:\n",
        "            # Handle the case where the page was found\n",
        "            # Your existing code to process the page can be placed here\n",
        "            pass\n",
        "    else:\n",
        "        # Handle the case where 'article' key is not in the dictionary\n",
        "        print(\"No 'article' key found in the dictionary.\")\n",
        "\n",
        "    # The rest of your code for processing the page, including image retrieval, can go here\n",
        "\n",
        "    # current_article = wikipedia.page(article_title['article'])\n",
        "\n",
        "    # current_article_url = wikipedia.url(article_title['article'])\n",
        "\n",
        "    # print(current_article.title, 'page has been retrieved.')\n",
        "\n",
        "    # article_titles_list.append(article_title['article'])\n",
        "\n",
        "    wiki_pages_list.append(current_article)\n",
        "\n",
        "\n",
        "    summaries_list.append(current_article.summary)\n",
        "    urls_list.append(current_article.url)\n",
        "    page_ids.append(current_article.pageid)\n",
        "    retrieved_titles_list.append(current_article.title)\n",
        "\n",
        "\n",
        "\n",
        "\n",
        "    current_article_categories_list = current_article.categories\n",
        "\n",
        "    # Filter the strings containing \"تصنيف:بوابة\"\n",
        "    current_article_filtered_categories = [s for s in current_article_categories_list if 'تصنيف:بوابة' in s]\n",
        "\n",
        "    # cleaned_list = [s.replace('/مقالات متعلقة', '') for s in filtered_list]\n",
        "    current_article_cleaned_categories = [s.replace('تصنيف:بوابة', '').replace('/مقالات متعلقة', '').strip() for s in\n",
        "                                           current_article_filtered_categories]\n",
        "\n",
        "    categories_list.append(current_article_cleaned_categories)\n",
        "\n",
        "\n",
        "\n",
        "    if current_article.title != article_title['article']:\n",
        "        print('The returned title', current_article.title, 'does not match the requested title', article_title['article'])\n",
        "\n",
        "\n",
        "\n",
        "    # print('about to parse image')\n",
        "\n",
        "    page_title = current_article.title\n",
        "\n",
        "    # Encode the URL components\n",
        "    # lang = urllib.parse.quote(lang)\n",
        "    encoded_page_title = urllib.parse.quote(page_title)\n",
        "\n",
        "    encoded_api_url = f'https://{lang}.wikipedia.org/w/api.php?action=query&prop=pageimages&format=json&piprop=original&titles={encoded_page_title}'\n",
        "\n",
        "    resp = urllib.request.urlopen(encoded_api_url)\n",
        "    resp_bytes = resp.read()\n",
        "    data = json.loads(resp_bytes)\n",
        "\n",
        "    # Search for the title in the JSON data\n",
        "    for page_id, page_info in data['query']['pages'].items():\n",
        "        if page_info.get('title') == page_title:\n",
        "            original_info = page_info.get('original', {})\n",
        "            source_url = original_info.get('source')\n",
        "\n",
        "            # If source_url is None, append it to the list\n",
        "            if source_url is None:\n",
        "                image_urls.append(None)\n",
        "            else:\n",
        "                image_urls.append(source_url)\n"
      ],
      "metadata": {
        "colab": {
          "base_uri": "https://localhost:8080/",
          "height": 1442
        },
        "id": "4Ejlt2ASby94",
        "outputId": "3f6323e5-ae54-4102-b80f-bef8e4fe92b7"
      },
      "execution_count": 20,
      "outputs": [
        {
          "output_type": "display_data",
          "data": {
            "text/plain": [
              "<IPython.core.display.Javascript object>"
            ],
            "application/javascript": [
              "google.colab.output.setIframeHeight(0, true, {maxHeight: 5000})"
            ]
          },
          "metadata": {}
        },
        {
          "output_type": "stream",
          "name": "stdout",
          "text": [
            "The returned title تصنيف فيفا العالمي للرجال does not match the requested title تصنيف فيفا العالمي\n",
            "The returned title كأس الأمم الإفريقية does not match the requested title كأس الأمم الأفريقية\n",
            "The returned title كأس الأمم الإفريقية 2021 does not match the requested title كأس الأمم الأفريقية 2021\n",
            "The returned title قائمة أفلام عالم مارفل السينمائي ومسلسلاته does not match the requested title قائمة أفلام عالم مارفل السينمائي\n",
            "The returned title كأس الأمم الإفريقية 2023 does not match the requested title كأس الأمم الأفريقية 2023\n",
            "The returned title هاري دوق ساسكس does not match the requested title هاري دوق ساسيكس\n",
            "The returned title قائمة نهائيات كأس الأمم الإفريقية does not match the requested title قائمة نهائيات كأس الأمم الأفريقية\n",
            "The returned title بيرغن (مغنية) does not match the requested title بيرجن (مغنية)\n",
            "The returned title آن (أميرة) does not match the requested title آن، أميرة ملكية\n",
            "The returned title إدوارد إيرل وسكس does not match the requested title إدوارد (إيرل وسكس)\n",
            "The returned title أداما تراوري (لاعب كرة قدم إسباني) does not match the requested title أداما تراوري (لاعب كرة قدم مواليد 1996)\n",
            "The returned title أوبك does not match the requested title أوبك بلس\n",
            "The returned title رجوة آل سيف does not match the requested title رجوة بنت خالد آل سيف\n",
            "The returned title تصفيات كأس الأمم الإفريقية 2023 does not match the requested title تصفيات كأس الأمم الأفريقية 2023\n",
            "Page 'من شارع الهرم إلى ... (مسلسل)' was found with auto-suggest on as: من شارع الهرم إلى... (مسلسل)\n",
            "The returned title من شارع الهرم إلى... (مسلسل) does not match the requested title من شارع الهرم إلى ... (مسلسل)\n",
            "The returned title كاميلا الملكة القرينة does not match the requested title كاميلا دوقة كورنوال\n",
            "The returned title الحرب الروسية الأوكرانية does not match the requested title التدخل العسكري الروسي في أوكرانيا\n",
            "The returned title كيرة والجن (فيلم) does not match the requested title كيرة والجن\n",
            "The returned title دوري أبطال إفريقيا does not match the requested title دوري أبطال أفريقيا\n",
            "The returned title جدري النسناس does not match the requested title جدري القردة\n",
            "The returned title ميغان دوقة ساسكس does not match the requested title ميجان دوقة ساسيكس\n",
            "The returned title مسجد السيدة عائشة does not match the requested title مسجد السيدة عائشة (القاهرة)\n",
            "The returned title مجازر 8 مايو 1945 does not match the requested title مجازر 8 ماي 1945\n",
            "Page 'قائمة أبناء الشيح زايد بن سلطان آل نهيان' was not found.\n",
            "The returned title أرق مميت does not match the requested title أرق وراثي مميت\n",
            "The returned title محمود الصرخي does not match the requested title محمود الحسني الصرخي\n",
            "The returned title نورة بنت فيصل بن سعود آل سعود does not match the requested title نورة بنت فيصل آل سعود\n",
            "The returned title بطولة إفريقيا لكرة اليد للرجال does not match the requested title بطولة أفريقيا لكرة اليد للرجال\n",
            "The returned title ويليام أمير ويلز does not match the requested title ويليام دوق كامبريدج\n",
            "The returned title تصفيات كأس العالم 2022 (إفريقيا) does not match the requested title تصفيات كأس العالم 2022 (أفريقيا)\n",
            "The returned title صلاة العيدين does not match the requested title تكبيرات العيد عند المسلمين\n",
            "The returned title جول كوندي does not match the requested title جيوليس كوندي\n",
            "The returned title كأس الأمم الإفريقية 2004 does not match the requested title كأس الأمم الأفريقية 2004\n",
            "The returned title قناة الجزيرة does not match the requested title الجزيرة (قناة)\n",
            "The returned title كأس العالم للأندية 2022 does not match the requested title كأس العالم للأندية (الصين)\n",
            "Page 'مناهل ثابت' was not found.\n",
            "The returned title كأس الكونفيدرالية الإفريقية does not match the requested title كأس الكونفيدرالية الأفريقية\n",
            "The returned title قائمة الدول المتوسطية does not match the requested title قائمة البلدان المتوسطية\n",
            "The returned title قائمة أكبر الهدافين الدوليين في كرة القدم للرجال حسب البلد does not match the requested title قائمة أكبر الهدافين الدوليين حسب البلد\n",
            "The returned title قائمة كسوفات الشمس في القرن الحادي والعشرين does not match the requested title قائمة كسوفات الشمس في القرن 21\n",
            "The returned title داود جلاجل does not match the requested title داوود جلاجل\n",
            "The returned title جدري النسناس does not match the requested title جدري القرود\n",
            "The returned title تشارلز الثالث does not match the requested title تشارلز (أمير ويلز)\n",
            "The returned title بيت وندسور does not match the requested title بيت ويندسور\n",
            "The returned title زينب بنت علي does not match the requested title زينب بنت علي بن أبي طالب\n",
            "The returned title لويس دي لا فوينتي does not match the requested title لويس دي لا فيوينت (لاعب كرة قدم)\n",
            "Page 'ياسمين الخطيب' was found with auto-suggest on as: ياسمين\n",
            "The returned title ياسمين does not match the requested title ياسمين الخطيب\n",
            "The returned title عبد اللطيف رشيد does not match the requested title لطيف رشيد\n",
            "The returned title يوسف البنيان does not match the requested title يوسف بن عبد الله البنيان\n",
            "The returned title ميدان هشام بركات does not match the requested title ميدان رابعة العدوية\n",
            "The returned title ميشائيل ديلغادو does not match the requested title ميشال ريتشارد ديلغادو\n",
            "Page 'منصة نسك' was found with auto-suggest on as: وزارة الحج والعمرة\n",
            "The returned title وزارة الحج والعمرة does not match the requested title منصة نسك\n",
            "The returned title ألفارو غونزاليز (لاعب كرة قدم مواليد 1990) does not match the requested title ألفارو غونزاليز سوبيرون\n",
            "The returned title قضاعة عراقية ملساء الفراء does not match the requested title كلب الماء (ماكسويل)\n",
            "The returned title دعاء عرفة does not match the requested title دعاء عرفة (شيعة)\n",
            "The returned title مفيد فوزي does not match the requested title حنان مفيد فوزي\n",
            "The returned title درع المجتمع الإنجليزي does not match the requested title درع الاتحاد الإنجليزي\n",
            "The returned title رحمة (زوجة أيوب) does not match the requested title رحمة أو ليا (زوجة أيوب)\n",
            "The returned title السر قدور does not match the requested title السر قدور (شاعر)\n",
            "The returned title انقلاب 14 تموز 1958 does not match the requested title انقلاب تموز 1958 في العراق\n",
            "The returned title تشارلز الثالث does not match the requested title تشارلز (ملك المملكة المتحدة)\n",
            "The returned title بيلور قلقوان does not match the requested title بيلور كالكافان\n",
            "The returned title جورجا ملوني does not match the requested title جيورجيا ميلوني\n",
            "The returned title جائزة أفضل لاعب إفريقي does not match the requested title جائزة أفضل لاعب أفريقي\n",
            "The returned title غراهام بوتر does not match the requested title جراهام بوتير\n",
            "Page 'كاميلا ملكة المملكة المتحدة' was found with auto-suggest on as: كاميلا الملكة القرينة\n",
            "The returned title كاميلا الملكة القرينة does not match the requested title كاميلا ملكة المملكة المتحدة\n",
            "The returned title كريستوف غالتييه does not match the requested title كريستوف غالتيير\n",
            "The returned title كلاسيكو أتلتيك بيلباو وبرشلونة does not match the requested title كلاسيكو اتلتيك بيلباو وبرشلونة\n",
            "The returned title قائمة نهائيات دوري أبطال إفريقيا does not match the requested title قائمة نهائيات دوري أبطال أفريقيا\n",
            "The returned title قلعة وندسور does not match the requested title قصر وندسور\n",
            "The returned title كأس آسيا تحت 23 سنة 2022 does not match the requested title كأس آسيا تحت 23 سنة لكرة القدم 2022\n",
            "The returned title سيد الخواتم: خواتم السلطة does not match the requested title سيد الخواتم (مسلسل)\n",
            "The returned title جردان شكيري does not match the requested title شيردان شاكيري\n",
            "Page 'الحياة الدينية في مصر القديمة' was found with auto-suggest on as: مصر القديمة\n",
            "The returned title مصر القديمة does not match the requested title الحياة الدينية في مصر القديمة\n",
            "The returned title شي إن does not match the requested title شي إن (شركة)\n"
          ]
        }
      ]
    },
    {
      "cell_type": "code",
      "source": [
        "not_found_list"
      ],
      "metadata": {
        "colab": {
          "base_uri": "https://localhost:8080/",
          "height": 35
        },
        "id": "L79sO6fw6s1h",
        "outputId": "8c3be8fd-0ece-4e8b-91b4-b42870081423"
      },
      "execution_count": 21,
      "outputs": [
        {
          "output_type": "display_data",
          "data": {
            "text/plain": [
              "<IPython.core.display.Javascript object>"
            ],
            "application/javascript": [
              "google.colab.output.setIframeHeight(0, true, {maxHeight: 5000})"
            ]
          },
          "metadata": {}
        },
        {
          "output_type": "execute_result",
          "data": {
            "text/plain": [
              "['قائمة أبناء الشيح زايد بن سلطان آل نهيان', 'مناهل ثابت']"
            ]
          },
          "metadata": {},
          "execution_count": 21
        }
      ]
    },
    {
      "cell_type": "code",
      "source": [
        "len(retrieved_titles_list)"
      ],
      "metadata": {
        "colab": {
          "base_uri": "https://localhost:8080/",
          "height": 35
        },
        "id": "NI5dVSB63wkF",
        "outputId": "6639dcf7-cd78-4569-a9a1-71afbdc7162d"
      },
      "execution_count": 22,
      "outputs": [
        {
          "output_type": "display_data",
          "data": {
            "text/plain": [
              "<IPython.core.display.Javascript object>"
            ],
            "application/javascript": [
              "google.colab.output.setIframeHeight(0, true, {maxHeight: 5000})"
            ]
          },
          "metadata": {}
        },
        {
          "output_type": "execute_result",
          "data": {
            "text/plain": [
              "1632"
            ]
          },
          "metadata": {},
          "execution_count": 22
        }
      ]
    },
    {
      "cell_type": "code",
      "source": [
        "stop"
      ],
      "metadata": {
        "id": "KITVbsRU7R2C",
        "colab": {
          "base_uri": "https://localhost:8080/",
          "height": 180
        },
        "outputId": "8d9ddd34-1455-4488-f880-93bf1d1cac86"
      },
      "execution_count": 23,
      "outputs": [
        {
          "output_type": "display_data",
          "data": {
            "text/plain": [
              "<IPython.core.display.Javascript object>"
            ],
            "application/javascript": [
              "google.colab.output.setIframeHeight(0, true, {maxHeight: 5000})"
            ]
          },
          "metadata": {}
        },
        {
          "output_type": "error",
          "ename": "NameError",
          "evalue": "ignored",
          "traceback": [
            "\u001b[0;31m---------------------------------------------------------------------------\u001b[0m",
            "\u001b[0;31mNameError\u001b[0m                                 Traceback (most recent call last)",
            "\u001b[0;32m<ipython-input-23-4f76a9dad686>\u001b[0m in \u001b[0;36m<cell line: 1>\u001b[0;34m()\u001b[0m\n\u001b[0;32m----> 1\u001b[0;31m \u001b[0mstop\u001b[0m\u001b[0;34m\u001b[0m\u001b[0;34m\u001b[0m\u001b[0m\n\u001b[0m",
            "\u001b[0;31mNameError\u001b[0m: name 'stop' is not defined"
          ]
        }
      ]
    },
    {
      "cell_type": "markdown",
      "source": [
        "### Duplicates"
      ],
      "metadata": {
        "id": "kf50gO_aasuy"
      }
    },
    {
      "cell_type": "code",
      "source": [
        "len(page_ids)"
      ],
      "metadata": {
        "id": "NeCUuJZn0M15"
      },
      "execution_count": null,
      "outputs": []
    },
    {
      "cell_type": "code",
      "source": [
        "# Create an empty list to store the duplicates\n",
        "duplicates = []\n",
        "\n",
        "# Create a set to keep track of seen numbers\n",
        "seen = set()\n",
        "\n",
        "for page_id in page_ids:\n",
        "    if page_id in seen:\n",
        "        duplicates.append(page_id)\n",
        "    seen.add(page_id)\n",
        "\n",
        "print(\"Duplicate numbers in page_ids:\", duplicates)"
      ],
      "metadata": {
        "id": "vqRUtuv5-TEX"
      },
      "execution_count": null,
      "outputs": []
    },
    {
      "cell_type": "code",
      "source": [
        "len(duplicates)"
      ],
      "metadata": {
        "id": "JqeBTV4f079V"
      },
      "execution_count": null,
      "outputs": []
    },
    {
      "cell_type": "code",
      "source": [
        "# Create a dictionary from the lists\n",
        "data = {\n",
        "    # 'Article Title': top_article_titles_list['article'],\n",
        "    'Retrieved Title': retrieved_titles_list,\n",
        "    'Page ID': page_ids,\n",
        "    'Categories': categories_list,\n",
        "    'URL': urls_list,\n",
        "    'Image': image_urls,\n",
        "    # 'Summary': summaries_list\n",
        "}\n",
        "\n",
        "# Convert the dictionary to a DataFrame\n",
        "new_df = pd.DataFrame(data)\n",
        "\n",
        "new_df"
      ],
      "metadata": {
        "id": "Cn5dafnXZu29"
      },
      "execution_count": null,
      "outputs": []
    },
    {
      "cell_type": "code",
      "source": [
        "combined_df = pd.merge(top_article_titles_df, new_df, left_index=True, right_index=True)\n",
        "combined_df"
      ],
      "metadata": {
        "id": "b3BWRu5rNdw_"
      },
      "execution_count": null,
      "outputs": []
    },
    {
      "cell_type": "code",
      "source": [
        "# Find rows with the same Page ID\n",
        "duplicates_df = combined_df[combined_df.duplicated(subset='Page ID', keep=False)]\n",
        "\n",
        "duplicates_df"
      ],
      "metadata": {
        "id": "qGpwdQ_4KF0i"
      },
      "execution_count": null,
      "outputs": []
    },
    {
      "cell_type": "markdown",
      "source": [
        "### Fetching English Titles\n",
        "This code sends a GET request to the provided API URL, retrieves the JSON response, and then extracts the English language name of the article from the \"langlinks\" section in the JSON data."
      ],
      "metadata": {
        "id": "i7JokGPv2j5S"
      }
    },
    {
      "cell_type": "code",
      "source": [
        "import requests\n",
        "\n",
        "def fetch_english_name_from_arabic_page_id(arabic_page_id):\n",
        "    # Define the API URL\n",
        "    api_url = f\"https://ar.wikipedia.org/w/api.php?action=query&format=json&pageids={arabic_page_id}&prop=langlinks&lllimit=max\"\n",
        "\n",
        "    # Send a GET request to the API URL\n",
        "    response = requests.get(api_url)\n",
        "\n",
        "    # Check if the request was successful (status code 200)\n",
        "    if response.status_code == 200:\n",
        "        # Parse the JSON response\n",
        "        data = response.json()\n",
        "\n",
        "        # Extract the English language name from the JSON data\n",
        "        english_name = None\n",
        "\n",
        "        if 'query' in data and 'pages' in data['query']:\n",
        "            page_data = data['query']['pages']\n",
        "\n",
        "            # Check if the Arabic page ID is in the data\n",
        "            if str(arabic_page_id) in page_data:\n",
        "                langlinks = page_data[str(arabic_page_id)].get('langlinks', [])\n",
        "\n",
        "                for langlink in langlinks:\n",
        "                    if langlink.get('lang') == 'en':\n",
        "                        english_name = langlink.get('*')\n",
        "                        break  # Stop when you find the English name\n",
        "\n",
        "        if english_name:\n",
        "            return english_name\n",
        "        else:\n",
        "            return None\n",
        "    else:\n",
        "        return f\"Failed to retrieve data. Status code: {response.status_code}\"\n",
        "\n",
        "\n",
        "\n",
        "\n",
        "en_titles_list = []\n",
        "\n",
        "for ar_page_id, ar_article_name in zip(page_ids, retrieved_titles_list):\n",
        "  # print(fetch_english_name_from_arabic_page_id(ar_page_id), ar_article_name)\n",
        "  en_title = fetch_english_name_from_arabic_page_id(ar_page_id)\n",
        "  en_titles_list.append(en_title)"
      ],
      "metadata": {
        "colab": {
          "base_uri": "https://localhost:8080/",
          "height": 17
        },
        "id": "s0Vvknuz66mF",
        "outputId": "bb7f12a4-6da3-4ab5-88b7-5f6cb2836a95"
      },
      "execution_count": 78,
      "outputs": [
        {
          "output_type": "display_data",
          "data": {
            "text/plain": [
              "<IPython.core.display.Javascript object>"
            ],
            "application/javascript": [
              "google.colab.output.setIframeHeight(0, true, {maxHeight: 5000})"
            ]
          },
          "metadata": {}
        }
      ]
    },
    {
      "cell_type": "code",
      "source": [
        "arabic_page_id = 6642449\n",
        "english_name = fetch_english_name_from_arabic_page_id(arabic_page_id)\n",
        "print(\"English Name of the Article:\", english_name)"
      ],
      "metadata": {
        "colab": {
          "base_uri": "https://localhost:8080/",
          "height": 35
        },
        "id": "J9QmeP3m8W_U",
        "outputId": "69796289-de91-4fe2-c19f-ca66c898631a"
      },
      "execution_count": 25,
      "outputs": [
        {
          "output_type": "display_data",
          "data": {
            "text/plain": [
              "<IPython.core.display.Javascript object>"
            ],
            "application/javascript": [
              "google.colab.output.setIframeHeight(0, true, {maxHeight: 5000})"
            ]
          },
          "metadata": {}
        },
        {
          "output_type": "stream",
          "name": "stdout",
          "text": [
            "English Name of the Article: Pass by catastrophe\n"
          ]
        }
      ]
    },
    {
      "cell_type": "code",
      "source": [
        "arabic_page_id = 2348350\n",
        "english_name = fetch_english_name_from_arabic_page_id(arabic_page_id)\n",
        "print(\"English Name of the Article:\", english_name)"
      ],
      "metadata": {
        "colab": {
          "base_uri": "https://localhost:8080/",
          "height": 35
        },
        "id": "FlTrFwHcDz1c",
        "outputId": "9ff65c10-7f08-44b3-8d03-04d83fd49665"
      },
      "execution_count": 26,
      "outputs": [
        {
          "output_type": "display_data",
          "data": {
            "text/plain": [
              "<IPython.core.display.Javascript object>"
            ],
            "application/javascript": [
              "google.colab.output.setIframeHeight(0, true, {maxHeight: 5000})"
            ]
          },
          "metadata": {}
        },
        {
          "output_type": "stream",
          "name": "stdout",
          "text": [
            "English Name of the Article: None\n"
          ]
        }
      ]
    },
    {
      "cell_type": "code",
      "source": [
        "for i, j in zip(en_titles_list[:900], retrieved_titles_list[:900]):\n",
        "  if i != None:\n",
        "    print(i, j)\n",
        "  else:\n",
        "    print('---', i, j, '---')"
      ],
      "metadata": {
        "colab": {
          "base_uri": "https://localhost:8080/",
          "height": 5000
        },
        "id": "xKJILByiGKxi",
        "outputId": "126c2381-40be-48b1-b201-44aecf0db400"
      },
      "execution_count": 82,
      "outputs": [
        {
          "output_type": "display_data",
          "data": {
            "text/plain": [
              "<IPython.core.display.Javascript object>"
            ],
            "application/javascript": [
              "google.colab.output.setIframeHeight(0, true, {maxHeight: 5000})"
            ]
          },
          "metadata": {}
        },
        {
          "output_type": "stream",
          "name": "stdout",
          "text": [
            "YouTube يوتيوب\n",
            "Cristiano Ronaldo كريستيانو رونالدو\n",
            "Muhammad محمد\n",
            "Absher (application) أبشر\n",
            "2022 FIFA World Cup كأس العالم 2022\n",
            "Translation ترجمة\n",
            "Facebook فيسبوك\n",
            "Signs of the coming of Judgement Day علامات الساعة في الإسلام\n",
            "Egypt مصر\n",
            "Google Translate ترجمة جوجل\n",
            "UEFA Champions League دوري أبطال أوروبا\n",
            "FIFA Men's World Ranking تصنيف فيفا العالمي للرجال\n",
            "Real Madrid CF ريال مدريد\n",
            "List of Cairo Metro stations قائمة محطات مترو القاهرة\n",
            "Mia Khalifa ميا خليفة\n",
            "Saudi Arabia السعودية\n",
            "Google جوجل\n",
            "FC Barcelona نادي برشلونة\n",
            "FIFA World Cup كأس العالم\n",
            "Lionel Messi ليونيل ميسي\n",
            "Ali علي بن أبي طالب\n",
            "WhatsApp واتساب\n",
            "Salman of Saudi Arabia سلمان بن عبد العزيز آل سعود\n",
            "Instagram إنستغرام\n",
            "2026 FIFA World Cup كأس العالم 2026\n",
            "Al-Kahf سورة الكهف\n",
            "NATO حلف شمال الأطلسي\n",
            "World War II الحرب العالمية الثانية\n",
            "Ukraine أوكرانيا\n",
            "Russia روسيا\n",
            "Johnny Depp جوني ديب\n",
            "Manchester City F.C. مانشستر سيتي\n",
            "Liverpool F.C. نادي ليفربول\n",
            "Kylian Mbappé كيليان مبابي\n",
            "List of FIFA World Cup winning players قائمة الفائزين بكأس العالم\n",
            "Elon Musk إيلون ماسك\n",
            "Premier League الدوري الإنجليزي الممتاز\n",
            "Elizabeth II إليزابيث الثانية\n",
            "Vladimir Putin فلاديمير بوتين\n",
            "List of FIFA World Cup finals قائمة نهائيات كأس العالم\n",
            "Amber Heard آمبر هيرد\n",
            "Al Ahly SC النادي الأهلي (مصر)\n",
            "Africa Cup of Nations كأس الأمم الإفريقية\n",
            "Member states of NATO الدول الأعضاء لحلف الناتو\n",
            "Egyptian Premier League الدوري المصري الممتاز\n",
            "Mohammed bin Salman محمد بن سلمان آل سعود\n",
            "--- None اسمعني (مسلسل تركي) ---\n",
            "2018 FIFA World Cup كأس العالم 2018\n",
            "Jeffrey Dahmer جيفري دامر\n",
            "Fajr prayer صلاة الفجر\n",
            "Morocco national football team منتخب المغرب لكرة القدم\n",
            "Islam and masturbation حكم الاستمناء في الإسلام\n",
            "Saddam Hussein صدام حسين\n",
            "Karim Benzema كريم بنزيما\n",
            "Ibn Saud عبد العزيز آل سعود\n",
            "Soviet Union الاتحاد السوفيتي\n",
            "Al-Ala سورة الأعلى\n",
            "Throne Verse آية الكرسي\n",
            "Khairat el-Shater خيرت الشاطر\n",
            "La Liga الدوري الإسباني\n",
            "Argentina national football team منتخب الأرجنتين لكرة القدم\n",
            "Sujud Tilawa سجود التلاوة\n",
            "--- None من شارع الهرم إلى... (مسلسل) ---\n",
            "Erling Haaland آرلينغ هالاند\n",
            "Mohamed Salah محمد صلاح\n",
            "Arabic names of Gregorian months أسماء الشهور\n",
            "Saudi National Day اليوم الوطني للمملكة العربية السعودية\n",
            "World War I الحرب العالمية الأولى\n",
            "List of countries and dependencies by population قائمة البلدان والتبعيات حسب عدد السكان\n",
            "List of countries by Military Strength Index قائمة الدول حسب مؤشر القوة العسكرية\n",
            "2021 Africa Cup of Nations كأس الأمم الإفريقية 2021\n",
            "Saudi Founding Day يوم التأسيس السعودي\n",
            "Egypt national football team منتخب مصر لكرة القدم\n",
            "Qatar قطر\n",
            "Mawlid المولد النبوي\n",
            "Yom Kippur War حرب أكتوبر\n",
            "Mother's Day يوم الأم\n",
            "List of Marvel Cinematic Universe films قائمة أفلام عالم مارفل السينمائي ومسلسلاته\n",
            "Pelé بيليه\n",
            "Husayn ibn Ali الحسين بن علي\n",
            "Sherine شيرين عبد الوهاب\n",
            "Paris Saint-Germain F.C. باريس سان جيرمان\n",
            "Tamim bin Hamad Al Thani تميم بن حمد آل ثاني\n",
            "Russo-Ukrainian War الحرب الروسية الأوكرانية\n",
            "Isra' and Mi'raj الإسراء والمعراج\n",
            "Abdullah II of Jordan عبد الله الثاني بن الحسين\n",
            "UEFA Nations League دوري الأمم الأوروبية\n",
            "2023 Africa Cup of Nations كأس الأمم الإفريقية 2023\n",
            "--- None بحبك (فيلم) ---\n",
            "Volodymyr Zelenskyy فولوديمير زيلينسكي\n",
            "Tarawih صلاة التراويح\n",
            "Mohammed VI of Morocco محمد السادس بن الحسن\n",
            "List of countries and dependencies by area قائمة الدول والتبعيات حسب المساحة\n",
            "Eid al-Adha عيد الأضحى\n",
            "2022 Mediterranean Games ألعاب البحر الأبيض المتوسط 2022\n",
            "Diana, Princess of Wales ديانا أميرة ويلز\n",
            "Salah الصلاة في الإسلام\n",
            "Achraf Hakimi أشرف حكيمي\n",
            "Diego Maradona دييغو مارادونا\n",
            "Georgina Rodríguez جورجينا رودريغيز\n",
            "Chechnya الشيشان\n",
            "Comoros جزر القمر\n",
            "Argentina الأرجنتين\n",
            "Qurban (Islamic ritual sacrifice) أضحية\n",
            "Morocco المغرب\n",
            "Charles III تشارلز الثالث\n",
            "Zamalek SC نادي الزمالك\n",
            "George VI جورج السادس ملك المملكة المتحدة\n",
            "İbrahim Tatlıses إبراهيم تاتليسس\n",
            "Huda Hussein هدى حسين\n",
            "Prince Harry, Duke of Sussex هاري دوق ساسكس\n",
            "Prince Philip, Duke of Edinburgh فيليب دوق إدنبرة\n",
            "Amal Maher آمال ماهر\n",
            "Arsenal F.C. نادي أرسنال\n",
            "Adel Emam عادل إمام\n",
            "El Clásico الكلاسيكو\n",
            "Ashura عاشوراء\n",
            "Abdel Fattah el-Sisi عبد الفتاح السيسي\n",
            "Cameroon الكاميرون\n",
            "Mediterranean Games ألعاب البحر الأبيض المتوسط\n",
            "Senegal السنغال\n",
            "--- None مبطلات الصوم ---\n",
            "Perfect Strangers (2022 film) أصحاب ولا أعز\n",
            "FC Bayern Munich بايرن ميونخ\n",
            "25th Arabian Gulf Cup كأس الخليج العربي 25\n",
            "Neymar نيمار\n",
            "Hussein, Crown Prince of Jordan الحسين بن عبد الله الثاني\n",
            "--- None كسر عضم (مسلسل) ---\n",
            "FIFA Club World Cup كأس العالم للأندية\n",
            "Mohammed Abdu محمد عبده (مغني)\n",
            "Princess Margaret, Countess of Snowdon مارجريت كونتيسة سنودون\n",
            "Night of Power ليلة القدر\n",
            "--- None الغرفة 207 (مسلسل) ---\n",
            "Hussein of Jordan الحسين بن طلال\n",
            "Prince Andrew, Duke of York أندرو دوق يورك\n",
            "Mohamed Abou Gabal محمد أبو جبل\n",
            "--- None قائمة هدافي كأس العالم ---\n",
            "Christmas عيد الميلاد\n",
            "Mohamed bin Zayed Al Nahyan محمد بن زايد آل نهيان\n",
            "List of El Clásico matches قائمة مباريات الكلاسيكو\n",
            "Ancient Egypt مصر القديمة\n",
            "Emir Abdelkader عبد القادر الجزائري\n",
            "Salatul Tasbih صلاة التسابيح\n",
            "--- None نور الغندور ---\n",
            "Khalifa bin Zayed Al Nahyan خليفة بن زايد آل نهيان\n",
            "Kadim Al Sahir كاظم الساهر\n",
            "Emirate of Diriyah الدولة السعودية الأولى\n",
            "Green March المسيرة الخضراء\n",
            "Zakat al-Fitr زكاة الفطر\n",
            "Day of Arafah يوم عرفة\n",
            "Turki Al-Sheikh تركي آل الشيخ\n",
            "Georges Al Rassi جورج الراسي\n",
            "Halloween هالووين\n",
            "Taiwan تايوان\n",
            "List of Africa Cup of Nations finals قائمة نهائيات كأس الأمم الإفريقية\n",
            "Chelsea F.C. نادي تشيلسي\n",
            "Hamzah bin Hussein حمزة بن الحسين\n",
            "Battle of Karbala معركة كربلاء\n",
            "Manasik مناسك الحج\n",
            "List of European Cup and UEFA Champions League finals قائمة نهائيات دوري أبطال أوروبا\n",
            "Saudi Arabia national football team منتخب السعودية لكرة القدم\n",
            "Shilajit شيلاجيت\n",
            "Nadine Al Rassi نادين الراسي\n",
            "Manchester United F.C. مانشستر يونايتد\n",
            "Bergen (singer) بيرغن (مغنية)\n",
            "UEFA Europa League الدوري الأوروبي\n",
            "Haifa Wehbe هيفاء وهبي\n",
            "Walid Regragui وليد الركراكي\n",
            "Queen Rania of Jordan رانيا العبد الله\n",
            "William, Prince of Wales ويليام أمير ويلز\n",
            "Anne, Princess Royal آن (أميرة)\n",
            "Berbers أمازيغ\n",
            "Ramadan رمضان\n",
            "Hossam Habib حسام حبيب\n",
            "Jean-Claude Van Damme جان كلود فان دام\n",
            "Prince Edward, Duke of Edinburgh إدوارد إيرل وسكس\n",
            "Ballon d'Or جائزة الكرة الذهبية\n",
            "Robert Lewandowski روبرت ليفاندوفسكي\n",
            "OPEC أوبك\n",
            "Easter عيد القيامة\n",
            "2022 UEFA Champions League final نهائي دوري أبطال أوروبا 2022\n",
            "Brazil national football team منتخب البرازيل لكرة القدم\n",
            "Senegal national football team منتخب السنغال لكرة القدم\n",
            "Shab-e-Barat ليلة منتصف شعبان\n",
            "One Piece Film: Red فيلم ون بيس: ريد\n",
            "Carlo Ancelotti كارلو أنشيلوتي\n",
            "Sayyid Al-Qemany سيد القمني\n",
            "--- None أبو فلة ---\n",
            "Wael el-Ebrashy وائل الإبراشي\n",
            "Gerard Piqué جيرارد بيكيه\n",
            "Nuclear weapon سلاح نووي\n",
            "Yassine Bounou ياسين بونو\n",
            "United Kingdom المملكة المتحدة\n",
            "Rui Vitória روي فيتوريا\n",
            "Muqtada al-Sadr مقتدى الصدر\n",
            "Portugal national football team منتخب البرتغال لكرة القدم\n",
            "--- None انحسار نهر الفرات عن جبل من الذهب ---\n",
            "Valentine's Day عيد الحب\n",
            "Osman I عثمان الأول\n",
            "Algerian War ثورة التحرير الجزائرية\n",
            "Adama Traoré (footballer, born 1996) أداما تراوري (لاعب كرة قدم إسباني)\n",
            "--- None أحمد أبو هشيمة ---\n",
            "Burkina Faso بوركينا فاسو\n",
            "Faisal of Saudi Arabia فيصل بن عبد العزيز آل سعود\n",
            "Shireen Abu Akleh شيرين أبو عاقلة\n",
            "Saud of Saudi Arabia سعود بن عبد العزيز آل سعود\n",
            "Queen Elizabeth The Queen Mother إليزابيث باوز ليون\n",
            "Hesham Selim هشام سليم\n",
            "--- None سمير صبري ---\n",
            "OPEC أوبك\n",
            "France national football team منتخب فرنسا لكرة القدم\n",
            "Assala أصالة نصري\n",
            "Tariq ibn Ziyad طارق بن زياد\n",
            "Zayed bin Sultan Al Nahyan زايد بن سلطان آل نهيان\n",
            "Mohamed Morsi محمد مرسي\n",
            "Yusuf al-Qaradawi يوسف القرضاوي\n",
            "Eid al-Fitr عيد الفطر\n",
            "Hervé Renard هيرفي رونار\n",
            "--- None جويل حاتم ---\n",
            "Mohammed bin Rashid Al Maktoum محمد بن راشد آل مكتوم\n",
            "Yazid I يزيد بن معاوية\n",
            "Hakim Ziyech حكيم زياش\n",
            "Shia Islam الشيعة\n",
            "Yennayer يناير (رأس السنة الأمازيغية)\n",
            "--- None رشاش العتيبي ---\n",
            "International Women's Day اليوم العالمي للمرأة\n",
            "Marilyn Monroe مارلين مونرو\n",
            "Medusa ميدوسا\n",
            "Umar عمر بن الخطاب\n",
            "--- None أسرة عبد الله بن عبد العزيز آل سعود ---\n",
            "Brunei بروناي\n",
            "Dodi Fayed دودي الفايد\n",
            "Algeria national football team منتخب الجزائر لكرة القدم\n",
            "Mohammed Shia' Al Sudani محمد شياع السوداني\n",
            "Orca حوت قاتل\n",
            "Princess Muna Al Hussein منى الحسين\n",
            "Kazakhstan كازاخستان\n",
            "List of states with nuclear weapons دول نووية\n",
            "--- None بسام الملا ---\n",
            "--- None خالد سامي ---\n",
            "Joe Biden جو بايدن\n",
            "History of Saudi Arabia تاريخ السعودية\n",
            "Abbas ibn Ali العباس بن علي\n",
            "Belgium بلجيكا\n",
            "Khaled bin Mohamed Al Nahyan خالد بن محمد بن زايد آل نهيان\n",
            "Al-Aqsa المسجد الأقصى\n",
            "Princess Rajwa Al Hussein رجوة آل سيف\n",
            "Pierre-Emerick Aubameyang بيير إيميريك أوباميانغ\n",
            "Belarus بيلاروس\n",
            "Rafael Nadal رافاييل نادال\n",
            "Diana Haddad ديانا حداد\n",
            "2023 Africa Cup of Nations qualification تصفيات كأس الأمم الإفريقية 2023\n",
            "George V جورج الخامس ملك المملكة المتحدة\n",
            "Water pollution تلوث المياه\n",
            "--- None فايزة العماري ---\n",
            "Alaa Abd El-Fattah علاء عبد الفتاح\n",
            "Mikhail Gorbachev ميخائيل غورباتشوف\n",
            "--- None مها أبو عوف ---\n",
            "United Arab Emirates الإمارات العربية المتحدة\n",
            "Croatia national football team منتخب كرواتيا لكرة القدم\n",
            "Imran Khan عمران خان\n",
            "Eid al-Ghadir عيد الغدير\n",
            "The White Days الأيام البيض\n",
            "--- None من شارع الهرم إلى... (مسلسل) ---\n",
            "Names of God in Islam أسماء الله الحسنى\n",
            "Muhammad Tantawi محمد حسين طنطاوي\n",
            "List of UEFA Champions League top scorers قائمة هدافي دوري أبطال أوروبا\n",
            "Muhammad bin Abdul Karim Issa محمد بن عبد الكريم العيسى\n",
            "2021 FIFA Club World Cup كأس العالم للأندية 2021\n",
            "2022 FIFA Club World Cup كأس العالم للأندية 2022\n",
            "2022 Arab Futsal Cup كأس العرب لكرة الصالات 2022\n",
            "Andrew Tate أندرو تيت\n",
            "Antonio Rüdiger أنطونيو روديغر\n",
            "Carles Puigdemont كارلس بوتشدمون\n",
            "--- None عشر ذي الحجة ---\n",
            "Queen Camilla كاميلا الملكة القرينة\n",
            "Azzedine Ounahi عز الدين أوناحي\n",
            "Eid prayers صلاة العيدين\n",
            "Father's Day يوم الأب\n",
            "Sri Lanka سريلانكا\n",
            "Cape Verde الرأس الأخضر\n",
            "Shakira شاكيرا\n",
            "Hasan ibn Ali الحسن بن علي\n",
            "Al Hilal SFC نادي الهلال (السعودية)\n",
            "Proclamation of Independence of Morocco وثيقة الاستقلال المغربية\n",
            "Abdel-Hamid ibn Badis عبد الحميد بن باديس\n",
            "Abdullah of Saudi Arabia عبد الله بن عبد العزيز آل سعود\n",
            "2022 FIFA World Cup final نهائي كأس العالم 2022\n",
            "Russo-Ukrainian War الحرب الروسية الأوكرانية\n",
            "Queen Noor of Jordan نور الحسين\n",
            "Yasmine Sabri ياسمين صبري\n",
            "--- None كيرة والجن (فيلم) ---\n",
            "Lubna Olayan لبنى العليان\n",
            "Mona Zaki منى زكي\n",
            "Solar eclipse كسوف الشمس\n",
            "Bassam Lotfi بسام لطفي\n",
            "Mohammed Al-Owais محمد العويس\n",
            "Mansour bin Zayed Al Nahyan منصور بن زايد آل نهيان\n",
            "Nuno Espírito Santo نونو إسبيريتو سانتو\n",
            "Muhammad al-Mahdi محمد بن الحسن المهدي\n",
            "Muhammad bin Saud Al Muqrin محمد بن سعود بن محمد بن مقرن\n",
            "Wudu وضوء\n",
            "2022 FIFA World Cup knockout stage مرحلة خروج المغلوب في كأس العالم 2022\n",
            "Hazza bin Zayed Al Nahyan هزاع بن زايد آل نهيان\n",
            "Rodrygo رودريغو غوس\n",
            "Egyptian League Cup كأس الرابطة المصرية\n",
            "Croatia كرواتيا\n",
            "Houthi movement حوثيون\n",
            "--- None سجل المشاركات العربية في كأس العالم ---\n",
            "Salman Rushdie سلمان رشدي\n",
            "--- None سلوم حداد ---\n",
            "Shams al-Ma'arif شمس المعارف الكبرى (كتاب)\n",
            "Saleh Al-Luhaidan صالح اللحيدان\n",
            "Commonwealth of Nations دول الكومنولث\n",
            "Tahnoun bin Zayed Al Nahyan (national security advisor) طحنون بن زايد بن سلطان آل نهيان\n",
            "CAF Champions League دوري أبطال إفريقيا\n",
            "--- None دنيا عبد العزيز ---\n",
            "Abdul Majeed Abdullah عبد المجيد عبد الله\n",
            "Lunar eclipse خسوف\n",
            "--- None عقوق الوالدين ---\n",
            "--- None علامات الساعة الصغرى ---\n",
            "Carlos Queiroz كارلوس كيروش\n",
            "Hamdan bin Zayed bin Sultan Al Nahyan حمدان بن زايد آل نهيان\n",
            "Battle of Badr غزوة بدر\n",
            "Fatima bint Mubarak Al Ketbi فاطمة بنت مبارك الكتبي\n",
            "Lalla Fatma N'Soumer فاطمة نسومر\n",
            "--- None فريد الديب ---\n",
            "Gargee'an قرقيعان\n",
            "Blue Diamond Affair قضية الماسة الزرقاء\n",
            "Guevara al-Budayri جيفارا البديري\n",
            "Sadio Mané ساديو ماني\n",
            "FIFA World Cup Trophy كأس بطولة كأس العالم\n",
            "George Wassouf جورج وسوف\n",
            "Chernobyl disaster كارثة تشيرنوبل\n",
            "BRICS بريكس\n",
            "FIFA World Cup top goalscorers صدارة هدافي كأس العالم\n",
            "Ayman al-Zawahiri أيمن الظواهري\n",
            "--- None ارتفاعات المناطق في الأردن ---\n",
            "Five Pillars of Islam أركان الإسلام\n",
            "United States الولايات المتحدة\n",
            "Bakary Gassama باكاري غاساما\n",
            "Mukhtar al-Thaqafi المختار الثقفي\n",
            "Aurélien Tchouaméni أوريلين تشواميني\n",
            "Ahmed Al-Sadoun أحمد السعدون\n",
            "Larbi Ben M'hidi العربي بن مهيدي\n",
            "The Satanic Verses آيات شيطانية\n",
            "Fasting in Islam الصوم في الإسلام\n",
            "--- None جاسم عباس ---\n",
            "Jala Fahmy جالا فهمي\n",
            "Polisario Front جبهة البوليساريو\n",
            "Mpox جدري النسناس\n",
            "Mpox جدري النسناس\n",
            "Belgium national football team منتخب بلجيكا لكرة القدم\n",
            "--- None رجاء حسين ---\n",
            "Ezzat Abou Aouf عزت أبو عوف\n",
            "Al Nassr FC نادي النصر (السعودية)\n",
            "President of Ukraine رئيس أوكرانيا\n",
            "--- None علي الهويريني ---\n",
            "List of countries by oil production قائمة الدول حسب إنتاج النفط\n",
            "AD Sports أبو ظبي الرياضية\n",
            "FIFA World Cup hosts قائمة الدول المستضيفة لكأس العالم\n",
            "--- None الهيبة (فيلم) ---\n",
            "Raja CA نادي الرجاء الرياضي\n",
            "Brazil البرازيل\n",
            "Princess Iman bint Abdullah إيمان بنت عبد الله الثاني\n",
            "Meghan, Duchess of Sussex ميغان دوقة ساسكس\n",
            "Abdulrahman Obaid Al-Youbi عبد الرحمن اليوبي\n",
            "Zaki Fatin Abdel Wahab زكي فطين عبد الوهاب\n",
            "Reema bint Bandar Al Saud ريما بنت بندر بن سلطان آل سعود\n",
            "Wales ويلز\n",
            "--- None عبد الرحمن بن ناصر بن عبد العزيز آل سعود ---\n",
            "Tashahhud التشهد\n",
            "Twitter تويتر\n",
            "Sayeda Aisha Mosque مسجد السيدة عائشة\n",
            "Marcel Koller مارسيل كولر\n",
            "Hassan II Mosque مسجد الحسن الثاني\n",
            "Mark Zuckerberg مارك زوكربيرغ\n",
            "Al-Ittihad Club (Jeddah) نادي الاتحاد (السعودية)\n",
            "Kuwaiti dinar دينار كويتي\n",
            "--- None أحمد حلاوة ---\n",
            "New Year's Day رأس السنة الميلادية\n",
            "Jaafar al-Sadr محمد جعفر الصدر\n",
            "Jamal Musiala جمال موسيالا\n",
            "Homosexuality مثلية جنسية\n",
            "The Gambia غامبيا\n",
            "Death of Diana, Princess of Wales حادثة وفاة الأميرة ديانا\n",
            "Fairuz فيروز (مغنية)\n",
            "Paris massacre of 1961 مجزرة باريس عام 1961\n",
            "Nawaf Al-Ahmad Al-Jaber Al-Sabah نواف الأحمد الجابر الصباح\n",
            "--- None خالد زكي ---\n",
            "Khalid bin Sultan Al Saud خالد بن سلطان بن عبد العزيز آل سعود\n",
            "Prince Hashim bin Hussein هاشم بن الحسين\n",
            "Khaled Al-Zylaeei خالد الزيلعي\n",
            "G20 مجموعة العشرين\n",
            "--- None محمد الأمين (رجل أعمال) ---\n",
            "Nowruz نوروز\n",
            "Equatorial Guinea غينيا الاستوائية\n",
            "FC Barcelona 2–8 FC Bayern Munich برشلونة 2–8 بايرن ميونخ\n",
            "Vanessa Paradis فانيسا بارادي\n",
            "Sétif and Guelma massacre مجازر 8 مايو 1945\n",
            "First Communion المناولة الأولى\n",
            "--- None جمرة العقبة ---\n",
            "Al-Ahli Saudi FC النادي الأهلي (السعودية)\n",
            "Mohammad Sabah Al-Salem Al-Sabah محمد صباح السالم الصباح\n",
            "Moamen Zakaria مؤمن زكريا\n",
            "--- None None ---\n",
            "Hijrah الهجرة النبوية\n",
            "Saudi Pro League دوري المحترفين السعودي\n",
            "Queen Victoria فيكتوريا ملكة المملكة المتحدة\n",
            "UEFA Europa Conference League دوري المؤتمر الأوروبي\n",
            "Nancy Pelosi نانسي بيلوسي\n",
            "--- None عودة جزيرة العرب مروجا وأنهارا ---\n",
            "--- None نبيلة مكرم ---\n",
            "--- None عيد الاستقلال (المغرب) ---\n",
            "Nesreen Tafesh نسرين طافش\n",
            "Passover عيد الفصح اليهودي\n",
            "Assassination of Ali اغتيال علي بن أبي طالب\n",
            "Darwin Núñez داروين نونيز\n",
            "--- None قطارة الإمام علي ---\n",
            "Hamad bin Khalifa Al Thani حمد بن خليفة آل ثاني\n",
            "Antoinette Najeeb أنطوانيت نجيب\n",
            "--- None يوم العلم (الجزائر) ---\n",
            "Supercopa de España كأس السوبر الإسباني\n",
            "Spain national football team منتخب إسبانيا لكرة القدم\n",
            "--- None أسرة فهد بن عبد العزيز آل سعود ---\n",
            "Hajj الحج في الإسلام\n",
            "Rain prayer صلاة الاستسقاء\n",
            "Saad Lamjarred سعد لمجرد\n",
            "Yazeed Al-Rajhi يزيد الراجحي\n",
            "Netherlands national football team منتخب هولندا لكرة القدم\n",
            "2030 FIFA World Cup كأس العالم 2030\n",
            "Serbia صربيا\n",
            "Sofyan Amrabat سفيان أمرابط\n",
            "James Webb Space Telescope مقراب جيمس ويب الفضائي\n",
            "2022 Arab Cup U-17 كأس العرب تحت 17 سنة 2022\n",
            "CZN Burak بوراك أوزدمير\n",
            "Sulaf Fawakherji سلاف فواخرجي\n",
            "Sultan bin Khalifa Al Nahyan سلطان بن خليفة آل نهيان\n",
            "--- None باسم عبد الأمير ---\n",
            "Casemiro كاسيميرو\n",
            "--- None أيام التشريق ---\n",
            "--- None بوسي (مغنية) ---\n",
            "Adolf Hitler أدولف هتلر\n",
            "Qatar national football team منتخب قطر لكرة القدم\n",
            "King Cup كأس خادم الحرمين الشريفين\n",
            "--- None إبراهيم النابلسي ---\n",
            "House of the Dragon آل التنين\n",
            "World War III الحرب العالمية الثالثة\n",
            "Emirate of Nejd الدولة السعودية الثانية\n",
            "--- None يوم الشهيد (الجزائر) ---\n",
            "Saleh Selim صالح سليم\n",
            "Passant Shawky بسنت شوقي\n",
            "World Teachers' Day يوم المعلم العالمي\n",
            "--- None طلال باسم ---\n",
            "Moza bint Nasser موزا المسند\n",
            "Talal Maddah طلال مداح\n",
            "The Lady of Heaven سيدة الجنة (فيلم)\n",
            "Lily-Rose Depp ليلي روز ديب\n",
            "Muthaffar al-Nawab مظفر النواب\n",
            "Salem Al-Dawsari سالم الدوسري\n",
            "England national football team منتخب إنجلترا لكرة القدم\n",
            "Costa Rica كوستاريكا\n",
            "Kosovo كوسوفو\n",
            "--- None صوم يوم عرفة ---\n",
            "Zinedine Zidane زين الدين زيدان\n",
            "Gregorian calendar تقويم ميلادي\n",
            "Kinda Alloush كندة علوش\n",
            "Eclipse prayer صلاة الكسوف\n",
            "Muhammad Baqir al-Sadr محمد باقر الصدر\n",
            "--- None غادة إبراهيم ---\n",
            "Georgia Guidestones نصب جورجيا الغامض\n",
            "Serie A الدوري الإيطالي\n",
            "--- None سيف عبد الرحمن ---\n",
            "Gabriel Batistuta غابرييل باتيستوتا\n",
            "Sierra Leone سيراليون\n",
            "Light-year سنة ضوئية\n",
            "--- None أسامة السيد ---\n",
            "Dan Bilzerian دان بيلزيريان\n",
            "Nordin Amrabat نور الدين أمرابط\n",
            "Saleh Al-Talib صالح آل طالب\n",
            "Borderline personality disorder اضطراب الشخصية الحدي\n",
            "Khalid bin Salman Al Saud خالد بن سلمان آل سعود\n",
            "Chefchaouen شفشاون\n",
            "Fatal insomnia أرق مميت\n",
            "Ghana غانا\n",
            "Princess Salma bint Abdullah سلمى بنت عبد الله الثاني\n",
            "Germany national football team منتخب ألمانيا لكرة القدم\n",
            "Khalid bin Faisal Al Saud خالد الفيصل بن عبد العزيز آل سعود\n",
            "--- None خالد الراشد ---\n",
            "Shinzo Abe شينزو آبي\n",
            "Shimr شمر بن ذي الجوشن\n",
            "Ghusl غسل (إسلام)\n",
            "Osama bin Laden أسامة بن لادن\n",
            "Shikabala شيكابالا\n",
            "Prince Ghazi bin Muhammad غازي بن محمد\n",
            "--- None أحمد الحواشي ---\n",
            "Mohammed bin Khalifa bin Zayed Al Nahyan محمد بن خليفة بن زايد آل نهيان\n",
            "Mishaal bint Fahd Al Saud مشاعل بنت فهد بن محمد آل سعود\n",
            "Muhammad al-Sadr (jurist) محمد صادق الصدر\n",
            "Samuel Eto'o صامويل إيتو\n",
            "Haja El Hamdaouia الحاجة الحمداوية\n",
            "Abdullah bin Zayed Al Nahyan عبد الله بن زايد آل نهيان\n",
            "--- None سحر كامل ---\n",
            "Abdullah Alswaha عبد الله السواحه\n",
            "Stoning of the Devil رمي الجمرات\n",
            "Portugal البرتغال\n",
            "Treaty of Lausanne معاهدة لوزان\n",
            "Ruby (Egyptian singer) روبي (مغنية)\n",
            "--- None الطائر الرفراف ---\n",
            "Fatima فاطمة الزهراء\n",
            "--- None ريان الكلداني ---\n",
            "Morgan Freeman مورغان فريمان\n",
            "Rishi Sunak ريشي سوناك\n",
            "Maisa Abd Elhadi ميساء عبد الهادي\n",
            "Mesut Özil مسعود أوزيل\n",
            "--- None ريم مصطفى ---\n",
            "Adel al-Jubeir عادل الجبير\n",
            "Mostefa Ben Boulaïd مصطفى بن بولعيد\n",
            "--- None الشيهانة العزاز ---\n",
            "Mostafa El-Abbadi مصطفى العبادي\n",
            "--- None سدانة الكعبة ---\n",
            "Mofeed Fawzy مفيد فوزي\n",
            "Crimea القرم\n",
            "Wydad AC نادي الوداد الرياضي\n",
            "Saint Valentine القديس فالنتين\n",
            "Nasser bin Abdulaziz Al Saud ناصر بن عبد العزيز آل سعود\n",
            "Donbas دونباس\n",
            "Omar Khorshid عمر خورشيد\n",
            "Russian invasion of Ukraine الغزو الروسي لأوكرانيا 2022\n",
            "Ecuador الإكوادور\n",
            "--- None أحمد القطان ---\n",
            "Abdel Halim Hafez عبد الحليم حافظ\n",
            "Sultan bin Zayed bin Sultan Al Nahyan سلطان بن زايد آل نهيان\n",
            "European Union الاتحاد الأوروبي\n",
            "Adham Nabulsi أدهم نابلسي\n",
            "Islamic New Year رأس السنة الهجرية\n",
            "North Macedonia مقدونيا الشمالية\n",
            "Ramez Galal رامز جلال\n",
            "Mahmoud al-Sarkhi محمود الصرخي\n",
            "--- None محمود شعبان ---\n",
            "Oruç Reis عروج بربروس\n",
            "--- None رحمة أحمد فرج ---\n",
            "Soad Hosny سعاد حسني\n",
            "Mino Raiola مينو رايولا\n",
            "Noura bint Faisal Al Saud نورة بنت فيصل بن سعود آل سعود\n",
            "Warsaw Pact حلف وارسو\n",
            "Unit 8200 وحدة 8200\n",
            "--- None ويجز ---\n",
            "Madeleine Albright مادلين أولبرايت\n",
            "Satanic Verses قصة الغرانيق\n",
            "Thibaut Courtois تيبو كورتوا\n",
            "--- None إياد نصار ---\n",
            "TikTok تيك توك\n",
            "--- None أبرار سبت ---\n",
            "--- None وفاء مكي (ممثلة مصرية) ---\n",
            "Marcelo (footballer, born 1988) مارسيلو\n",
            "Ivana Trump إيفانا ترامب\n",
            "Vahid Halilhodžić وحيد خليلهودزيتش\n",
            "Gavi (footballer) غافي (لاعب كرة قدم)\n",
            "Inter Milan إنتر ميلان\n",
            "Great Sphinx of Giza أبو الهول\n",
            "--- None أبو بكر المشهور ---\n",
            "--- None قائمة بطولات النادي الأهلي المصري ---\n",
            "Mani' ibn Rabi'a al-Muraydi مانع بن ربيعة المريدي\n",
            "Emiliano Martínez إيميليانو مارتينيز\n",
            "--- None مايان السيد ---\n",
            "AC Milan إيه سي ميلان\n",
            "Donetsk People's Republic جمهورية دونيتسك الشعبية\n",
            "Mutaib bin Abdullah Al Saud متعب بن عبد الله بن عبد العزيز آل سعود\n",
            "Globe Soccer Awards جوائز جلوب سوكر\n",
            "Vincent Aboubakar فينسنت أبو بكر\n",
            "Will Smith ويل سميث\n",
            "--- None قضية تيران وصنافير ---\n",
            "Ramsay Hunt syndrome متلازمة رامسي-هانت\n",
            "History of the FIFA World Cup تاريخ كأس العالم\n",
            "Orhan أورخان غازي\n",
            "African Men's Handball Championship بطولة إفريقيا لكرة اليد للرجال\n",
            "--- None يوم التروية ---\n",
            "Camila Cabello كاميلا كابيو\n",
            "Bohra بهرة\n",
            "Lamia bint Majid Al Saud لمياء بنت ماجد بن سعود آل سعود\n",
            "Ibrahim Eissa إبراهيم عيسى\n",
            "Egypt Cup كأس مصر\n",
            "Pep Guardiola بيب غوارديولا\n",
            "--- None يوسف البنيان ---\n",
            "2022 Arab Cup U-20 كأس العرب للمنتخبات تحت 20 سنة 2022\n",
            "--- None ليالي القدر ---\n",
            "William, Prince of Wales ويليام أمير ويلز\n",
            "Liz Truss ليز تراس\n",
            "New Year's Eve ليلة رأس السنة الميلادية\n",
            "--- None يحيى بيازي ---\n",
            "Arabian Gulf Cup كأس الخليج العربي\n",
            "2022 FIFA World Cup qualification (AFC) تصفيات كأس العالم 2022 (آسيا)\n",
            "2022 FIFA World Cup qualification (CAF) تصفيات كأس العالم 2022 (إفريقيا)\n",
            "ALS تصلب جانبي ضموري\n",
            "Elizabeth I إليزابيث الأولى ملكة إنجلترا\n",
            "2023 AFC Asian Cup كأس آسيا 2023\n",
            "Mohammed V Foundation for Solidarity مؤسسة محمد الخامس للتضامن\n",
            "Eid prayers صلاة العيدين\n",
            "Caudal regression syndrome متلازمة التراجع الذيلي\n",
            "Uruguay national football team منتخب الأوروغواي لكرة القدم\n",
            "Hanadi Alkandari هنادي الكندري\n",
            "Marburg virus فيروس ماربورغ\n",
            "Hassanal Bolkiah حسن البلقية\n",
            "John Travolta جون ترافولتا\n",
            "Angelina Jolie أنجلينا جولي\n",
            "Muhammad al-Jawad محمد الجواد\n",
            "Gianni Infantino جياني إنفانتينو\n",
            "Palestinian Islamic Jihad حركة الجهاد الإسلامي في فلسطين\n",
            "--- None فيصل بن تركي بن ناصر آل سعود ---\n",
            "Fahd of Saudi Arabia فهد بن عبد العزيز آل سعود\n",
            "--- None النادي الأهلي المصري في كأس العالم للأندية ---\n",
            "Jules Koundé جول كوندي\n",
            "Palm Sunday أحد الشعانين\n",
            "--- None هادي الباجوري ---\n",
            "Independence Day (Jordan) استقلال الأردن\n",
            "Port Said Stadium riot أحداث ستاد بورسعيد 2012\n",
            "José Mourinho جوزيه مورينيو\n",
            "Ghadir Khumm حديث الغدير\n",
            "Hamed Gohar حامد جوهر\n",
            "UEFA Super Cup كأس السوبر الأوروبي\n",
            "--- None إلهام علي ---\n",
            "Kyrgyzstan قيرغيزستان\n",
            "Sahrawi Arab Democratic Republic الجمهورية العربية الصحراوية الديمقراطية\n",
            "Leila Mourad ليلى مراد\n",
            "2004 African Cup of Nations كأس الأمم الإفريقية 2004\n",
            "--- None أسرة فيصل بن عبد العزيز آل سعود ---\n",
            "Ansu Fati أنسو فاتي\n",
            "--- None أشرف طلفاح ---\n",
            "--- None فهد بن حثلين ---\n",
            "National Assembly (Kuwait) مجلس الأمة الكويتي\n",
            "Tahajjud صلاة التهجد\n",
            "Egyptian Super Cup كأس السوبر المصري\n",
            "Laylat al-Raghaib ليلة الرغائب\n",
            "--- None عايدة عبد العزيز ---\n",
            "--- None صوم يوم عاشوراء ---\n",
            "Umm al-Banin أم البنين\n",
            "Spinal muscular atrophy ضمور العضلات الشوكي\n",
            "Tajikistan طاجيكستان\n",
            "Good Friday الجمعة العظيمة\n",
            "Ons Jabeur أنس جابر\n",
            "Édouard Mendy إدوارد ميندي\n",
            "Tarek Shawki طارق شوقي\n",
            "--- None طارق عامر ---\n",
            "Bubonic plague طاعون دملي\n",
            "2003 invasion of Iraq غزو العراق\n",
            "Al Jazeera قناة الجزيرة\n",
            "--- None إلياس كرام ---\n",
            "Periodic table الجدول الدوري\n",
            "Sabra and Shatila massacre مجزرة صبرا وشاتيلا\n",
            "2022 FIFA Club World Cup كأس العالم للأندية 2022\n",
            "Killing of Muhammad al-Durrah مقتل محمد الدرة\n",
            "Kazem al-Haeri كاظم الحائري\n",
            "Kaliningrad كالينينغراد\n",
            "--- None شيماء علي ---\n",
            "--- None شيماء سبت ---\n",
            "Wives of Muhammad أمهات المؤمنين\n",
            "--- None كاميرات مراقبة ---\n",
            "--- None None ---\n",
            "Shehbaz Sharif شهباز شريف\n",
            "--- None شمعة محمد ---\n",
            "--- None أون تايم سبورتس ---\n",
            "Angham أنغام\n",
            "Guinea-Bissau غينيا بيساو\n",
            "April Fools' Day كذبة أبريل\n",
            "Mohammed Badie محمد بديع\n",
            "Eclipse كسوف\n",
            "--- None شذى سبت ---\n",
            "Solar eclipse of October 25, 2022 كسوف الشمس 25 أكتوبر 2022\n",
            "Clarence Seedorf كلارنس سيدورف\n",
            "Wembley Stadium ملعب ويمبلي\n",
            "Gotabaya Rajapaksa غوتابايا راجاباكسا\n",
            "Parliament of Lebanon مجلس النواب اللبناني\n",
            "Saleh Ajeery صالح العجيري\n",
            "Idrissa Gueye إدريسا غي\n",
            "Abdelhak Nouri عبد الحق نوري\n",
            "FIFA World Cup records and statistics إحصائيات وأرقام قياسية في كأس العالم\n",
            "Luiz Gustavo لويس غوستافو\n",
            "Sabah Al-Salim Al-Sabah صباح السالم الصباح\n",
            "Luis Suárez لويس سواريز\n",
            "G7 مجموعة الدول الصناعية السبع\n",
            "CAF Confederation Cup كأس الكونفيدرالية الإفريقية\n",
            "Luka Modrić لوكا مودريتش\n",
            "EFL Cup كأس رابطة الأندية الإنجليزية المحترفة\n",
            "Lamis Gaber لميس جابر\n",
            "Mohammed al-Ajami محمد بن الذيب\n",
            "Maccabi Haifa F.C. مكابي حيفا\n",
            "--- None صالح بن عبد الله العزاز ---\n",
            "Catherine, Princess of Wales كاثرين أميرة ويلز\n",
            "Maktoum bin Rashid Al Maktoum مكتوم بن راشد آل مكتوم\n",
            "Ousha the Poet فتاة العرب\n",
            "--- None عبد الحق الخيام ---\n",
            "--- None مؤيد النفيعي ---\n",
            "Ghanim Al-Muftah غانم المفتاح\n",
            "Sharif Ali bin al-Hussein علي بن الحسين الهاشمي (سياسي عراقي)\n",
            "List of Mediterranean countries قائمة الدول المتوسطية\n",
            "Islam in Kazakhstan الإسلام في كازاخستان\n",
            "--- None مبارك الدبوس ---\n",
            "Michael Olise مايكل أوليز\n",
            "Ali Al-Mdfa علي المدفع\n",
            "--- None أغوات ---\n",
            "Ali al-Rida علي الرضا\n",
            "Ali al-Akbar ibn Husayn علي الأكبر\n",
            "Stranger Things أشياء غريبة\n",
            "Faisal bin Abdullah Al Saud (born 1978) فيصل بن عبد الله بن عبد العزيز آل سعود\n",
            "Mohammed Nasser Al-Aboudi محمد ناصر العبودي\n",
            "Islam in Senegal الإسلام في السنغال\n",
            "Epiphany (holiday) عيد الظهور الإلهي\n",
            "Pentecost عيد العنصرة\n",
            "Mahmoud Abdel Aziz محمود عبد العزيز\n",
            "Islam in Ukraine الإسلام في أوكرانيا\n",
            "--- None مديحة الحسيني ---\n",
            "List of English football champions قائمة الأندية الفائزة بالدوري الإنجليزي الممتاز\n",
            "Ali ibn Abdur-Rahman al Hudhaify علي بن عبد الرحمن الحذيفي\n",
            "--- None قائمة مؤتمرات القمة العربية ---\n",
            "--- None محمد عبد العزيز الراجحي ---\n",
            "Ibn Khaldun ابن خلدون\n",
            "2022 Finalissima فيناليسيما 2022\n",
            "Amr Waked عمرو واكد\n",
            "--- None عهدي صادق ---\n",
            "Stockholm syndrome متلازمة ستوكهولم\n",
            "Amr Diab عمرو دياب\n",
            "--- None قائمة أعمال عادل إمام ---\n",
            "Ehab Galal إيهاب جلال\n",
            "List of top international men's football goal scorers by country قائمة أكبر الهدافين الدوليين في كرة القدم للرجال حسب البلد\n",
            "--- None محمد سلطان (ملحن) ---\n",
            "Albert Ebossé Bodjongo ألبير إيبوسي\n",
            "List of international goals scored by Cristiano Ronaldo قائمة أهداف كريستيانو رونالدو الدولية\n",
            "Independence Day (Algeria) عيد استقلال الجزائر\n",
            "List of international goals scored by Lionel Messi قائمة أهداف ليونيل ميسي الدولية\n",
            "Ali ibn Husayn Zayn al-Abidin علي زين العابدين\n",
            "List of career achievements by Lionel Messi قائمة إنجازات ليونيل ميسي\n",
            "Ali Khamenei علي خامنئي\n",
            "List of solar eclipses in the 21st century قائمة كسوفات الشمس في القرن الحادي والعشرين\n",
            "Adnan Oktar عدنان أوكطار\n",
            "Alkass Sports Channels قنوات الكأس الرياضية\n",
            "Sayyidah Zainab Mosque, Cairo مسجد السيدة زينب (القاهرة)\n",
            "Abdulaziz bin Salman Al Saud عبد العزيز بن سلمان بن عبد العزيز آل سعود\n",
            "Qasem Soleimani قاسم سليماني\n",
            "Al-Qubaysiat قبيسيات\n",
            "Ghada Adel غادة عادل\n",
            "Prince Faisal bin Hussein فيصل بن الحسين (أمير)\n",
            "Aliou Cissé أليو سيسيه\n",
            "Mohamed Abdul Salam Mahgoub عبد السلام المحجوب\n",
            "Qiyas Tests اختبارات القياس\n",
            "--- None غالب كامل ---\n",
            "Abd al-Rahman ibn Muljam عبد الرحمن بن ملجم\n",
            "Muslim ibn Aqil مسلم بن عقيل\n",
            "Abdul Rahman bin Abdulaziz Al Saud عبد الرحمن بن عبد العزيز آل سعود\n",
            "--- None فور إم ---\n",
            "--- None ماجد بن سعود بن عبد العزيز آل سعود ---\n",
            "Bahadur Shah Zafar محمد بهادر شاه\n",
            "--- None مؤيد البدري ---\n",
            "Mishal Al-Ahmad Al-Jaber Al-Sabah مشعل الأحمد الجابر الصباح\n",
            "Sayeda Aisha Mosque مسجد السيدة عائشة\n",
            "Masjid Al-Taneem مسجد التنعيم\n",
            "Montreux Convention Regarding the Regime of the Straits اتفاقية مونترو\n",
            "--- None إياس أبو غزالة ---\n",
            "Uthman ibn Talha عثمان بن طلحة\n",
            "Ubayd Allah ibn Ziyad عبيد الله بن زياد\n",
            "Association football goal مرمى ملعب كرة قدم\n",
            "Emmanuel Macron إيمانويل ماكرون\n",
            "--- None قائمة مباريات ديربي القاهرة ---\n",
            "Mary Bell ماري بيل\n",
            "Faisal bin Salman Al Saud فيصل بن سلمان بن عبد العزيز آل سعود\n",
            "Uruguay الأوروغواي\n",
            "List of British monarchs قائمة ملوك بريطانيا العظمى\n",
            "International Science and Engineering Fair مسابقة إنتل الدولية للعلوم والهندسة\n",
            "Marcos Alonso (footballer, born 1990) ماركوس ألونسو ميندوزا\n",
            "Marco Rose ماركو روزه\n",
            "Aleksandr Dugin ألكسندر دوغين\n",
            "Cloud seeding استمطار\n",
            "Faisal bin Khalid Al Saud (born 1973) فيصل بن خالد بن سلطان آل سعود\n",
            "Abdullatif bin Abdulaziz Al-Sheikh عبد اللطيف بن عبد العزيز آل الشيخ\n",
            "--- None عبد الكريم بن سعود بن عبد العزيز آل سعود ---\n",
            "Superuser مستخدم خارق\n",
            "2023 2023\n",
            "Rashad al-Alimi رشاد محمد العليمي\n",
            "China الصين\n",
            "President of the United Arab Emirates رئيس الإمارات العربية المتحدة\n",
            "Tawfig Al-Rabiah توفيق الربيعة\n",
            "Eintracht Frankfurt آينتراخت فرانكفورت\n",
            "Prime Minister of Saudi Arabia رئاسة مجلس الوزراء السعودي\n",
            "Zakir Naik ذاكر نايك\n",
            "Gabon الغابون\n",
            "Tonga تونغا\n",
            "Future FC نادي فيوتشر\n",
            "Ahmad Nawaf Al-Ahmad Al-Sabah أحمد النواف الأحمد الصباح\n",
            "Tiran Island تيران (جزيرة)\n",
            "Casablanca derby ديربي الدار البيضاء\n",
            "Tayseer al-Jabari تيسير الجعبري\n",
            "Al-Qasim ibn Hasan ibn Ali القاسم بن الحسن بن علي\n",
            "Walid Al-Omari وليد العمري\n",
            "DJ Snake دي جي سنيك\n",
            "Donetsk دونيتسك\n",
            "Nadhim Zahawi ناظم الزهاوي (سياسي بريطاني)\n",
            "Abu Ibrahim al-Hashimi al-Qurashi أبو إبراهيم الهاشمي القرشي\n",
            "Nabila Ebeid نبيلة عبيد\n",
            "2022 Arab League summit القمة العربية 2022 (الجزائر)\n",
            "North Yemen Civil War ثورة 26 سبتمبر اليمنية\n",
            "Necati Şaşmaz نجاتي شاشماز\n",
            "Naguib el-Rihani نجيب الريحاني\n",
            "AS Roma نادي روما\n",
            "Ahmed bin Zayed Al Nahyan أحمد بن زايد آل نهيان\n",
            "Raphinha رافينيا دياز\n",
            "Prince Moulay Rachid of Morocco رشيد بن الحسن\n",
            "Hagia Sophia آيا صوفيا\n",
            "Rudi Garcia رودي غارسيا\n",
            "Che Guevara تشي جيفارا\n",
            "UD Almería نادي ألميريا\n",
            "Rwanda رواندا\n",
            "Ramzan Kadyrov رمضان قديروف\n",
            "Black sand رمال سوداء\n",
            "Al-Fayha FC نادي الفيحاء\n",
            "2022 Kuwaiti general election انتخابات مجلس الأمة الكويتي 2022\n",
            "Reda Hegazy رضا حجازي\n",
            "Yasmin Abdulaziz ياسمين عبد العزيز\n",
            "Ramón Díaz رامون دياز\n",
            "Jesualdo Ferreira جوسفالدو فيريرا\n",
            "Islamic calendar تقويم هجري\n",
            "Iraq العراق\n",
            "--- None رجائي عطية ---\n",
            "Ray Liotta راي ليوتا\n",
            "Yasser Al-Shahrani ياسر الشهراني\n",
            "Greece اليونان\n",
            "Yasir Al-Rumayyan ياسر الرميان\n",
            "Stade Brestois 29 نادي بريست\n",
            "Tahani al-Gebali تهاني الجبالي\n",
            "Nermin Al-Fiqy نرمين الفقي\n",
            "Naziha Salim نزيهة سليم\n",
            "2022 Ballon d'Or جائزة الكرة الذهبية 2022\n",
            "Prince Hashem bin Abdullah هاشم بن عبد الله الثاني\n",
            "--- None جلوي بن سعود بن عبد العزيز آل سعود ---\n",
            "Newcastle United F.C. نيوكاسل يونايتد\n",
            "Hassa bint Mohammed Al Nahyan حصة بنت محمد آل نهيان\n",
            "Luhansk People's Republic جمهورية لوغانسك الشعبية\n",
            "Hussain Al Jassmi حسين الجسمي\n",
            "--- None جميلة (مغنية) ---\n",
            "Hasan-i Sabbah حسن الصباح\n",
            "--- None حسن أبو السعود ---\n",
            "Kurdistan Workers' Party حزب العمال الكردستاني\n",
            "Iraq War حرب العراق\n",
            "--- None هبة الحسين ---\n",
            "--- None هيدي كرم ---\n",
            "Jawdat Said جودت سعيد\n",
            "Henry Kissinger هنري كيسنجر\n",
            "--- None حازم شومان ---\n",
            "Attack on Titan هجوم العمالقة\n",
            "Cherifian Anthem النشيد الشريف\n",
            "Hend Sabry هند صبري\n",
            "Jennifer Lopez جينيفر لوبيز\n",
            "--- None جيسكار أبي نادر ---\n",
            "Abu Mahdi al-Muhandis أبو مهدي المهندس\n",
            "Hichem Rostom هشام رستم\n",
            "--- None جلال الشرقاوي ---\n",
            "Haifa bint Faisal Al Saud هيفاء الفيصل بن عبد العزيز آل سعود\n",
            "--- None دحو الأرض ---\n",
            "Noureddine Bikr نور الدين بكر\n",
            "David Wagner (soccer) دايفيد فاغنر\n",
            "--- None داود جلاجل ---\n",
            "Jabir ibn Hayyan جابر بن حيان\n",
            "Jada Pinkett Smith جادا بينكيت سميث\n",
            "Dalida داليدا\n",
            "David Ospina دافيد أوسبينا\n",
            "Mount Arafat جبل عرفة\n",
            "--- None نهار بن سعود بن عبد العزيز آل سعود ---\n",
            "Nahyan bin Mubarak Al Nahyan نهيان بن مبارك آل نهيان\n",
            "Mpox جدري النسناس\n",
            "Noor el-Sheikh نور الشيخ\n",
            "United Nations Security Council veto power حق النقض في مجلس الأمن التابع للأمم المتحدة\n",
            "Homaidan Al-Turki حميدان التركي\n",
            "Solomon Islands جزر سليمان\n",
            "Héctor Bellerín هيكتور بيليرين\n",
            "Nigeria نيجيريا\n",
            "--- None المرسي أبو العباس (ممثل) ---\n",
            "Christianity المسيحية\n",
            "Hamad bin Mohammed Al Al-Sheikh حمد آل الشيخ\n",
            "Crimean Bridge جسر القرم\n",
            "Ja'far al-Sadiq جعفر الصادق\n",
            "--- None جعفر الغريب ---\n",
            "Yehia El-Fakharany يحيى الفخراني\n",
            "--- None هشام هنيدي ---\n",
            "Charles III تشارلز الثالث\n",
            "Brain death موت دماغي\n",
            "Saudi Arabia at the FIFA World Cup السعودية في كأس العالم\n",
            "Ahmed Mekky أحمد مكي\n",
            "Youssef En-Nesyri يوسف النصيري\n",
            "Mehran Karimi Nasseri مهران كريمي ناصري\n",
            "Stray Kids ستراي كيدز\n",
            "2005 FIFA Club World Championship بطولة العالم للأندية 2005\n",
            "Declaration of 1 November 1954 بيان أول نوفمبر 1954\n",
            "Druze موحدون دروز\n",
            "Japan national football team منتخب اليابان لكرة القدم\n",
            "Sami Clark سامي كلارك\n",
            "--- None سامي فهمي ---\n",
            "House of Windsor بيت وندسور\n",
            "--- None أرطاوي الرقاص (الدوادمي) ---\n",
            "Pitso Mosimane بيتسو موسيماني\n",
            "--- None سالي عبد السلام ---\n",
            "Paulo Sousa باولو سوزا\n"
          ]
        }
      ]
    },
    {
      "cell_type": "code",
      "source": [
        "len(en_titles_list)"
      ],
      "metadata": {
        "colab": {
          "base_uri": "https://localhost:8080/",
          "height": 35
        },
        "id": "HSTG_phNGh6K",
        "outputId": "f41a253e-bbde-42ca-f53a-84b230d6d7a7"
      },
      "execution_count": 29,
      "outputs": [
        {
          "output_type": "display_data",
          "data": {
            "text/plain": [
              "<IPython.core.display.Javascript object>"
            ],
            "application/javascript": [
              "google.colab.output.setIframeHeight(0, true, {maxHeight: 5000})"
            ]
          },
          "metadata": {}
        },
        {
          "output_type": "execute_result",
          "data": {
            "text/plain": [
              "1632"
            ]
          },
          "metadata": {},
          "execution_count": 29
        }
      ]
    },
    {
      "cell_type": "markdown",
      "source": [
        "### English extraction funciton"
      ],
      "metadata": {
        "id": "A6aRps_1L7KS"
      }
    },
    {
      "cell_type": "code",
      "source": [
        "num_missing_photos = image_urls.count(None)\n",
        "print(len(image_urls) - num_missing_photos, 'photos available out of the', len(image_urls), 'articles.', num_missing_photos, 'or (', round((num_missing_photos/len(image_urls))*100), '%)', 'photos are still missing.')"
      ],
      "metadata": {
        "colab": {
          "base_uri": "https://localhost:8080/",
          "height": 35
        },
        "id": "xmHa6J_Gfmoc",
        "outputId": "285573a0-f470-4773-d874-a5147aab5462"
      },
      "execution_count": 44,
      "outputs": [
        {
          "output_type": "display_data",
          "data": {
            "text/plain": [
              "<IPython.core.display.Javascript object>"
            ],
            "application/javascript": [
              "google.colab.output.setIframeHeight(0, true, {maxHeight: 5000})"
            ]
          },
          "metadata": {}
        },
        {
          "output_type": "stream",
          "name": "stdout",
          "text": [
            "1104 photos available out of the 1632 articles. 528 or ( 32 %) photos are still missing.\n"
          ]
        }
      ]
    },
    {
      "cell_type": "code",
      "source": [
        "wikipedia.set_lang(\"en\")\n",
        "\n",
        "en_summaries_list = []\n",
        "en_urls_list = []\n",
        "en_page_ids = []\n",
        "\n",
        "for en_title, image_url in zip(en_titles_list[:60], image_urls[:60]):\n",
        "\n",
        "  if en_title != None:\n",
        "\n",
        "    current_article = wikipedia.page(title=en_title, auto_suggest=False)\n",
        "\n",
        "    en_summaries_list.append(current_article.summary)\n",
        "    en_urls_list.append(current_article.url)\n",
        "    en_page_ids.append(current_article.pageid)\n",
        "\n",
        "    # Categories in the Arabic version is better than the English one\n",
        "    # current_article_categories_list = current_article.categories\n",
        "\n",
        "\n",
        "    print(current_article, image_url)\n",
        "\n",
        "\n",
        "    \"\"\"\n",
        "\n",
        "    if image_url == None:\n",
        "\n",
        "      # Encode the URL components\n",
        "      # lang = urllib.parse.quote(lang)\n",
        "      encoded_page_title = urllib.parse.quote(en_title)\n",
        "\n",
        "      encoded_api_url = f'https://en.wikipedia.org/w/api.php?action=query&prop=pageimages&format=json&piprop=original&titles={encoded_page_title}'\n",
        "\n",
        "      resp = urllib.request.urlopen(encoded_api_url)\n",
        "      resp_bytes = resp.read()\n",
        "      data = json.loads(resp_bytes)\n",
        "\n",
        "      # Search for the title in the JSON data\n",
        "      for page_id, page_info in data['query']['pages'].items():\n",
        "          if page_info.get('title') == page_title:\n",
        "              original_info = page_info.get('original', {})\n",
        "              source_url = original_info.get('source')\n",
        "\n",
        "              # If source_url is None, append it to the list\n",
        "              if source_url is None:\n",
        "                  image_urls.append(None)\n",
        "              else:\n",
        "                  image_urls.append(source_url)\n",
        "\n",
        "\n",
        "     \"\"\"\n",
        "\n",
        "\n",
        "\n",
        "\n",
        "\n",
        "  else:\n",
        "\n",
        "    en_summaries_list.append(None)\n",
        "    en_urls_list.append(None)\n",
        "    en_page_ids.append(None)\n",
        "\n",
        "    print('\\nNo English version of this page:', en_title)\n",
        "\n"
      ],
      "metadata": {
        "colab": {
          "base_uri": "https://localhost:8080/",
          "height": 1124
        },
        "id": "eFRNv7orJ8M1",
        "outputId": "84c0f434-3536-4bc9-8e5a-8d7d43dc8bbf"
      },
      "execution_count": 51,
      "outputs": [
        {
          "output_type": "display_data",
          "data": {
            "text/plain": [
              "<IPython.core.display.Javascript object>"
            ],
            "application/javascript": [
              "google.colab.output.setIframeHeight(0, true, {maxHeight: 5000})"
            ]
          },
          "metadata": {}
        },
        {
          "output_type": "stream",
          "name": "stdout",
          "text": [
            "<WikipediaPage 'YouTube'> https://upload.wikimedia.org/wikipedia/commons/2/21/YouTube_HQ_11.JPG\n",
            "<WikipediaPage 'Cristiano Ronaldo'> https://upload.wikimedia.org/wikipedia/commons/d/d7/Cristiano_Ronaldo_playing_for_Al_Nassr_FC_against_Persepolis%2C_September_2023_%28cropped%29.jpg\n",
            "<WikipediaPage 'Muhammad'> https://upload.wikimedia.org/wikipedia/commons/e/eb/Calligraphic_representation_of_Muhammad%27s_name.jpg\n",
            "<WikipediaPage 'Absher (application)'> https://upload.wikimedia.org/wikipedia/commons/8/88/Absher.svg\n",
            "<WikipediaPage '2022 FIFA World Cup'> None\n",
            "<WikipediaPage 'Translation'> None\n",
            "<WikipediaPage 'Facebook'> https://upload.wikimedia.org/wikipedia/commons/b/b8/2021_Facebook_icon.svg\n",
            "<WikipediaPage 'Signs of the coming of Judgement Day'> https://upload.wikimedia.org/wikipedia/ar/0/07/Allah-eser-green_New_version.png\n",
            "<WikipediaPage 'Egypt'> https://upload.wikimedia.org/wikipedia/commons/f/fe/Flag_of_Egypt.svg\n",
            "<WikipediaPage 'Google Translate'> https://upload.wikimedia.org/wikipedia/commons/d/d7/Google_Translate_logo.svg\n",
            "<WikipediaPage 'UEFA Champions League'> None\n",
            "<WikipediaPage 'FIFA Men's World Ranking'> None\n",
            "<WikipediaPage 'Real Madrid CF'> None\n",
            "<WikipediaPage 'List of Cairo Metro stations'> None\n",
            "<WikipediaPage 'Mia Khalifa'> https://upload.wikimedia.org/wikipedia/commons/9/9b/Mia_Khalifa_in_2019.png\n",
            "<WikipediaPage 'Saudi Arabia'> https://upload.wikimedia.org/wikipedia/commons/0/0d/Flag_of_Saudi_Arabia.svg\n",
            "<WikipediaPage 'Google'> https://upload.wikimedia.org/wikipedia/commons/0/0e/Googleplex-Patio-Aug-2014.JPG\n",
            "<WikipediaPage 'FC Barcelona'> None\n",
            "<WikipediaPage 'FIFA World Cup'> https://upload.wikimedia.org/wikipedia/commons/a/a1/FIFA_World_Cup_Trophy_%28Jules_Rimet_Trophy%29_at_National_Football_Museum%2C_Manchester_02.jpg\n",
            "<WikipediaPage 'Lionel Messi'> https://upload.wikimedia.org/wikipedia/commons/b/b4/Lionel-Messi-Argentina-2022-FIFA-World-Cup_%28cropped%29.jpg\n",
            "<WikipediaPage 'Ali'> https://upload.wikimedia.org/wikipedia/ar/8/80/%D8%B9%D9%84%D9%8A_%D8%A8%D9%86_%D8%A3%D8%A8%D9%8A_%D8%B7%D8%A7%D9%84%D8%A8.gif\n",
            "<WikipediaPage 'WhatsApp'> https://upload.wikimedia.org/wikipedia/commons/6/6b/WhatsApp.svg\n",
            "<WikipediaPage 'Salman of Saudi Arabia'> https://upload.wikimedia.org/wikipedia/commons/2/2e/Salman_2017.jpg\n",
            "<WikipediaPage 'Instagram'> https://upload.wikimedia.org/wikipedia/commons/9/95/Instagram_logo_2022.svg\n",
            "<WikipediaPage '2026 FIFA World Cup'> None\n",
            "<WikipediaPage 'Al-Kahf'> https://upload.wikimedia.org/wikipedia/commons/b/b9/COLLECTIE_TROPENMUSEUM_Pagina_uit_een_koran_TMnr_687-61.jpg\n",
            "<WikipediaPage 'NATO'> https://upload.wikimedia.org/wikipedia/commons/3/37/Flag_of_NATO.svg\n",
            "<WikipediaPage 'World War II'> https://upload.wikimedia.org/wikipedia/ar/1/10/%D9%85%D9%84%D8%B5%D9%82_%D9%84%D9%84%D8%AD%D8%B1%D8%A8_%D8%A7%D9%84%D8%B9%D8%A7%D9%84%D9%85%D9%8A%D8%A9_%D8%A7%D9%84%D8%AB%D8%A7%D9%86%D9%8A%D8%A9.jpg\n",
            "<WikipediaPage 'Ukraine'> https://upload.wikimedia.org/wikipedia/commons/4/49/Flag_of_Ukraine.svg\n",
            "<WikipediaPage 'Russia'> https://upload.wikimedia.org/wikipedia/commons/f/f3/Flag_of_Russia.svg\n",
            "<WikipediaPage 'Johnny Depp'> https://upload.wikimedia.org/wikipedia/commons/7/79/Johnny_Depp_Deauville_2019.jpg\n",
            "<WikipediaPage 'Manchester City F.C.'> None\n",
            "<WikipediaPage 'Liverpool F.C.'> None\n",
            "<WikipediaPage 'Kylian Mbappé'> https://upload.wikimedia.org/wikipedia/commons/5/57/2019-07-17_SG_Dynamo_Dresden_vs._Paris_Saint-Germain_by_Sandro_Halank%E2%80%93129_%28cropped%29.jpg\n",
            "<WikipediaPage 'List of FIFA World Cup winning players'> https://upload.wikimedia.org/wikipedia/commons/f/f7/World_cup_winners.png\n",
            "<WikipediaPage 'Elon Musk'> https://upload.wikimedia.org/wikipedia/commons/3/34/Elon_Musk_Royal_Society_%28crop2%29.jpg\n",
            "<WikipediaPage 'Premier League'> None\n",
            "<WikipediaPage 'Elizabeth II'> https://upload.wikimedia.org/wikipedia/commons/b/b6/Queen_Elizabeth_II_in_March_2015.jpg\n",
            "<WikipediaPage 'Vladimir Putin'> https://upload.wikimedia.org/wikipedia/commons/7/71/%D0%92%D0%BB%D0%B0%D0%B4%D0%B8%D0%BC%D0%B8%D1%80_%D0%9F%D1%83%D1%82%D0%B8%D0%BD_%2810-01-2022%29_%28cropped%29.jpg\n",
            "<WikipediaPage 'List of FIFA World Cup finals'> None\n",
            "<WikipediaPage 'Amber Heard'> https://upload.wikimedia.org/wikipedia/commons/4/4c/Amber_Heard_%2843723454772%29.jpg\n",
            "<WikipediaPage 'Al Ahly SC'> None\n",
            "<WikipediaPage 'Africa Cup of Nations'> None\n",
            "<WikipediaPage 'Member states of NATO'> https://upload.wikimedia.org/wikipedia/commons/2/29/NATO_members_%28blue%29.svg\n",
            "<WikipediaPage 'Egyptian Premier League'> https://upload.wikimedia.org/wikipedia/commons/e/e6/%D8%B4%D8%B9%D8%A7%D8%B1_%D8%A7%D9%84%D8%AF%D9%88%D8%B1%D9%8A_%D8%A7%D9%84%D9%85%D8%B5%D8%B1%D9%8A_%D8%A7%D9%84%D9%85%D9%85%D8%AA%D8%A7%D8%B2_2023.png\n",
            "<WikipediaPage 'Mohammed bin Salman'> https://upload.wikimedia.org/wikipedia/commons/e/e3/Mohammad_bin_Salman_October_2019_%28cropped%29.jpg\n",
            "\n",
            "No English version of this page: None\n",
            "<WikipediaPage '2018 FIFA World Cup'> None\n",
            "<WikipediaPage 'Jeffrey Dahmer'> https://upload.wikimedia.org/wikipedia/commons/d/d5/Jeffrey_Dahmer_HS_Yearbook.jpg\n",
            "<WikipediaPage 'Fajr prayer'> https://upload.wikimedia.org/wikipedia/ar/0/07/Allah-eser-green_New_version.png\n",
            "<WikipediaPage 'Morocco national football team'> None\n",
            "<WikipediaPage 'Sexuality in Islam'> https://upload.wikimedia.org/wikipedia/commons/0/03/ALFiqh.png\n",
            "<WikipediaPage 'Saddam Hussein'> https://upload.wikimedia.org/wikipedia/commons/5/56/Saddam_Hussein_1979.jpg\n",
            "<WikipediaPage 'Karim Benzema'> https://upload.wikimedia.org/wikipedia/commons/e/ec/Karim_Benzema_wearing_Real_Madrid_home_kit_2021-2022.jpg\n",
            "<WikipediaPage 'Ibn Saud'> https://upload.wikimedia.org/wikipedia/commons/a/a3/Ibn_Saud.png\n",
            "<WikipediaPage 'Soviet Union'> https://upload.wikimedia.org/wikipedia/commons/a/a9/Flag_of_the_Soviet_Union.svg\n",
            "<WikipediaPage 'Al-Ala'> https://upload.wikimedia.org/wikipedia/commons/1/10/Sura87.pdf\n",
            "<WikipediaPage 'Throne Verse'> https://upload.wikimedia.org/wikipedia/commons/5/53/%D8%A2%D9%8A%D8%A9_%D8%A7%D9%84%D9%83%D8%B1%D8%B3%D9%8A.svg\n",
            "<WikipediaPage 'Khairat el-Shater'> https://upload.wikimedia.org/wikipedia/commons/a/ad/Khairat_Alshater.jpg\n",
            "<WikipediaPage 'La Liga'> https://upload.wikimedia.org/wikipedia/commons/5/54/LaLiga_EA_Sports_2023_Vertical_Logo.svg\n"
          ]
        }
      ]
    },
    {
      "cell_type": "markdown",
      "source": [],
      "metadata": {
        "id": "W5x0qatE8MYY"
      }
    },
    {
      "cell_type": "markdown",
      "source": [
        "### Fixing English title Inconsistencies\n",
        "The English version of this page حكم الاستمناء في الإسلام leads to https://en.wikipedia.org/wiki/Sexuality_in_Islam#Masturbation page while the Arabic version of that page doesn't go back, it instead leads to فقه النكاح page.\n",
        "\n",
        "\n",
        "\n",
        "\n",
        "\n",
        "```\n",
        "retrieved_titles_list[51]\n",
        "```\n",
        "\n",
        "\n",
        "returns:\n",
        "\n",
        "حكم الاستمناء في الإسلام\n",
        "\n",
        "https://ar.wikipedia.org/w/api.php?action=query&format=json&pageids=463569&prop=langlinks&lllimit=max\n",
        "\n",
        "\n",
        "```\n",
        "en_titles_list[51]\n",
        "```\n",
        "returns:\n",
        "\n",
        "Islam and masturbation\n",
        "\n",
        "https://en.wikipedia.org/w/api.php?action=query&format=json&pageids=1637863&prop=langlinks&lllimit=max\n",
        "\n",
        "\n",
        "\n",
        "\n",
        "```\n",
        "current_article = wikipedia.page(title='Islam and masturbation', auto_suggest=False)\n",
        "current_article\n",
        "```\n",
        "\n",
        "returns:\n",
        "\n",
        "<WikipediaPage 'Sexuality in Islam'>\n"
      ],
      "metadata": {
        "id": "iDtfRmxEwGK2"
      }
    },
    {
      "cell_type": "code",
      "source": [
        "range(len(en_titles_list))"
      ],
      "metadata": {
        "colab": {
          "base_uri": "https://localhost:8080/",
          "height": 35
        },
        "id": "4KlpOcoGBVjC",
        "outputId": "c1d78dca-d0a1-4d2e-eff3-98a5b6a97852"
      },
      "execution_count": 83,
      "outputs": [
        {
          "output_type": "display_data",
          "data": {
            "text/plain": [
              "<IPython.core.display.Javascript object>"
            ],
            "application/javascript": [
              "google.colab.output.setIframeHeight(0, true, {maxHeight: 5000})"
            ]
          },
          "metadata": {}
        },
        {
          "output_type": "execute_result",
          "data": {
            "text/plain": [
              "range(0, 1632)"
            ]
          },
          "metadata": {},
          "execution_count": 83
        }
      ]
    },
    {
      "cell_type": "code",
      "source": [
        "import wikipedia\n",
        "\n",
        "for en_title in en_titles_list:\n",
        "    if en_title is not None:\n",
        "        try:\n",
        "            current_article = wikipedia.page(title=en_title, auto_suggest=False)\n",
        "\n",
        "            if en_title != current_article.title:\n",
        "                print(en_title, '--- is shown as --->>>', current_article.title)\n",
        "\n",
        "        except wikipedia.exceptions.DisambiguationError as e:\n",
        "            print(f\"'{en_title}' returns DisambiguationError because this title may refer to: {', '.join(e.options)}\")\n",
        "\n",
        "            # Ask the user to input a choice\n",
        "            user_input = input(\"Please enter your choice: \")\n",
        "\n",
        "            # Check if the user's choice is one of the available options\n",
        "            if user_input in e.options:\n",
        "                current_article = wikipedia.page(title=user_input, auto_suggest=False)\n",
        "                print(f\"You chose '{user_input}', which refers to: {current_article.title}\")\n",
        "            else:\n",
        "                print(\"Invalid choice. Exiting.\")\n",
        "        except wikipedia.exceptions.PageError:\n",
        "            print(f\"Page '{en_title}' was not found.\")\n"
      ],
      "metadata": {
        "colab": {
          "base_uri": "https://localhost:8080/",
          "height": 233
        },
        "id": "pDIBcQxZ9CSG",
        "outputId": "44b02a0f-8ae7-4884-a07e-bd90070817fc"
      },
      "execution_count": 81,
      "outputs": [
        {
          "output_type": "display_data",
          "data": {
            "text/plain": [
              "<IPython.core.display.Javascript object>"
            ],
            "application/javascript": [
              "google.colab.output.setIframeHeight(0, true, {maxHeight: 5000})"
            ]
          },
          "metadata": {}
        },
        {
          "output_type": "stream",
          "name": "stdout",
          "text": [
            "Islam and masturbation --- is shown as --->>> Sexuality in Islam\n",
            "List of countries by Military Strength Index --- is shown as --->>> Military\n",
            "Eclipse prayer --- is shown as --->>> Sunnah prayer\n",
            "'Bohra' returns DisambiguationError because this title may refer to: Musta'li, Alavi Bohra, Dawoodi Bohra, Suleimani Bohra, Taiyabi, Hebtiahs Bohra, Sunni Bohra, Bohora, Vohra, Achal Das Bohra, Ramkumar Bohra, Karanvir Bohra, Enthiran, Bohra (genus), Vora (disambiguation)\n",
            "Please enter your choice: Alavi Bohra\n",
            "You chose 'Alavi Bohra', which refers to: Alavi Bohras\n",
            "Association football goal --- is shown as --->>> Goal (sports)\n",
            "All-time table of the FIFA World Cup --- is shown as --->>> FIFA World Cup records and statistics\n",
            "White phosphorus --- is shown as --->>> Allotropes of phosphorus\n",
            "Ulu'l-azm --- is shown as --->>> List of characters and names mentioned in the Quran\n",
            "Abdul Aziz bin Fahd Al Saud --- is shown as --->>> Abdulaziz bin Fahd Al Saud\n"
          ]
        }
      ]
    },
    {
      "cell_type": "code",
      "source": [],
      "metadata": {
        "id": "K28dv2kexS8B"
      },
      "execution_count": 58,
      "outputs": []
    },
    {
      "cell_type": "code",
      "source": [],
      "metadata": {
        "id": "p3a_1PuF1Xge"
      },
      "execution_count": null,
      "outputs": []
    },
    {
      "cell_type": "code",
      "source": [],
      "metadata": {
        "id": "w4hzT61p1Xi1"
      },
      "execution_count": null,
      "outputs": []
    },
    {
      "cell_type": "code",
      "source": [],
      "metadata": {
        "id": "d9odbv8X1Xlz"
      },
      "execution_count": null,
      "outputs": []
    },
    {
      "cell_type": "code",
      "source": [],
      "metadata": {
        "id": "aY5XRQGW1Xn6"
      },
      "execution_count": null,
      "outputs": []
    },
    {
      "cell_type": "code",
      "source": [
        "en_page_ids[51]"
      ],
      "metadata": {
        "colab": {
          "base_uri": "https://localhost:8080/",
          "height": 35
        },
        "id": "98uEv-LRxTA6",
        "outputId": "91901009-70ff-4166-9c21-28bff1e386c1"
      },
      "execution_count": 60,
      "outputs": [
        {
          "output_type": "display_data",
          "data": {
            "text/plain": [
              "<IPython.core.display.Javascript object>"
            ],
            "application/javascript": [
              "google.colab.output.setIframeHeight(0, true, {maxHeight: 5000})"
            ]
          },
          "metadata": {}
        },
        {
          "output_type": "execute_result",
          "data": {
            "text/plain": [
              "'1637863'"
            ],
            "application/vnd.google.colaboratory.intrinsic+json": {
              "type": "string"
            }
          },
          "metadata": {},
          "execution_count": 60
        }
      ]
    },
    {
      "cell_type": "code",
      "source": [
        "page_ids[51]"
      ],
      "metadata": {
        "colab": {
          "base_uri": "https://localhost:8080/",
          "height": 35
        },
        "id": "4a4GYv-ZxTCc",
        "outputId": "4625f347-5d6b-49ff-c8a0-95d06d371a02"
      },
      "execution_count": 59,
      "outputs": [
        {
          "output_type": "display_data",
          "data": {
            "text/plain": [
              "<IPython.core.display.Javascript object>"
            ],
            "application/javascript": [
              "google.colab.output.setIframeHeight(0, true, {maxHeight: 5000})"
            ]
          },
          "metadata": {}
        },
        {
          "output_type": "execute_result",
          "data": {
            "text/plain": [
              "'463569'"
            ],
            "application/vnd.google.colaboratory.intrinsic+json": {
              "type": "string"
            }
          },
          "metadata": {},
          "execution_count": 59
        }
      ]
    },
    {
      "cell_type": "code",
      "source": [
        "en_titles_list[51]"
      ],
      "metadata": {
        "colab": {
          "base_uri": "https://localhost:8080/",
          "height": 35
        },
        "id": "-YDSGZGhu0s7",
        "outputId": "f3ba8b2e-baaf-430f-98cb-4569f453820e"
      },
      "execution_count": 55,
      "outputs": [
        {
          "output_type": "display_data",
          "data": {
            "text/plain": [
              "<IPython.core.display.Javascript object>"
            ],
            "application/javascript": [
              "google.colab.output.setIframeHeight(0, true, {maxHeight: 5000})"
            ]
          },
          "metadata": {}
        },
        {
          "output_type": "execute_result",
          "data": {
            "text/plain": [
              "'Islam and masturbation'"
            ],
            "application/vnd.google.colaboratory.intrinsic+json": {
              "type": "string"
            }
          },
          "metadata": {},
          "execution_count": 55
        }
      ]
    },
    {
      "cell_type": "code",
      "source": [
        "for en_title in en_titles_list:\n",
        "\n",
        "  if en_title != None:\n",
        "    current_article = wikipedia.page(title=en_title, auto_suggest=False)\n",
        "\n",
        "    if en_title != current_article.title:\n",
        "      print(en_title, 'is shown as', current_article.title)\n",
        "\n"
      ],
      "metadata": {
        "colab": {
          "base_uri": "https://localhost:8080/",
          "height": 829
        },
        "id": "RUTBAq3X1_na",
        "outputId": "05ca8abd-cf53-452e-e9c7-7b6bc218f985"
      },
      "execution_count": 64,
      "outputs": [
        {
          "output_type": "display_data",
          "data": {
            "text/plain": [
              "<IPython.core.display.Javascript object>"
            ],
            "application/javascript": [
              "google.colab.output.setIframeHeight(0, true, {maxHeight: 5000})"
            ]
          },
          "metadata": {}
        },
        {
          "output_type": "stream",
          "name": "stdout",
          "text": [
            "Islam and masturbation is shown as Sexuality in Islam\n",
            "List of countries by Military Strength Index is shown as Military\n",
            "Eclipse prayer is shown as Sunnah prayer\n"
          ]
        },
        {
          "output_type": "stream",
          "name": "stderr",
          "text": [
            "/usr/local/lib/python3.10/dist-packages/wikipedia/wikipedia.py:389: GuessedAtParserWarning: No parser was explicitly specified, so I'm using the best available HTML parser for this system (\"lxml\"). This usually isn't a problem, but if you run this code on another system, or in a different virtual environment, it may use a different parser and behave differently.\n",
            "\n",
            "The code that caused this warning is on line 389 of the file /usr/local/lib/python3.10/dist-packages/wikipedia/wikipedia.py. To get rid of this warning, pass the additional argument 'features=\"lxml\"' to the BeautifulSoup constructor.\n",
            "\n",
            "  lis = BeautifulSoup(html).find_all('li')\n"
          ]
        },
        {
          "output_type": "error",
          "ename": "DisambiguationError",
          "evalue": "ignored",
          "traceback": [
            "\u001b[0;31m---------------------------------------------------------------------------\u001b[0m",
            "\u001b[0;31mDisambiguationError\u001b[0m                       Traceback (most recent call last)",
            "\u001b[0;32m<ipython-input-64-38e5a132c7dc>\u001b[0m in \u001b[0;36m<cell line: 1>\u001b[0;34m()\u001b[0m\n\u001b[1;32m      2\u001b[0m \u001b[0;34m\u001b[0m\u001b[0m\n\u001b[1;32m      3\u001b[0m   \u001b[0;32mif\u001b[0m \u001b[0men_title\u001b[0m \u001b[0;34m!=\u001b[0m \u001b[0;32mNone\u001b[0m\u001b[0;34m:\u001b[0m\u001b[0;34m\u001b[0m\u001b[0;34m\u001b[0m\u001b[0m\n\u001b[0;32m----> 4\u001b[0;31m     \u001b[0mcurrent_article\u001b[0m \u001b[0;34m=\u001b[0m \u001b[0mwikipedia\u001b[0m\u001b[0;34m.\u001b[0m\u001b[0mpage\u001b[0m\u001b[0;34m(\u001b[0m\u001b[0mtitle\u001b[0m\u001b[0;34m=\u001b[0m\u001b[0men_title\u001b[0m\u001b[0;34m,\u001b[0m \u001b[0mauto_suggest\u001b[0m\u001b[0;34m=\u001b[0m\u001b[0;32mFalse\u001b[0m\u001b[0;34m)\u001b[0m\u001b[0;34m\u001b[0m\u001b[0;34m\u001b[0m\u001b[0m\n\u001b[0m\u001b[1;32m      5\u001b[0m \u001b[0;34m\u001b[0m\u001b[0m\n\u001b[1;32m      6\u001b[0m     \u001b[0;32mif\u001b[0m \u001b[0men_title\u001b[0m \u001b[0;34m!=\u001b[0m \u001b[0mcurrent_article\u001b[0m\u001b[0;34m.\u001b[0m\u001b[0mtitle\u001b[0m\u001b[0;34m:\u001b[0m\u001b[0;34m\u001b[0m\u001b[0;34m\u001b[0m\u001b[0m\n",
            "\u001b[0;32m/usr/local/lib/python3.10/dist-packages/wikipedia/wikipedia.py\u001b[0m in \u001b[0;36mpage\u001b[0;34m(title, pageid, auto_suggest, redirect, preload)\u001b[0m\n\u001b[1;32m    274\u001b[0m         \u001b[0;31m# if there is no suggestion or search results, the page doesn't exist\u001b[0m\u001b[0;34m\u001b[0m\u001b[0;34m\u001b[0m\u001b[0m\n\u001b[1;32m    275\u001b[0m         \u001b[0;32mraise\u001b[0m \u001b[0mPageError\u001b[0m\u001b[0;34m(\u001b[0m\u001b[0mtitle\u001b[0m\u001b[0;34m)\u001b[0m\u001b[0;34m\u001b[0m\u001b[0;34m\u001b[0m\u001b[0m\n\u001b[0;32m--> 276\u001b[0;31m     \u001b[0;32mreturn\u001b[0m \u001b[0mWikipediaPage\u001b[0m\u001b[0;34m(\u001b[0m\u001b[0mtitle\u001b[0m\u001b[0;34m,\u001b[0m \u001b[0mredirect\u001b[0m\u001b[0;34m=\u001b[0m\u001b[0mredirect\u001b[0m\u001b[0;34m,\u001b[0m \u001b[0mpreload\u001b[0m\u001b[0;34m=\u001b[0m\u001b[0mpreload\u001b[0m\u001b[0;34m)\u001b[0m\u001b[0;34m\u001b[0m\u001b[0;34m\u001b[0m\u001b[0m\n\u001b[0m\u001b[1;32m    277\u001b[0m   \u001b[0;32melif\u001b[0m \u001b[0mpageid\u001b[0m \u001b[0;32mis\u001b[0m \u001b[0;32mnot\u001b[0m \u001b[0;32mNone\u001b[0m\u001b[0;34m:\u001b[0m\u001b[0;34m\u001b[0m\u001b[0;34m\u001b[0m\u001b[0m\n\u001b[1;32m    278\u001b[0m     \u001b[0;32mreturn\u001b[0m \u001b[0mWikipediaPage\u001b[0m\u001b[0;34m(\u001b[0m\u001b[0mpageid\u001b[0m\u001b[0;34m=\u001b[0m\u001b[0mpageid\u001b[0m\u001b[0;34m,\u001b[0m \u001b[0mpreload\u001b[0m\u001b[0;34m=\u001b[0m\u001b[0mpreload\u001b[0m\u001b[0;34m)\u001b[0m\u001b[0;34m\u001b[0m\u001b[0;34m\u001b[0m\u001b[0m\n",
            "\u001b[0;32m/usr/local/lib/python3.10/dist-packages/wikipedia/wikipedia.py\u001b[0m in \u001b[0;36m__init__\u001b[0;34m(self, title, pageid, redirect, preload, original_title)\u001b[0m\n\u001b[1;32m    297\u001b[0m       \u001b[0;32mraise\u001b[0m \u001b[0mValueError\u001b[0m\u001b[0;34m(\u001b[0m\u001b[0;34m\"Either a title or a pageid must be specified\"\u001b[0m\u001b[0;34m)\u001b[0m\u001b[0;34m\u001b[0m\u001b[0;34m\u001b[0m\u001b[0m\n\u001b[1;32m    298\u001b[0m \u001b[0;34m\u001b[0m\u001b[0m\n\u001b[0;32m--> 299\u001b[0;31m     \u001b[0mself\u001b[0m\u001b[0;34m.\u001b[0m\u001b[0m__load\u001b[0m\u001b[0;34m(\u001b[0m\u001b[0mredirect\u001b[0m\u001b[0;34m=\u001b[0m\u001b[0mredirect\u001b[0m\u001b[0;34m,\u001b[0m \u001b[0mpreload\u001b[0m\u001b[0;34m=\u001b[0m\u001b[0mpreload\u001b[0m\u001b[0;34m)\u001b[0m\u001b[0;34m\u001b[0m\u001b[0;34m\u001b[0m\u001b[0m\n\u001b[0m\u001b[1;32m    300\u001b[0m \u001b[0;34m\u001b[0m\u001b[0m\n\u001b[1;32m    301\u001b[0m     \u001b[0;32mif\u001b[0m \u001b[0mpreload\u001b[0m\u001b[0;34m:\u001b[0m\u001b[0;34m\u001b[0m\u001b[0;34m\u001b[0m\u001b[0m\n",
            "\u001b[0;32m/usr/local/lib/python3.10/dist-packages/wikipedia/wikipedia.py\u001b[0m in \u001b[0;36m__load\u001b[0;34m(self, redirect, preload)\u001b[0m\n\u001b[1;32m    391\u001b[0m       \u001b[0mmay_refer_to\u001b[0m \u001b[0;34m=\u001b[0m \u001b[0;34m[\u001b[0m\u001b[0mli\u001b[0m\u001b[0;34m.\u001b[0m\u001b[0ma\u001b[0m\u001b[0;34m.\u001b[0m\u001b[0mget_text\u001b[0m\u001b[0;34m(\u001b[0m\u001b[0;34m)\u001b[0m \u001b[0;32mfor\u001b[0m \u001b[0mli\u001b[0m \u001b[0;32min\u001b[0m \u001b[0mfiltered_lis\u001b[0m \u001b[0;32mif\u001b[0m \u001b[0mli\u001b[0m\u001b[0;34m.\u001b[0m\u001b[0ma\u001b[0m\u001b[0;34m]\u001b[0m\u001b[0;34m\u001b[0m\u001b[0;34m\u001b[0m\u001b[0m\n\u001b[1;32m    392\u001b[0m \u001b[0;34m\u001b[0m\u001b[0m\n\u001b[0;32m--> 393\u001b[0;31m       \u001b[0;32mraise\u001b[0m \u001b[0mDisambiguationError\u001b[0m\u001b[0;34m(\u001b[0m\u001b[0mgetattr\u001b[0m\u001b[0;34m(\u001b[0m\u001b[0mself\u001b[0m\u001b[0;34m,\u001b[0m \u001b[0;34m'title'\u001b[0m\u001b[0;34m,\u001b[0m \u001b[0mpage\u001b[0m\u001b[0;34m[\u001b[0m\u001b[0;34m'title'\u001b[0m\u001b[0;34m]\u001b[0m\u001b[0;34m)\u001b[0m\u001b[0;34m,\u001b[0m \u001b[0mmay_refer_to\u001b[0m\u001b[0;34m)\u001b[0m\u001b[0;34m\u001b[0m\u001b[0;34m\u001b[0m\u001b[0m\n\u001b[0m\u001b[1;32m    394\u001b[0m \u001b[0;34m\u001b[0m\u001b[0m\n\u001b[1;32m    395\u001b[0m     \u001b[0;32melse\u001b[0m\u001b[0;34m:\u001b[0m\u001b[0;34m\u001b[0m\u001b[0;34m\u001b[0m\u001b[0m\n",
            "\u001b[0;31mDisambiguationError\u001b[0m: \"Bohra\" may refer to: \nMusta'li\nAlavi Bohra\nDawoodi Bohra\nSuleimani Bohra\nTaiyabi\nHebtiahs Bohra\nSunni Bohra\nBohora\nVohra\nAchal Das Bohra\nRamkumar Bohra\nKaranvir Bohra\nEnthiran\nBohra (genus)\nVora (disambiguation)"
          ]
        }
      ]
    },
    {
      "cell_type": "code",
      "source": [
        "current_article = wikipedia.page(title='Bohra', auto_suggest=False)\n",
        "current_article"
      ],
      "metadata": {
        "colab": {
          "base_uri": "https://localhost:8080/",
          "height": 613
        },
        "id": "2vzUZley5HVz",
        "outputId": "46a8749a-2a7b-4820-eca3-100123a584fd"
      },
      "execution_count": 71,
      "outputs": [
        {
          "output_type": "display_data",
          "data": {
            "text/plain": [
              "<IPython.core.display.Javascript object>"
            ],
            "application/javascript": [
              "google.colab.output.setIframeHeight(0, true, {maxHeight: 5000})"
            ]
          },
          "metadata": {}
        },
        {
          "output_type": "error",
          "ename": "DisambiguationError",
          "evalue": "ignored",
          "traceback": [
            "\u001b[0;31m---------------------------------------------------------------------------\u001b[0m",
            "\u001b[0;31mDisambiguationError\u001b[0m                       Traceback (most recent call last)",
            "\u001b[0;32m<ipython-input-71-17d1a244821a>\u001b[0m in \u001b[0;36m<cell line: 1>\u001b[0;34m()\u001b[0m\n\u001b[0;32m----> 1\u001b[0;31m \u001b[0mcurrent_article\u001b[0m \u001b[0;34m=\u001b[0m \u001b[0mwikipedia\u001b[0m\u001b[0;34m.\u001b[0m\u001b[0mpage\u001b[0m\u001b[0;34m(\u001b[0m\u001b[0mtitle\u001b[0m\u001b[0;34m=\u001b[0m\u001b[0;34m'Bohra'\u001b[0m\u001b[0;34m,\u001b[0m \u001b[0mauto_suggest\u001b[0m\u001b[0;34m=\u001b[0m\u001b[0;32mFalse\u001b[0m\u001b[0;34m)\u001b[0m\u001b[0;34m\u001b[0m\u001b[0;34m\u001b[0m\u001b[0m\n\u001b[0m\u001b[1;32m      2\u001b[0m \u001b[0mcurrent_article\u001b[0m\u001b[0;34m\u001b[0m\u001b[0;34m\u001b[0m\u001b[0m\n",
            "\u001b[0;32m/usr/local/lib/python3.10/dist-packages/wikipedia/wikipedia.py\u001b[0m in \u001b[0;36mpage\u001b[0;34m(title, pageid, auto_suggest, redirect, preload)\u001b[0m\n\u001b[1;32m    274\u001b[0m         \u001b[0;31m# if there is no suggestion or search results, the page doesn't exist\u001b[0m\u001b[0;34m\u001b[0m\u001b[0;34m\u001b[0m\u001b[0m\n\u001b[1;32m    275\u001b[0m         \u001b[0;32mraise\u001b[0m \u001b[0mPageError\u001b[0m\u001b[0;34m(\u001b[0m\u001b[0mtitle\u001b[0m\u001b[0;34m)\u001b[0m\u001b[0;34m\u001b[0m\u001b[0;34m\u001b[0m\u001b[0m\n\u001b[0;32m--> 276\u001b[0;31m     \u001b[0;32mreturn\u001b[0m \u001b[0mWikipediaPage\u001b[0m\u001b[0;34m(\u001b[0m\u001b[0mtitle\u001b[0m\u001b[0;34m,\u001b[0m \u001b[0mredirect\u001b[0m\u001b[0;34m=\u001b[0m\u001b[0mredirect\u001b[0m\u001b[0;34m,\u001b[0m \u001b[0mpreload\u001b[0m\u001b[0;34m=\u001b[0m\u001b[0mpreload\u001b[0m\u001b[0;34m)\u001b[0m\u001b[0;34m\u001b[0m\u001b[0;34m\u001b[0m\u001b[0m\n\u001b[0m\u001b[1;32m    277\u001b[0m   \u001b[0;32melif\u001b[0m \u001b[0mpageid\u001b[0m \u001b[0;32mis\u001b[0m \u001b[0;32mnot\u001b[0m \u001b[0;32mNone\u001b[0m\u001b[0;34m:\u001b[0m\u001b[0;34m\u001b[0m\u001b[0;34m\u001b[0m\u001b[0m\n\u001b[1;32m    278\u001b[0m     \u001b[0;32mreturn\u001b[0m \u001b[0mWikipediaPage\u001b[0m\u001b[0;34m(\u001b[0m\u001b[0mpageid\u001b[0m\u001b[0;34m=\u001b[0m\u001b[0mpageid\u001b[0m\u001b[0;34m,\u001b[0m \u001b[0mpreload\u001b[0m\u001b[0;34m=\u001b[0m\u001b[0mpreload\u001b[0m\u001b[0;34m)\u001b[0m\u001b[0;34m\u001b[0m\u001b[0;34m\u001b[0m\u001b[0m\n",
            "\u001b[0;32m/usr/local/lib/python3.10/dist-packages/wikipedia/wikipedia.py\u001b[0m in \u001b[0;36m__init__\u001b[0;34m(self, title, pageid, redirect, preload, original_title)\u001b[0m\n\u001b[1;32m    297\u001b[0m       \u001b[0;32mraise\u001b[0m \u001b[0mValueError\u001b[0m\u001b[0;34m(\u001b[0m\u001b[0;34m\"Either a title or a pageid must be specified\"\u001b[0m\u001b[0;34m)\u001b[0m\u001b[0;34m\u001b[0m\u001b[0;34m\u001b[0m\u001b[0m\n\u001b[1;32m    298\u001b[0m \u001b[0;34m\u001b[0m\u001b[0m\n\u001b[0;32m--> 299\u001b[0;31m     \u001b[0mself\u001b[0m\u001b[0;34m.\u001b[0m\u001b[0m__load\u001b[0m\u001b[0;34m(\u001b[0m\u001b[0mredirect\u001b[0m\u001b[0;34m=\u001b[0m\u001b[0mredirect\u001b[0m\u001b[0;34m,\u001b[0m \u001b[0mpreload\u001b[0m\u001b[0;34m=\u001b[0m\u001b[0mpreload\u001b[0m\u001b[0;34m)\u001b[0m\u001b[0;34m\u001b[0m\u001b[0;34m\u001b[0m\u001b[0m\n\u001b[0m\u001b[1;32m    300\u001b[0m \u001b[0;34m\u001b[0m\u001b[0m\n\u001b[1;32m    301\u001b[0m     \u001b[0;32mif\u001b[0m \u001b[0mpreload\u001b[0m\u001b[0;34m:\u001b[0m\u001b[0;34m\u001b[0m\u001b[0;34m\u001b[0m\u001b[0m\n",
            "\u001b[0;32m/usr/local/lib/python3.10/dist-packages/wikipedia/wikipedia.py\u001b[0m in \u001b[0;36m__load\u001b[0;34m(self, redirect, preload)\u001b[0m\n\u001b[1;32m    391\u001b[0m       \u001b[0mmay_refer_to\u001b[0m \u001b[0;34m=\u001b[0m \u001b[0;34m[\u001b[0m\u001b[0mli\u001b[0m\u001b[0;34m.\u001b[0m\u001b[0ma\u001b[0m\u001b[0;34m.\u001b[0m\u001b[0mget_text\u001b[0m\u001b[0;34m(\u001b[0m\u001b[0;34m)\u001b[0m \u001b[0;32mfor\u001b[0m \u001b[0mli\u001b[0m \u001b[0;32min\u001b[0m \u001b[0mfiltered_lis\u001b[0m \u001b[0;32mif\u001b[0m \u001b[0mli\u001b[0m\u001b[0;34m.\u001b[0m\u001b[0ma\u001b[0m\u001b[0;34m]\u001b[0m\u001b[0;34m\u001b[0m\u001b[0;34m\u001b[0m\u001b[0m\n\u001b[1;32m    392\u001b[0m \u001b[0;34m\u001b[0m\u001b[0m\n\u001b[0;32m--> 393\u001b[0;31m       \u001b[0;32mraise\u001b[0m \u001b[0mDisambiguationError\u001b[0m\u001b[0;34m(\u001b[0m\u001b[0mgetattr\u001b[0m\u001b[0;34m(\u001b[0m\u001b[0mself\u001b[0m\u001b[0;34m,\u001b[0m \u001b[0;34m'title'\u001b[0m\u001b[0;34m,\u001b[0m \u001b[0mpage\u001b[0m\u001b[0;34m[\u001b[0m\u001b[0;34m'title'\u001b[0m\u001b[0;34m]\u001b[0m\u001b[0;34m)\u001b[0m\u001b[0;34m,\u001b[0m \u001b[0mmay_refer_to\u001b[0m\u001b[0;34m)\u001b[0m\u001b[0;34m\u001b[0m\u001b[0;34m\u001b[0m\u001b[0m\n\u001b[0m\u001b[1;32m    394\u001b[0m \u001b[0;34m\u001b[0m\u001b[0m\n\u001b[1;32m    395\u001b[0m     \u001b[0;32melse\u001b[0m\u001b[0;34m:\u001b[0m\u001b[0;34m\u001b[0m\u001b[0;34m\u001b[0m\u001b[0m\n",
            "\u001b[0;31mDisambiguationError\u001b[0m: \"Bohra\" may refer to: \nMusta'li\nAlavi Bohra\nDawoodi Bohra\nSuleimani Bohra\nTaiyabi\nHebtiahs Bohra\nSunni Bohra\nBohora\nVohra\nAchal Das Bohra\nRamkumar Bohra\nKaranvir Bohra\nEnthiran\nBohra (genus)\nVora (disambiguation)"
          ]
        }
      ]
    },
    {
      "cell_type": "code",
      "source": [
        "en_title"
      ],
      "metadata": {
        "colab": {
          "base_uri": "https://localhost:8080/",
          "height": 35
        },
        "id": "ezcnY0DC3vVS",
        "outputId": "051db0b3-8ccf-4e8c-fd29-e52f78fda361"
      },
      "execution_count": 65,
      "outputs": [
        {
          "output_type": "display_data",
          "data": {
            "text/plain": [
              "<IPython.core.display.Javascript object>"
            ],
            "application/javascript": [
              "google.colab.output.setIframeHeight(0, true, {maxHeight: 5000})"
            ]
          },
          "metadata": {}
        },
        {
          "output_type": "execute_result",
          "data": {
            "text/plain": [
              "'Bohra'"
            ],
            "application/vnd.google.colaboratory.intrinsic+json": {
              "type": "string"
            }
          },
          "metadata": {},
          "execution_count": 65
        }
      ]
    },
    {
      "cell_type": "code",
      "source": [
        "retrieved_titles_list[51]"
      ],
      "metadata": {
        "colab": {
          "base_uri": "https://localhost:8080/",
          "height": 35
        },
        "id": "8hnhEjZnvb2r",
        "outputId": "3c411cd5-ae4d-4bf6-b5ec-8e2960919175"
      },
      "execution_count": 57,
      "outputs": [
        {
          "output_type": "display_data",
          "data": {
            "text/plain": [
              "<IPython.core.display.Javascript object>"
            ],
            "application/javascript": [
              "google.colab.output.setIframeHeight(0, true, {maxHeight: 5000})"
            ]
          },
          "metadata": {}
        },
        {
          "output_type": "execute_result",
          "data": {
            "text/plain": [
              "'حكم الاستمناء في الإسلام'"
            ],
            "application/vnd.google.colaboratory.intrinsic+json": {
              "type": "string"
            }
          },
          "metadata": {},
          "execution_count": 57
        }
      ]
    },
    {
      "cell_type": "code",
      "source": [
        "current_article = wikipedia.page(title='Islam and masturbation', auto_suggest=False)\n",
        "current_article"
      ],
      "metadata": {
        "colab": {
          "base_uri": "https://localhost:8080/",
          "height": 35
        },
        "id": "BRlboH4uvMJ9",
        "outputId": "78449652-9aa4-44e9-b81e-38c71beb6885"
      },
      "execution_count": 56,
      "outputs": [
        {
          "output_type": "display_data",
          "data": {
            "text/plain": [
              "<IPython.core.display.Javascript object>"
            ],
            "application/javascript": [
              "google.colab.output.setIframeHeight(0, true, {maxHeight: 5000})"
            ]
          },
          "metadata": {}
        },
        {
          "output_type": "execute_result",
          "data": {
            "text/plain": [
              "<WikipediaPage 'Sexuality in Islam'>"
            ]
          },
          "metadata": {},
          "execution_count": 56
        }
      ]
    },
    {
      "cell_type": "code",
      "source": [
        "current_article.title"
      ],
      "metadata": {
        "colab": {
          "base_uri": "https://localhost:8080/",
          "height": 35
        },
        "id": "jUhOo5wFw6s-",
        "outputId": "6664e92c-718c-4ed5-ffaa-21b215cff8d4"
      },
      "execution_count": 58,
      "outputs": [
        {
          "output_type": "display_data",
          "data": {
            "text/plain": [
              "<IPython.core.display.Javascript object>"
            ],
            "application/javascript": [
              "google.colab.output.setIframeHeight(0, true, {maxHeight: 5000})"
            ]
          },
          "metadata": {}
        },
        {
          "output_type": "execute_result",
          "data": {
            "text/plain": [
              "'Sexuality in Islam'"
            ],
            "application/vnd.google.colaboratory.intrinsic+json": {
              "type": "string"
            }
          },
          "metadata": {},
          "execution_count": 58
        }
      ]
    },
    {
      "cell_type": "code",
      "source": [
        "current_article_categories_list"
      ],
      "metadata": {
        "colab": {
          "base_uri": "https://localhost:8080/",
          "height": 391
        },
        "id": "XlJdyXrdVFLV",
        "outputId": "42519d42-69ae-43fa-d2c7-abb865ae5aa9"
      },
      "execution_count": 50,
      "outputs": [
        {
          "output_type": "display_data",
          "data": {
            "text/plain": [
              "<IPython.core.display.Javascript object>"
            ],
            "application/javascript": [
              "google.colab.output.setIframeHeight(0, true, {maxHeight: 5000})"
            ]
          },
          "metadata": {}
        },
        {
          "output_type": "execute_result",
          "data": {
            "text/plain": [
              "['1928 establishments in Spain',\n",
              " '1929 establishments in Spain',\n",
              " 'All articles needing additional references',\n",
              " 'All articles with unsourced statements',\n",
              " 'Articles containing Spanish-language text',\n",
              " 'Articles needing additional references from May 2023',\n",
              " 'Articles with short description',\n",
              " 'Articles with unsourced statements from June 2021',\n",
              " 'CS1 Italian-language sources (it)',\n",
              " 'CS1 Spanish-language sources (es)',\n",
              " 'CS1 maint: date and year',\n",
              " 'Commons category link from Wikidata',\n",
              " 'EngvarB from January 2023',\n",
              " 'Football leagues in Spain',\n",
              " 'La Liga',\n",
              " 'Pages with Spanish IPA',\n",
              " 'Professional sports leagues in Spain',\n",
              " 'Short description is different from Wikidata',\n",
              " 'Sports leagues established in 1928',\n",
              " 'Top level football leagues in Europe',\n",
              " 'Use dmy dates from December 2022']"
            ]
          },
          "metadata": {},
          "execution_count": 50
        }
      ]
    },
    {
      "cell_type": "code",
      "source": [
        "image_urls"
      ],
      "metadata": {
        "id": "5bKpoMOHTQgF"
      },
      "execution_count": null,
      "outputs": []
    },
    {
      "cell_type": "code",
      "source": [],
      "metadata": {
        "id": "2YKf6EuSJ8Pv"
      },
      "execution_count": null,
      "outputs": []
    },
    {
      "cell_type": "code",
      "source": [],
      "metadata": {
        "id": "yVHomsFQJ8SD"
      },
      "execution_count": null,
      "outputs": []
    },
    {
      "cell_type": "code",
      "source": [],
      "metadata": {
        "id": "l2vwbypPUump"
      },
      "execution_count": null,
      "outputs": []
    },
    {
      "cell_type": "code",
      "source": [],
      "metadata": {
        "id": "nxJlBcDpUupP"
      },
      "execution_count": null,
      "outputs": []
    },
    {
      "cell_type": "code",
      "source": [],
      "metadata": {
        "id": "BxJxg8XQUurs"
      },
      "execution_count": null,
      "outputs": []
    },
    {
      "cell_type": "code",
      "source": [],
      "metadata": {
        "id": "-53Pnc8QJ8U2"
      },
      "execution_count": null,
      "outputs": []
    },
    {
      "cell_type": "code",
      "source": [
        "import requests\n",
        "\n",
        "# Function to get Wikipedia page IDs and titles in both Arabic and English by providing Arabic page ID\n",
        "def get_page_info_by_id(arabic_page_id):\n",
        "    print(f\"\\n(inside function) Retrieving information for the Arabic page with ID: '{arabic_page_id}'...\")\n",
        "\n",
        "    # Define the API URL to get the English language links\n",
        "    # api_url = f\"https://ar.wikipedia.org/w/api.php?action=query&format=json&pageids={arabic_page_id}&prop=langlinks\"\n",
        "    api_url = f\"https://ar.wikipedia.org/w/api.php?action=query&format=json&pageids={arabic_page_id}&prop=langlinks&lllimit=max\"\n",
        "\n",
        "\n",
        "    try:\n",
        "        # Send a GET request to the API URL\n",
        "        response = requests.get(api_url)\n",
        "        response_json = response.json()\n",
        "\n",
        "        # Extract the language links (including English) from the response\n",
        "        langlinks = response_json[\"query\"][\"pages\"][str(arabic_page_id)].get(\"langlinks\", [])\n",
        "        print('\\ninside fuction try', langlinks)\n",
        "\n",
        "        # Initialize variables to store page info\n",
        "        arabic_page_info = {\"ID\": arabic_page_id}\n",
        "        english_page_info = None\n",
        "\n",
        "        # Find the English language link\n",
        "        for link in langlinks:\n",
        "            if link[\"lang\"] == \"en\":\n",
        "                english_page_title = link[\"*\"]\n",
        "                english_page_id = get_page_id(english_page_title)\n",
        "\n",
        "                if english_page_id:\n",
        "                    english_page_info = {\"Title\": english_page_title, \"ID\": english_page_id}\n",
        "                    print(f\"(\\ninside function try for loop) English page ID: {english_page_id}\")\n",
        "\n",
        "        return arabic_page_info, english_page_info\n",
        "\n",
        "    except Exception as e:\n",
        "        print(f\"\\ninside function Error: {e}\")\n",
        "        return None, None\n",
        "\n",
        "# Input the Arabic page ID obtained from Snippet 1\n",
        "arabic_page_id = 6921871\n",
        "\n",
        "# 8067\n",
        "\n",
        "# 488563  # Replace with the actual Arabic page ID\n",
        "\n",
        "# Call the function to get both Arabic and English page info based on the Arabic page ID\n",
        "arabic_page_info, english_page_info = get_page_info_by_id(arabic_page_id)\n",
        "\n",
        "# Check if valid Arabic and English page info was retrieved\n",
        "if arabic_page_info:\n",
        "    print(\"\\nArabic Page Info:\")\n",
        "    print(f\"Arabic Page ID: {arabic_page_info['ID']}\")\n",
        "else:\n",
        "    print(\"Arabic Page info not found.\")\n",
        "\n",
        "if english_page_info:\n",
        "    print(\"\\nEnglish Page Info:\")\n",
        "    print(f\"English Page Title: {english_page_info['Title']}\")\n",
        "    print(f\"English Page ID: {english_page_info['ID']}\")\n",
        "else:\n",
        "    print(\"English Page info not found.\")\n"
      ],
      "metadata": {
        "id": "hYMXfqhu2mtJ"
      },
      "execution_count": null,
      "outputs": []
    },
    {
      "cell_type": "code",
      "source": [
        "for page_id in page_ids:\n",
        "  print(page_id)"
      ],
      "metadata": {
        "id": "I98av6sI2oiy"
      },
      "execution_count": null,
      "outputs": []
    },
    {
      "cell_type": "code",
      "source": [
        "stop"
      ],
      "metadata": {
        "id": "M5uf_ZVlKILv"
      },
      "execution_count": null,
      "outputs": []
    },
    {
      "cell_type": "code",
      "source": [
        "\n",
        "# article_titles_list = []\n",
        "summaries_list = []\n",
        "urls_list = []\n",
        "categories_list = []\n",
        "image_urls = []\n",
        "wiki_pages_list = []\n",
        "page_ids = []\n",
        "not_found_list = []\n",
        "retrieved_titles_list = []\n",
        "\n",
        "lang = 'ar'\n",
        "\n",
        "\n",
        "for article_title in top_article_titles_list:\n",
        "\n",
        "  # print(article_title['article'], 'is being processed.')\n",
        "\n",
        "  if 'article' in article_title:\n",
        "    try:\n",
        "        current_article = wikipedia.page(title=article_title['article'], auto_suggest=False)\n",
        "        # Code to handle the case where the page was successfully fetched\n",
        "        # print(f\"Page '{article_title['article']}' was found.\")\n",
        "\n",
        "    except wikipedia.exceptions.PageError:\n",
        "        # Code to handle the case where the page title is not found\n",
        "        print(f\"Page '{article_title['article']}' was not found.\")\n",
        "\n",
        "        not_found_list.append(article_title['article'])\n",
        "        wiki_pages_list.append(None)\n",
        "        summaries_list.append(None)\n",
        "        urls_list.append(None)\n",
        "        page_ids.append(None)\n",
        "        categories_list.append(None)\n",
        "        image_urls.append(None)\n",
        "        retrieved_titles_list.append(None)\n",
        "\n",
        "        continue\n",
        "\n",
        "    except wikipedia.exceptions.DisambiguationError as e:\n",
        "        # Code to handle the case of disambiguation (multiple possible titles)\n",
        "        print(f\"Multiple possible pages found for '{article_title['article']}': {e.options}\")\n",
        "  else:\n",
        "    # Handle the case where 'article' key is not in the dictionary\n",
        "    print(\"No 'article' key found in the dictionary.\")\n",
        "\n",
        "\n",
        "\n",
        "\n",
        "  # current_article = wikipedia.page(article_title['article'])\n",
        "\n",
        "  # current_article_url = wikipedia.url(article_title['article'])\n",
        "\n",
        "  # print(current_article.title, 'page has been retrieved.')\n",
        "\n",
        "  # article_titles_list.append(article_title['article'])\n",
        "\n",
        "  wiki_pages_list.append(current_article)\n",
        "\n",
        "  summaries_list.append(current_article.summary)\n",
        "\n",
        "  urls_list.append(current_article.url)\n",
        "\n",
        "  page_ids.append(current_article.pageid)\n",
        "\n",
        "  retrieved_titles_list.append(current_article.title)\n",
        "\n",
        "\n",
        "\n",
        "\n",
        "  current_article_categories_list = current_article.categories\n",
        "\n",
        "  # Filter the strings containing \"تصنيف:بوابة\"\n",
        "  current_article_filtered_categories = [s for s in current_article_categories_list if 'تصنيف:بوابة' in s]\n",
        "\n",
        "  # cleaned_list = [s.replace('/مقالات متعلقة', '') for s in filtered_list]\n",
        "  current_article_cleaned_categories = [s.replace('تصنيف:بوابة', '').replace('/مقالات متعلقة', '').strip() for s in current_article_filtered_categories]\n",
        "\n",
        "  categories_list.append(current_article_cleaned_categories)\n",
        "\n",
        "\n",
        "\n",
        "\n",
        "\n",
        "\n",
        "  if current_article.title != article_title['article']:\n",
        "    print('The returned title', current_article.title, 'does not match the requested title', article_title['article'])\n",
        "\n",
        "\n",
        "\n",
        "\n",
        "  # print('about to parse image')\n",
        "\n",
        "  page_title = current_article.title\n",
        "\n",
        "  # Encode the URL components\n",
        "  # lang = urllib.parse.quote(lang)\n",
        "  encoded_page_title = urllib.parse.quote(page_title)\n",
        "\n",
        "  encoded_api_url = f'https://{lang}.wikipedia.org/w/api.php?action=query&prop=pageimages&format=json&piprop=original&titles={encoded_page_title}'\n",
        "\n",
        "  resp = urllib.request.urlopen(encoded_api_url)\n",
        "  resp_bytes = resp.read()\n",
        "  data = json.loads(resp_bytes)\n",
        "\n",
        "\n",
        "  # Search for the title in the JSON data\n",
        "  for page_id, page_info in data['query']['pages'].items():\n",
        "    if page_info.get('title') == page_title:\n",
        "        original_info = page_info.get('original', {})\n",
        "        source_url = original_info.get('source')\n",
        "\n",
        "\n",
        "        # If source_url is None, append it to the list\n",
        "        if source_url is None:\n",
        "            image_urls.append(None)\n",
        "        else: image_urls.append(source_url)\n",
        "\n",
        "\n",
        "\n",
        "\n",
        "\n",
        "\n",
        "\n",
        "\n",
        "\n",
        "\n",
        "\n"
      ],
      "metadata": {
        "id": "NXoyJJ7-OX7C"
      },
      "execution_count": null,
      "outputs": []
    },
    {
      "cell_type": "code",
      "source": [
        "duplicates_df.to_csv('duplicates_df.csv', encoding='utf-8-sig')"
      ],
      "metadata": {
        "id": "fFzfknlFXOWE"
      },
      "execution_count": null,
      "outputs": []
    },
    {
      "cell_type": "code",
      "source": [
        "page_ar_ids = []\n",
        "\n",
        "# page_en_ids = []\n",
        "\n",
        "wikipedia.set_lang(\"ar\")\n",
        "\n",
        "\n",
        "for article_title in top_article_titles_list:\n",
        "\n",
        "  # current_article = wikipedia.page(title=article_title['article'], auto_suggest=False, redirect=False)\n",
        "\n",
        "  current_article = wikipedia.page(title=article_title['article'])\n",
        "\n",
        "  if current_article.title != article_title['article']:\n",
        "    print('The returned title', current_article.title, 'does not match the requested title', article_title['article'])\n",
        "\n",
        "    wikipedia.set_lang(\"en\")\n",
        "    current_article = wikipedia.page(title=article_title['article'])\n",
        "    print('The english version is:', current_article.title)\n",
        "\n",
        "    wikipedia.set_lang(\"ar\")\n",
        "\n",
        "  else:\n",
        "    print('match', current_article.title)\n",
        "\n"
      ],
      "metadata": {
        "id": "CF5tvLdPPu0S"
      },
      "execution_count": null,
      "outputs": []
    },
    {
      "cell_type": "code",
      "source": [
        "wikipedia.set_lang(\"ar\")"
      ],
      "metadata": {
        "id": "6MmsX9jNg9et"
      },
      "execution_count": null,
      "outputs": []
    },
    {
      "cell_type": "code",
      "source": [
        "wikipedia.set_lang(\"en\")"
      ],
      "metadata": {
        "id": "TcdC9sTihaf6"
      },
      "execution_count": null,
      "outputs": []
    },
    {
      "cell_type": "code",
      "source": [
        "wikipedia.page('تصنيف فيفا العالمي للرجال')"
      ],
      "metadata": {
        "id": "RxIuPSFFgz_b"
      },
      "execution_count": null,
      "outputs": []
    },
    {
      "cell_type": "code",
      "source": [
        "wikipedia.page('تصنيف فيفا العالمي')"
      ],
      "metadata": {
        "id": "2Keff05hgb2-"
      },
      "execution_count": null,
      "outputs": []
    },
    {
      "cell_type": "code",
      "source": [
        "wikipedia.page('زلزال تركيا وسوريا 2023')"
      ],
      "metadata": {
        "id": "jCBcR3xuguc4"
      },
      "execution_count": null,
      "outputs": []
    },
    {
      "cell_type": "code",
      "source": [
        "current_article.languages().keys()"
      ],
      "metadata": {
        "id": "eD8xTf4NePPm"
      },
      "execution_count": null,
      "outputs": []
    },
    {
      "cell_type": "code",
      "source": [
        "page = wikipedia.page('هزاع بن زايد آل نهيان')\n",
        "page"
      ],
      "metadata": {
        "id": "ElculUt6Z3St"
      },
      "execution_count": null,
      "outputs": []
    },
    {
      "cell_type": "code",
      "source": [
        "wikipedia.set_lang(\"en\")"
      ],
      "metadata": {
        "id": "FmJpKus0aB9a"
      },
      "execution_count": null,
      "outputs": []
    },
    {
      "cell_type": "code",
      "source": [
        "page = wikipedia.page('هزاع بن زايد آل نهيان')\n",
        "page"
      ],
      "metadata": {
        "id": "4K5P9LW9aKkP"
      },
      "execution_count": null,
      "outputs": []
    },
    {
      "cell_type": "code",
      "source": [
        "stop"
      ],
      "metadata": {
        "id": "WZXMcSsNOWt1"
      },
      "execution_count": null,
      "outputs": []
    },
    {
      "cell_type": "code",
      "source": [
        "type(wiki_pages_list[1])"
      ],
      "metadata": {
        "id": "DPVCDKaMJnPY"
      },
      "execution_count": null,
      "outputs": []
    },
    {
      "cell_type": "code",
      "source": [
        "len(duplicates)"
      ],
      "metadata": {
        "id": "l7wZs0naGgnf"
      },
      "execution_count": null,
      "outputs": []
    },
    {
      "cell_type": "code",
      "source": [],
      "metadata": {
        "id": "zw7vjO0A-QK9"
      },
      "execution_count": null,
      "outputs": []
    },
    {
      "cell_type": "code",
      "source": [
        "not_found_list"
      ],
      "metadata": {
        "id": "UhfArcOTrWVF"
      },
      "execution_count": null,
      "outputs": []
    },
    {
      "cell_type": "code",
      "source": [
        "current_article = wikipedia.page(article_title['article'])\n",
        "current_article"
      ],
      "metadata": {
        "id": "t2kvy-HYePHl"
      },
      "execution_count": null,
      "outputs": []
    },
    {
      "cell_type": "code",
      "source": [
        "current_article = wikipedia.page(\"زلزال تركيا وسوريا 2023\")\n",
        "current_article"
      ],
      "metadata": {
        "id": "hrWIa1kadq_H"
      },
      "execution_count": null,
      "outputs": []
    },
    {
      "cell_type": "code",
      "source": [
        "current_article = wikipedia.page(\"أونتاريو لاعب كرة قدم مواليد 1995\")\n",
        "current_article"
      ],
      "metadata": {
        "id": "0b8IYRIgmjG5"
      },
      "execution_count": null,
      "outputs": []
    },
    {
      "cell_type": "code",
      "source": [
        "current_article.title"
      ],
      "metadata": {
        "id": "XUDYH8fXRSAP"
      },
      "execution_count": null,
      "outputs": []
    },
    {
      "cell_type": "code",
      "source": [
        "page = wiki_pages_list[0]"
      ],
      "metadata": {
        "id": "xno0siejRSB4"
      },
      "execution_count": null,
      "outputs": []
    },
    {
      "cell_type": "code",
      "source": [
        "page.pageid"
      ],
      "metadata": {
        "id": "JmLPjU78T35B"
      },
      "execution_count": null,
      "outputs": []
    },
    {
      "cell_type": "code",
      "source": [
        "wikipedia.set_lang(\"en\")\n",
        "page.url"
      ],
      "metadata": {
        "id": "_pQlpUTRRa2r"
      },
      "execution_count": null,
      "outputs": []
    },
    {
      "cell_type": "code",
      "source": [
        "current_article.title"
      ],
      "metadata": {
        "id": "gFkv4k-YTxp8"
      },
      "execution_count": null,
      "outputs": []
    },
    {
      "cell_type": "code",
      "source": [
        "current_article.original_title"
      ],
      "metadata": {
        "id": "DgB4vg4hT1Vh"
      },
      "execution_count": null,
      "outputs": []
    },
    {
      "cell_type": "code",
      "source": [
        "image_urls[0:3]"
      ],
      "metadata": {
        "id": "At6uGPCqLl-g"
      },
      "execution_count": null,
      "outputs": []
    },
    {
      "cell_type": "code",
      "source": [
        "categories_list[0:3]"
      ],
      "metadata": {
        "id": "Ebk4hWXDLrEc"
      },
      "execution_count": null,
      "outputs": []
    },
    {
      "cell_type": "code",
      "source": [
        "len(urls_list)\n",
        "urls_list[0:3]"
      ],
      "metadata": {
        "id": "-OUWdsNcM3F_"
      },
      "execution_count": null,
      "outputs": []
    },
    {
      "cell_type": "code",
      "source": [
        "top_article_titles_list[0:3]"
      ],
      "metadata": {
        "id": "9JLbyGdJNHxQ"
      },
      "execution_count": null,
      "outputs": []
    },
    {
      "cell_type": "code",
      "source": [
        "page_ids[0:3]"
      ],
      "metadata": {
        "id": "0RBpwcn9OyGX"
      },
      "execution_count": null,
      "outputs": []
    },
    {
      "cell_type": "markdown",
      "source": [
        "## Filter by Categories"
      ],
      "metadata": {
        "id": "aYQ4R0eGWZ2J"
      }
    },
    {
      "cell_type": "code",
      "source": [
        "# Specify the category you want to filter by\n",
        "target_category = 'أعلام'\n",
        "\n",
        "# Create a boolean mask to filter rows\n",
        "# mask = combined_df['Categories'].apply(lambda categories: target_category in categories)\n",
        "mask = combined_df['Categories'].apply(lambda categories: categories is not None and target_category in categories)\n",
        "\n",
        "# Filter the DataFrame based on the mask\n",
        "filtered_df = combined_df[mask]\n",
        "filtered_df"
      ],
      "metadata": {
        "id": "zVSlXKJuVMk1"
      },
      "execution_count": null,
      "outputs": []
    },
    {
      "cell_type": "code",
      "source": [
        "# Specify the target categories you want to filter by\n",
        "target_categories = ['أعلام', 'العراق']\n",
        "\n",
        "# Create a boolean mask to filter rows\n",
        "mask = combined_df['Categories'].apply(lambda categories: categories is not None and any(category in categories for category in target_categories))\n",
        "\n",
        "# Filter the DataFrame based on the mask\n",
        "filtered_df = combined_df[mask]\n",
        "\n",
        "# Print the filtered DataFrame\n",
        "filtered_df"
      ],
      "metadata": {
        "id": "KqlfW_PDWsg0"
      },
      "execution_count": null,
      "outputs": []
    },
    {
      "cell_type": "code",
      "source": [
        "# Specify the target categories you want to filter by\n",
        "target_categories = ['أعلام', 'العراق']\n",
        "\n",
        "# Create a boolean mask to filter rows\n",
        "mask = combined_df['Categories'].apply(lambda categories: categories is not None and all(category in categories for category in target_categories))\n",
        "\n",
        "# Filter the DataFrame based on the mask\n",
        "filtered_df = combined_df[mask]\n",
        "\n",
        "# Print the filtered DataFrame\n",
        "filtered_df"
      ],
      "metadata": {
        "id": "Mn2bgtJXXb6P"
      },
      "execution_count": null,
      "outputs": []
    },
    {
      "cell_type": "code",
      "source": [
        "combined_df.iloc[710]['URL']"
      ],
      "metadata": {
        "id": "EXpPmdeAZdHQ"
      },
      "execution_count": null,
      "outputs": []
    },
    {
      "cell_type": "code",
      "source": [
        "combined_df.iloc[710]['Image']"
      ],
      "metadata": {
        "id": "z3DoAdGRaMoy"
      },
      "execution_count": null,
      "outputs": []
    },
    {
      "cell_type": "code",
      "source": [
        "combined_df.iloc[710]['Categories']"
      ],
      "metadata": {
        "id": "G-FEiCaCYxLe"
      },
      "execution_count": null,
      "outputs": []
    },
    {
      "cell_type": "code",
      "source": [
        "stop"
      ],
      "metadata": {
        "id": "UmowRSwPJBlv"
      },
      "execution_count": null,
      "outputs": []
    },
    {
      "cell_type": "code",
      "source": [
        "filtered_df.to_csv('top_iraqi_people.csv', encoding='utf-8-sig')"
      ],
      "metadata": {
        "id": "gV5vfmbMaq_D"
      },
      "execution_count": null,
      "outputs": []
    },
    {
      "cell_type": "code",
      "source": [
        "combined_df.to_csv('wikipedia_top_articles_2022.csv', encoding='utf-8-sig')"
      ],
      "metadata": {
        "id": "YVtDT3GbOU2_"
      },
      "execution_count": null,
      "outputs": []
    },
    {
      "cell_type": "code",
      "source": [],
      "metadata": {
        "id": "Wr6N2NBTFRFd"
      },
      "execution_count": null,
      "outputs": []
    },
    {
      "cell_type": "code",
      "source": [],
      "metadata": {
        "id": "OLCRuj6cFRHv"
      },
      "execution_count": null,
      "outputs": []
    },
    {
      "cell_type": "code",
      "source": [],
      "metadata": {
        "id": "AETNCF0TFRKo"
      },
      "execution_count": null,
      "outputs": []
    },
    {
      "cell_type": "code",
      "source": [],
      "metadata": {
        "id": "LVEPcOQaFRNL"
      },
      "execution_count": null,
      "outputs": []
    },
    {
      "cell_type": "code",
      "source": [],
      "metadata": {
        "id": "FSzXDZn1FRQJ"
      },
      "execution_count": null,
      "outputs": []
    },
    {
      "cell_type": "code",
      "source": [],
      "metadata": {
        "id": "StR7wkGuFRS4"
      },
      "execution_count": null,
      "outputs": []
    },
    {
      "cell_type": "code",
      "source": [],
      "metadata": {
        "id": "bNRKIPCAFRVX"
      },
      "execution_count": null,
      "outputs": []
    },
    {
      "cell_type": "code",
      "source": [],
      "metadata": {
        "id": "1P6NGdzUFRaz"
      },
      "execution_count": null,
      "outputs": []
    },
    {
      "cell_type": "code",
      "source": [],
      "metadata": {
        "id": "uub9Xd9KFRdM"
      },
      "execution_count": null,
      "outputs": []
    },
    {
      "cell_type": "code",
      "source": [
        "content_list = []\n",
        "urls_list = []\n",
        "categories_list = []\n",
        "lang = 'ar'\n",
        "\n",
        "for article_title in top_article_titles_list:\n",
        "\n",
        "  current_article = wikipedia.page(article_title['article'])\n",
        "  # current_article_url = wikipedia.url(article_title['article'])\n",
        "\n",
        "\n",
        "  content_list.append(current_article.summary)\n",
        "\n",
        "  urls_list.append(current_article.url)\n",
        "\n",
        "\n",
        "\n",
        "\n",
        "  current_article_categories_list = current_article.categories\n",
        "\n",
        "  # Filter the strings containing \"تصنيف:بوابة\"\n",
        "  current_article_filtered_categories = [s for s in current_article_categories_list if 'تصنيف:بوابة' in s]\n",
        "\n",
        "  # cleaned_list = [s.replace('/مقالات متعلقة', '') for s in filtered_list]\n",
        "  current_article_cleaned_categories = [s.replace('تصنيف:بوابة', '').replace('/مقالات متعلقة', '').strip() for s in current_article_filtered_categories]\n",
        "\n",
        "  categories_list.append(current_article_cleaned_categories)\n",
        "\n",
        "\n",
        "\n",
        "\n",
        "\n",
        "\n",
        "\n",
        "\n",
        "  page_title = current_article.title\n",
        "\n",
        "  # Encode the URL components\n",
        "  # lang = urllib.parse.quote(lang)\n",
        "  encoded_page_title = urllib.parse.quote(page_title)\n",
        "\n",
        "  encoded_api_url = f'https://{lang}.wikipedia.org/w/api.php?action=query&prop=pageimages&format=json&piprop=original&titles={encoded_page_title}'\n",
        "\n",
        "  resp = urllib.request.urlopen(encoded_api_url)\n",
        "  resp_bytes = resp.read()\n",
        "  data = json.loads(resp_bytes)\n",
        "\n",
        "\n",
        "\n",
        "  # Define the title you want to find\n",
        "  # desired_title = page.title\n",
        "\n",
        "  # Initialize image URL as None\n",
        "  image_url = None\n",
        "\n",
        "  # Search for the title in the JSON data\n",
        "  for page_id, page_info in data['query']['pages'].items():\n",
        "      print(page_info, '\\n')\n",
        "      if page_info['title'] == page_title:\n",
        "          image_url = page_info['original']['source']\n",
        "          break  # Stop searching once the title is found\n",
        "\n",
        "  # Print the image URL if found\n",
        "  if image_url:\n",
        "      print(image_url)\n",
        "  else:\n",
        "      print(f\"Title '{page_title}' not found in the JSON data.\")\n",
        "\n",
        "\n",
        "\n",
        "\n",
        "\n",
        "\n",
        "\n",
        "\n",
        "\n",
        "\n",
        "\n",
        "\n"
      ],
      "metadata": {
        "id": "Qj7Me3g-OHtu"
      },
      "execution_count": null,
      "outputs": []
    },
    {
      "cell_type": "code",
      "source": [
        "len(image_urls)\n"
      ],
      "metadata": {
        "id": "SIqDVXPrGO35"
      },
      "execution_count": null,
      "outputs": []
    },
    {
      "cell_type": "code",
      "source": [
        "image_urls"
      ],
      "metadata": {
        "id": "6VP-35zJHaOt"
      },
      "execution_count": null,
      "outputs": []
    },
    {
      "cell_type": "code",
      "source": [
        "\n",
        "# Search for the title in the JSON data\n",
        "for page_id, page_info in data.get('query', {}).get('pages', {}).items():\n",
        "    if 'title' in page_info and page_info['title'] == desired_title:\n",
        "        original_info = page_info.get('original', {})\n",
        "        if 'source' in original_info:\n",
        "            image_url = original_info['source']\n",
        "            break  # Stop searching once the title is found\n",
        "\n",
        "# Print the image URL if found\n",
        "if image_url:\n",
        "    print(image_url)\n",
        "else:\n",
        "    print(f\"Title '{desired_title}' not found in the JSON data or missing 'original' data.\")"
      ],
      "metadata": {
        "id": "lrgz6yH8-Fp8"
      },
      "execution_count": null,
      "outputs": []
    },
    {
      "cell_type": "code",
      "source": [
        "len(content_list)"
      ],
      "metadata": {
        "id": "h5xLwLo0QqL4"
      },
      "execution_count": null,
      "outputs": []
    },
    {
      "cell_type": "code",
      "source": [
        "urls_list"
      ],
      "metadata": {
        "id": "tYuaUlbuR6vb"
      },
      "execution_count": null,
      "outputs": []
    },
    {
      "cell_type": "code",
      "source": [
        "categories_list"
      ],
      "metadata": {
        "id": "ZC_KF7U1w6GJ"
      },
      "execution_count": null,
      "outputs": []
    },
    {
      "cell_type": "code",
      "source": [],
      "metadata": {
        "id": "1o5qRsmj3vbT"
      },
      "execution_count": null,
      "outputs": []
    },
    {
      "cell_type": "code",
      "source": [],
      "metadata": {
        "id": "zWVBwg5P3veE"
      },
      "execution_count": null,
      "outputs": []
    },
    {
      "cell_type": "code",
      "source": [],
      "metadata": {
        "id": "o9DTKU9Kw6Ih"
      },
      "execution_count": null,
      "outputs": []
    },
    {
      "cell_type": "code",
      "source": [],
      "metadata": {
        "id": "2sdjqHL8w6Lh"
      },
      "execution_count": null,
      "outputs": []
    },
    {
      "cell_type": "code",
      "source": [],
      "metadata": {
        "id": "kmwjWVaww6Nv"
      },
      "execution_count": null,
      "outputs": []
    },
    {
      "cell_type": "code",
      "source": [
        "print(wikipedia.summary(\"COVID-19 pandemic\"))"
      ],
      "metadata": {
        "id": "ANQwbuUY1GB9"
      },
      "execution_count": null,
      "outputs": []
    },
    {
      "cell_type": "code",
      "source": [
        "page = wikipedia.page(\"Manchester City F.C.\")\n",
        "page"
      ],
      "metadata": {
        "id": "hrB7-n8416QC"
      },
      "execution_count": null,
      "outputs": []
    },
    {
      "cell_type": "code",
      "source": [
        "page.title"
      ],
      "metadata": {
        "id": "MUZYBqmd2Gko"
      },
      "execution_count": null,
      "outputs": []
    },
    {
      "cell_type": "code",
      "source": [
        "page.url"
      ],
      "metadata": {
        "id": "t4gYsZbv2On7"
      },
      "execution_count": null,
      "outputs": []
    },
    {
      "cell_type": "code",
      "source": [
        "page.content"
      ],
      "metadata": {
        "id": "-RfZumic2baP"
      },
      "execution_count": null,
      "outputs": []
    },
    {
      "cell_type": "code",
      "source": [
        "page.summary"
      ],
      "metadata": {
        "id": "Ys2C7k722dMs"
      },
      "execution_count": null,
      "outputs": []
    },
    {
      "cell_type": "code",
      "source": [
        "page.images"
      ],
      "metadata": {
        "id": "J1VHrYg42iHk"
      },
      "execution_count": null,
      "outputs": []
    },
    {
      "cell_type": "code",
      "source": [
        "# get the links that Wikipedia used as a reference from different websites or research\n",
        "page.links"
      ],
      "metadata": {
        "id": "Ho2PJe033Tnz"
      },
      "execution_count": null,
      "outputs": []
    },
    {
      "cell_type": "code",
      "source": [
        "page.categories"
      ],
      "metadata": {
        "id": "B9L_EvQE3pSn"
      },
      "execution_count": null,
      "outputs": []
    },
    {
      "cell_type": "code",
      "source": [
        "page.sections"
      ],
      "metadata": {
        "id": "Ce2-Tul-3rKH"
      },
      "execution_count": null,
      "outputs": []
    },
    {
      "cell_type": "code",
      "source": [
        "page = wikipedia.page(\"الحسين بن عبد الله الثاني\")\n",
        "page"
      ],
      "metadata": {
        "id": "3Ocq-DAb4pD0"
      },
      "execution_count": null,
      "outputs": []
    },
    {
      "cell_type": "code",
      "source": [
        "page.images"
      ],
      "metadata": {
        "id": "EbzG9pGw4u1L"
      },
      "execution_count": null,
      "outputs": []
    },
    {
      "cell_type": "code",
      "source": [
        "page.categories"
      ],
      "metadata": {
        "id": "H-AAFetJ4-SO"
      },
      "execution_count": null,
      "outputs": []
    },
    {
      "cell_type": "code",
      "source": [
        "import spacy\n",
        "from spacy import displacy\n",
        "\n",
        "NER = spacy.load(\"en_core_web_sm\")\n",
        "\n",
        "# Now, we enter our sample text which we shall be testing. The text has been taken from the Wikipedia page of ISRO.\n",
        "\n",
        "raw_text=\"The Indian Space Research Organisation or is the national space agency of India, headquartered in Bengaluru. It operates under Department of Space which is directly overseen by the Prime Minister of India while Chairman of ISRO acts as executive of DOS as well.\"\n",
        "\n",
        "text1= NER(raw_text)\n",
        "text1"
      ],
      "metadata": {
        "id": "SKrTo4Jj79Q4"
      },
      "execution_count": null,
      "outputs": []
    },
    {
      "cell_type": "code",
      "source": [
        "for word in text1.ents:\n",
        "    print(word.text, word.label_)"
      ],
      "metadata": {
        "id": "clpoEsQz8TGw"
      },
      "execution_count": null,
      "outputs": []
    },
    {
      "cell_type": "code",
      "source": [
        "page.summary"
      ],
      "metadata": {
        "id": "lrzoIeGY8hx0"
      },
      "execution_count": null,
      "outputs": []
    },
    {
      "cell_type": "code",
      "source": [],
      "metadata": {
        "id": "b-2E5xim9vDc"
      },
      "execution_count": null,
      "outputs": []
    },
    {
      "cell_type": "code",
      "source": [
        "en_summary = 'Day of Arafah. Al-Hussein bin Abdullah II bin Al-Hussein (June 28, 1994 / Muharram 19, 1415 AH), Crown Prince of the Hashemite Kingdom of Jordan since July 2, 2009, is (according to the line of succession to the Jordanian throne) the heir apparent to the throne of the Hashemite Kingdom of Jordan after his father, King Abdullah. the second. Prince Hussein is a member of the Hashemite family that has ruled Jordan since 1921 and whose lineage goes back to Hassan bin Ali bin Abi Talib, the grandson of the Prophet Muhammad from his daughter Fatima Al-Zahra.'\n",
        "\n",
        "text1= NER(en_summary)\n",
        "for word in text1.ents:\n",
        "    print(word.text, word.label_)"
      ],
      "metadata": {
        "id": "W9hJwuoE8qw7"
      },
      "execution_count": null,
      "outputs": []
    },
    {
      "cell_type": "code",
      "source": [
        "displacy.render(text1,style=\"ent\",jupyter=True)"
      ],
      "metadata": {
        "id": "YcEpLRi3-3_H"
      },
      "execution_count": null,
      "outputs": []
    },
    {
      "cell_type": "code",
      "source": [
        "spacy.explain(\"GPE\")"
      ],
      "metadata": {
        "id": "VRs59yze_ZAn"
      },
      "execution_count": null,
      "outputs": []
    },
    {
      "cell_type": "code",
      "source": [
        "spacy.explain(\"ORDINAL\")"
      ],
      "metadata": {
        "id": "-dTLFnh__ff4"
      },
      "execution_count": null,
      "outputs": []
    },
    {
      "cell_type": "code",
      "source": [
        "spacy.explain(\"NORP\")"
      ],
      "metadata": {
        "id": "YZvfL4da_jLw"
      },
      "execution_count": null,
      "outputs": []
    },
    {
      "cell_type": "code",
      "source": [
        "spacy.explain(\"ORG\")"
      ],
      "metadata": {
        "id": "Bp-jQg_18fJl"
      },
      "execution_count": null,
      "outputs": []
    },
    {
      "cell_type": "code",
      "source": [
        "spacy.explain(\"WORK_OF_ART\")"
      ],
      "metadata": {
        "id": "k3EK3P3X8a0P"
      },
      "execution_count": null,
      "outputs": []
    },
    {
      "cell_type": "code",
      "source": [
        "spacy.explain(\"PERSON\")"
      ],
      "metadata": {
        "id": "EbkElGDi_QuF"
      },
      "execution_count": null,
      "outputs": []
    },
    {
      "cell_type": "code",
      "source": [
        "en_summary = 'Salat al-Istikhaara (Arabic: صلاة الاستخارة), which translates to Prayer of Seeking Counsel, is a prayer recited by Muslims who are in need of guidance from God Almighty (Allah) when facing a decision in their life. The prayer, known as salah in Arabic is performed in two units of prayer or rakaah followed by the supplication of Salat al-Istikhaara. '\n",
        "\n",
        "text1= NER(en_summary)\n",
        "for word in text1.ents:\n",
        "    print(word.text, word.label_)"
      ],
      "metadata": {
        "id": "DZ68bkyd_5hX"
      },
      "execution_count": null,
      "outputs": []
    },
    {
      "cell_type": "code",
      "source": [],
      "metadata": {
        "id": "Rl7IJX3tAm8W"
      },
      "execution_count": null,
      "outputs": []
    },
    {
      "cell_type": "code",
      "source": [
        "displacy.render(text1,style=\"ent\",jupyter=True)"
      ],
      "metadata": {
        "id": "tLQ55dkHAGGI"
      },
      "execution_count": null,
      "outputs": []
    },
    {
      "cell_type": "code",
      "source": [
        "en_summary = 'El Clásico (in Spanish, also in lowercase letters;[1] Spanish pronunciation: [el ˈklasiko]) or El Clàssic (in Catalan,[2] pronounced [əl ˈklasik]), both meaning \"The Classic\", is the name given to any football match between rival clubs Barcelona and Real Madrid. Originally referring to competitions held in the Spanish championship, the term now includes every match between the clubs, such as those in the UEFA Champions League, Supercopa de España and Copa del Rey. It is considered one of the biggest club football games in the world and is among the most viewed annual sporting events.[3][4][5][6] A fixture known for its intensity, it has featured memorable goal celebrations from both teams, often involving mockery from both sides.[7] '\n",
        "\n",
        "text1= NER(en_summary)\n",
        "for word in text1.ents:\n",
        "    print(word.text, word.label_)"
      ],
      "metadata": {
        "id": "MbdoQc1FAn1u"
      },
      "execution_count": null,
      "outputs": []
    },
    {
      "cell_type": "code",
      "source": [
        "en_summary = 'Ashura (Arabic: عَاشُورَاء, ʿĀshūrāʾ, [ʕaːʃuːˈraːʔ]) is a day of commemoration in Islam. It occurs annually on the tenth of Muharram, the first month of the Islamic calendar. For Sunni Muslims, Ashura marks the parting of the Red Sea by Moses and the salvation of the Israelites. Also on this day, Noah disembarked from the Ark, God forgave Adam, and Joseph was released from prison, among various other auspicious events on Ashura in Sunni tradition. Ashura is celebrated in Sunni Islam through supererogatory fasting and other acceptable expressions of joy. In some Sunni communities, the annual Ashura festivities include carnivals, bonfires, and special dishes, even though some Sunni scholars have criticized such practices. '\n",
        "en_summary = 'Ashura'\n",
        "\n",
        "text1= NER(en_summary)\n",
        "for word in text1.ents:\n",
        "    print(word.text, word.label_)"
      ],
      "metadata": {
        "id": "BalHvvy5E5_A"
      },
      "execution_count": null,
      "outputs": []
    },
    {
      "cell_type": "code",
      "source": [
        "displacy.render(text1,style=\"ent\",jupyter=True)"
      ],
      "metadata": {
        "id": "iH_Tns_BFCnf"
      },
      "execution_count": null,
      "outputs": []
    }
  ]
}